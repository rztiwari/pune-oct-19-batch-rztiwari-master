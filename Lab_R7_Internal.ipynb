{
  "nbformat": 4,
  "nbformat_minor": 0,
  "metadata": {
    "colab": {
      "name": "Questions_Internal_R7_AIML_Labs.ipynb",
      "provenance": [],
      "collapsed_sections": []
    },
    "kernelspec": {
      "display_name": "Python 3",
      "language": "python",
      "name": "python3"
    },
    "language_info": {
      "codemirror_mode": {
        "name": "ipython",
        "version": 3
      },
      "file_extension": ".py",
      "mimetype": "text/x-python",
      "name": "python",
      "nbconvert_exporter": "python",
      "pygments_lexer": "ipython3",
      "version": "3.7.2"
    },
    "accelerator": "GPU"
  },
  "cells": [
    {
      "cell_type": "markdown",
      "metadata": {
        "colab_type": "text",
        "id": "YeoiMbH7djEv"
      },
      "source": [
        "# Stock prices dataset\n",
        "The data is of tock exchange's stock listings for each trading day of 2010 to 2016.\n",
        "\n",
        "## Description\n",
        "A brief description of columns.\n",
        "- open: The opening market price of the equity symbol on the date\n",
        "- high: The highest market price of the equity symbol on the date\n",
        "- low: The lowest recorded market price of the equity symbol on the date\n",
        "- close: The closing recorded price of the equity symbol on the date\n",
        "- symbol: Symbol of the listed company\n",
        "- volume: Total traded volume of the equity symbol on the date\n",
        "- date: Date of record"
      ]
    },
    {
      "cell_type": "markdown",
      "metadata": {
        "colab_type": "text",
        "id": "RSoYY2nII_UW"
      },
      "source": [
        "In this assignment, we will work on the stock prices dataset named \"prices.csv\". Task is to create a Neural Network to classify closing price for a stock based on some parameters."
      ]
    },
    {
      "cell_type": "code",
      "metadata": {
        "colab_type": "code",
        "id": "PGqq9f8VdLba",
        "colab": {}
      },
      "source": [
        "# Initialize the random number generator\n",
        "import random\n",
        "random.seed(0)\n",
        "\n",
        "# Ignore the warnings\n",
        "import warnings\n",
        "warnings.filterwarnings(\"ignore\")"
      ],
      "execution_count": 166,
      "outputs": []
    },
    {
      "cell_type": "markdown",
      "metadata": {
        "colab_type": "text",
        "id": "_88voqAH-O6J"
      },
      "source": [
        "## Question 1"
      ]
    },
    {
      "cell_type": "markdown",
      "metadata": {
        "colab_type": "text",
        "id": "dRHCeJqP-evf"
      },
      "source": [
        "### Load the data\n",
        "- load the csv file and read it using pandas\n",
        "- file name is prices.csv"
      ]
    },
    {
      "cell_type": "code",
      "metadata": {
        "colab_type": "code",
        "id": "cKVH5v7r-RmC",
        "colab": {}
      },
      "source": [
        "# run this cell to upload file using GUI if you are using google colab\n",
        "\n",
        "# from google.colab import files\n",
        "# files.upload()"
      ],
      "execution_count": 167,
      "outputs": []
    },
    {
      "cell_type": "code",
      "metadata": {
        "colab_type": "code",
        "id": "Gr4YcffYd1FQ",
        "colab": {
          "base_uri": "https://localhost:8080/",
          "height": 35
        },
        "outputId": "b479317a-9284-4e21-f3ce-50ef8462db63"
      },
      "source": [
        "# run this cell to to mount the google drive if you are using google colab\n",
        "\n",
        "from google.colab import drive\n",
        "drive.mount('/content/drive')\n",
        "project_path = '/content/drive/My Drive/assignments/'"
      ],
      "execution_count": 209,
      "outputs": [
        {
          "output_type": "stream",
          "text": [
            "Drive already mounted at /content/drive; to attempt to forcibly remount, call drive.mount(\"/content/drive\", force_remount=True).\n"
          ],
          "name": "stdout"
        }
      ]
    },
    {
      "cell_type": "code",
      "metadata": {
        "id": "poIEyxX4CB2b",
        "colab_type": "code",
        "colab": {}
      },
      "source": [
        "import numpy as np\n",
        "import pandas as pd\n",
        "from scipy import stats\n",
        "from sklearn import metrics\n",
        "from sklearn import preprocessing\n",
        "from matplotlib import pyplot as plt\n",
        "import seaborn as sns\n",
        "from sklearn.model_selection import train_test_split\n",
        "from sklearn.preprocessing import StandardScaler"
      ],
      "execution_count": 210,
      "outputs": []
    },
    {
      "cell_type": "code",
      "metadata": {
        "id": "dH-wS2L-II0U",
        "colab_type": "code",
        "colab": {}
      },
      "source": [
        "#Loading data\n",
        "prices = pd.read_csv(project_path + \"prices.csv\")"
      ],
      "execution_count": 211,
      "outputs": []
    },
    {
      "cell_type": "code",
      "metadata": {
        "id": "kwFCfoguIW65",
        "colab_type": "code",
        "colab": {
          "base_uri": "https://localhost:8080/",
          "height": 202
        },
        "outputId": "1a23beb3-4ede-4098-c8b4-839b1f106406"
      },
      "source": [
        "prices.head()"
      ],
      "execution_count": 212,
      "outputs": [
        {
          "output_type": "execute_result",
          "data": {
            "text/html": [
              "<div>\n",
              "<style scoped>\n",
              "    .dataframe tbody tr th:only-of-type {\n",
              "        vertical-align: middle;\n",
              "    }\n",
              "\n",
              "    .dataframe tbody tr th {\n",
              "        vertical-align: top;\n",
              "    }\n",
              "\n",
              "    .dataframe thead th {\n",
              "        text-align: right;\n",
              "    }\n",
              "</style>\n",
              "<table border=\"1\" class=\"dataframe\">\n",
              "  <thead>\n",
              "    <tr style=\"text-align: right;\">\n",
              "      <th></th>\n",
              "      <th>date</th>\n",
              "      <th>symbol</th>\n",
              "      <th>open</th>\n",
              "      <th>close</th>\n",
              "      <th>low</th>\n",
              "      <th>high</th>\n",
              "      <th>volume</th>\n",
              "    </tr>\n",
              "  </thead>\n",
              "  <tbody>\n",
              "    <tr>\n",
              "      <th>0</th>\n",
              "      <td>2016-01-05 00:00:00</td>\n",
              "      <td>WLTW</td>\n",
              "      <td>123.430000</td>\n",
              "      <td>125.839996</td>\n",
              "      <td>122.309998</td>\n",
              "      <td>126.250000</td>\n",
              "      <td>2163600.0</td>\n",
              "    </tr>\n",
              "    <tr>\n",
              "      <th>1</th>\n",
              "      <td>2016-01-06 00:00:00</td>\n",
              "      <td>WLTW</td>\n",
              "      <td>125.239998</td>\n",
              "      <td>119.980003</td>\n",
              "      <td>119.940002</td>\n",
              "      <td>125.540001</td>\n",
              "      <td>2386400.0</td>\n",
              "    </tr>\n",
              "    <tr>\n",
              "      <th>2</th>\n",
              "      <td>2016-01-07 00:00:00</td>\n",
              "      <td>WLTW</td>\n",
              "      <td>116.379997</td>\n",
              "      <td>114.949997</td>\n",
              "      <td>114.930000</td>\n",
              "      <td>119.739998</td>\n",
              "      <td>2489500.0</td>\n",
              "    </tr>\n",
              "    <tr>\n",
              "      <th>3</th>\n",
              "      <td>2016-01-08 00:00:00</td>\n",
              "      <td>WLTW</td>\n",
              "      <td>115.480003</td>\n",
              "      <td>116.620003</td>\n",
              "      <td>113.500000</td>\n",
              "      <td>117.440002</td>\n",
              "      <td>2006300.0</td>\n",
              "    </tr>\n",
              "    <tr>\n",
              "      <th>4</th>\n",
              "      <td>2016-01-11 00:00:00</td>\n",
              "      <td>WLTW</td>\n",
              "      <td>117.010002</td>\n",
              "      <td>114.970001</td>\n",
              "      <td>114.089996</td>\n",
              "      <td>117.330002</td>\n",
              "      <td>1408600.0</td>\n",
              "    </tr>\n",
              "  </tbody>\n",
              "</table>\n",
              "</div>"
            ],
            "text/plain": [
              "                  date symbol        open  ...         low        high     volume\n",
              "0  2016-01-05 00:00:00   WLTW  123.430000  ...  122.309998  126.250000  2163600.0\n",
              "1  2016-01-06 00:00:00   WLTW  125.239998  ...  119.940002  125.540001  2386400.0\n",
              "2  2016-01-07 00:00:00   WLTW  116.379997  ...  114.930000  119.739998  2489500.0\n",
              "3  2016-01-08 00:00:00   WLTW  115.480003  ...  113.500000  117.440002  2006300.0\n",
              "4  2016-01-11 00:00:00   WLTW  117.010002  ...  114.089996  117.330002  1408600.0\n",
              "\n",
              "[5 rows x 7 columns]"
            ]
          },
          "metadata": {
            "tags": []
          },
          "execution_count": 212
        }
      ]
    },
    {
      "cell_type": "code",
      "metadata": {
        "id": "kqjd0ndMIaTp",
        "colab_type": "code",
        "colab": {
          "base_uri": "https://localhost:8080/",
          "height": 35
        },
        "outputId": "39e79a0c-fc0b-4f49-ba68-39450c48feb8"
      },
      "source": [
        "prices.shape"
      ],
      "execution_count": 213,
      "outputs": [
        {
          "output_type": "execute_result",
          "data": {
            "text/plain": [
              "(851264, 7)"
            ]
          },
          "metadata": {
            "tags": []
          },
          "execution_count": 213
        }
      ]
    },
    {
      "cell_type": "markdown",
      "metadata": {
        "colab_type": "text",
        "id": "HlLKVPVH_BCT"
      },
      "source": [
        "## Question 2"
      ]
    },
    {
      "cell_type": "markdown",
      "metadata": {
        "colab_type": "text",
        "id": "ZxoGynuBeO4t"
      },
      "source": [
        "### Drop null\n",
        "- Drop null values if any"
      ]
    },
    {
      "cell_type": "code",
      "metadata": {
        "id": "wfWLWZGRI_Ul",
        "colab_type": "code",
        "colab": {
          "base_uri": "https://localhost:8080/",
          "height": 156
        },
        "outputId": "608f28b6-fb27-4a8e-abff-54f2e3b4e253"
      },
      "source": [
        "prices.isnull().sum()"
      ],
      "execution_count": 214,
      "outputs": [
        {
          "output_type": "execute_result",
          "data": {
            "text/plain": [
              "date      0\n",
              "symbol    0\n",
              "open      0\n",
              "close     0\n",
              "low       0\n",
              "high      0\n",
              "volume    0\n",
              "dtype: int64"
            ]
          },
          "metadata": {
            "tags": []
          },
          "execution_count": 214
        }
      ]
    },
    {
      "cell_type": "markdown",
      "metadata": {
        "id": "dmpEkh2rJwu8",
        "colab_type": "text"
      },
      "source": [
        "No null values found in  the dataset in any of the columns."
      ]
    },
    {
      "cell_type": "code",
      "metadata": {
        "colab_type": "code",
        "id": "_yuwJJIeeUaD",
        "colab": {}
      },
      "source": [
        "prices.dropna(inplace=True) #Though no null value still drop null values"
      ],
      "execution_count": 215,
      "outputs": []
    },
    {
      "cell_type": "code",
      "metadata": {
        "id": "pSitZ06TKKjz",
        "colab_type": "code",
        "colab": {
          "base_uri": "https://localhost:8080/",
          "height": 35
        },
        "outputId": "3d305e3b-3190-44c9-d735-a0dc65e2ab44"
      },
      "source": [
        "prices.shape"
      ],
      "execution_count": 216,
      "outputs": [
        {
          "output_type": "execute_result",
          "data": {
            "text/plain": [
              "(851264, 7)"
            ]
          },
          "metadata": {
            "tags": []
          },
          "execution_count": 216
        }
      ]
    },
    {
      "cell_type": "markdown",
      "metadata": {
        "id": "Gx58ZuzEKN4I",
        "colab_type": "text"
      },
      "source": [
        "No column dropped."
      ]
    },
    {
      "cell_type": "markdown",
      "metadata": {
        "colab_type": "text",
        "id": "9J4BlzVA_gZd"
      },
      "source": [
        "### Drop columns\n",
        "- Now, we don't need \"date\", \"volume\" and \"symbol\" column\n",
        "- drop \"date\", \"volume\" and \"symbol\" column from the data\n"
      ]
    },
    {
      "cell_type": "code",
      "metadata": {
        "colab_type": "code",
        "id": "IKEK8aEE_Csx",
        "colab": {}
      },
      "source": [
        "prices.drop(['date', 'volume', 'symbol'], axis=1, inplace=True)"
      ],
      "execution_count": 217,
      "outputs": []
    },
    {
      "cell_type": "markdown",
      "metadata": {
        "colab_type": "text",
        "id": "cTPhO6v-AiZt"
      },
      "source": [
        "## Question 3"
      ]
    },
    {
      "cell_type": "markdown",
      "metadata": {
        "colab_type": "text",
        "id": "SsZXmF3NAkna"
      },
      "source": [
        "### Print the dataframe\n",
        "- print the modified dataframe"
      ]
    },
    {
      "cell_type": "code",
      "metadata": {
        "colab_type": "code",
        "id": "aKs04iIHAjxN",
        "colab": {
          "base_uri": "https://localhost:8080/",
          "height": 202
        },
        "outputId": "2a41a46d-aa1a-4255-fa0e-33bdcbd67e0a"
      },
      "source": [
        "prices.head()"
      ],
      "execution_count": 218,
      "outputs": [
        {
          "output_type": "execute_result",
          "data": {
            "text/html": [
              "<div>\n",
              "<style scoped>\n",
              "    .dataframe tbody tr th:only-of-type {\n",
              "        vertical-align: middle;\n",
              "    }\n",
              "\n",
              "    .dataframe tbody tr th {\n",
              "        vertical-align: top;\n",
              "    }\n",
              "\n",
              "    .dataframe thead th {\n",
              "        text-align: right;\n",
              "    }\n",
              "</style>\n",
              "<table border=\"1\" class=\"dataframe\">\n",
              "  <thead>\n",
              "    <tr style=\"text-align: right;\">\n",
              "      <th></th>\n",
              "      <th>open</th>\n",
              "      <th>close</th>\n",
              "      <th>low</th>\n",
              "      <th>high</th>\n",
              "    </tr>\n",
              "  </thead>\n",
              "  <tbody>\n",
              "    <tr>\n",
              "      <th>0</th>\n",
              "      <td>123.430000</td>\n",
              "      <td>125.839996</td>\n",
              "      <td>122.309998</td>\n",
              "      <td>126.250000</td>\n",
              "    </tr>\n",
              "    <tr>\n",
              "      <th>1</th>\n",
              "      <td>125.239998</td>\n",
              "      <td>119.980003</td>\n",
              "      <td>119.940002</td>\n",
              "      <td>125.540001</td>\n",
              "    </tr>\n",
              "    <tr>\n",
              "      <th>2</th>\n",
              "      <td>116.379997</td>\n",
              "      <td>114.949997</td>\n",
              "      <td>114.930000</td>\n",
              "      <td>119.739998</td>\n",
              "    </tr>\n",
              "    <tr>\n",
              "      <th>3</th>\n",
              "      <td>115.480003</td>\n",
              "      <td>116.620003</td>\n",
              "      <td>113.500000</td>\n",
              "      <td>117.440002</td>\n",
              "    </tr>\n",
              "    <tr>\n",
              "      <th>4</th>\n",
              "      <td>117.010002</td>\n",
              "      <td>114.970001</td>\n",
              "      <td>114.089996</td>\n",
              "      <td>117.330002</td>\n",
              "    </tr>\n",
              "  </tbody>\n",
              "</table>\n",
              "</div>"
            ],
            "text/plain": [
              "         open       close         low        high\n",
              "0  123.430000  125.839996  122.309998  126.250000\n",
              "1  125.239998  119.980003  119.940002  125.540001\n",
              "2  116.379997  114.949997  114.930000  119.739998\n",
              "3  115.480003  116.620003  113.500000  117.440002\n",
              "4  117.010002  114.970001  114.089996  117.330002"
            ]
          },
          "metadata": {
            "tags": []
          },
          "execution_count": 218
        }
      ]
    },
    {
      "cell_type": "code",
      "metadata": {
        "id": "3IJryNO7K8td",
        "colab_type": "code",
        "colab": {
          "base_uri": "https://localhost:8080/",
          "height": 202
        },
        "outputId": "2de11485-6550-4f28-fac4-4b84e9c03241"
      },
      "source": [
        "prices.tail()"
      ],
      "execution_count": 219,
      "outputs": [
        {
          "output_type": "execute_result",
          "data": {
            "text/html": [
              "<div>\n",
              "<style scoped>\n",
              "    .dataframe tbody tr th:only-of-type {\n",
              "        vertical-align: middle;\n",
              "    }\n",
              "\n",
              "    .dataframe tbody tr th {\n",
              "        vertical-align: top;\n",
              "    }\n",
              "\n",
              "    .dataframe thead th {\n",
              "        text-align: right;\n",
              "    }\n",
              "</style>\n",
              "<table border=\"1\" class=\"dataframe\">\n",
              "  <thead>\n",
              "    <tr style=\"text-align: right;\">\n",
              "      <th></th>\n",
              "      <th>open</th>\n",
              "      <th>close</th>\n",
              "      <th>low</th>\n",
              "      <th>high</th>\n",
              "    </tr>\n",
              "  </thead>\n",
              "  <tbody>\n",
              "    <tr>\n",
              "      <th>851259</th>\n",
              "      <td>103.309998</td>\n",
              "      <td>103.199997</td>\n",
              "      <td>102.849998</td>\n",
              "      <td>103.930000</td>\n",
              "    </tr>\n",
              "    <tr>\n",
              "      <th>851260</th>\n",
              "      <td>43.070000</td>\n",
              "      <td>43.040001</td>\n",
              "      <td>42.689999</td>\n",
              "      <td>43.310001</td>\n",
              "    </tr>\n",
              "    <tr>\n",
              "      <th>851261</th>\n",
              "      <td>53.639999</td>\n",
              "      <td>53.529999</td>\n",
              "      <td>53.270000</td>\n",
              "      <td>53.740002</td>\n",
              "    </tr>\n",
              "    <tr>\n",
              "      <th>851262</th>\n",
              "      <td>44.730000</td>\n",
              "      <td>45.450001</td>\n",
              "      <td>44.410000</td>\n",
              "      <td>45.590000</td>\n",
              "    </tr>\n",
              "    <tr>\n",
              "      <th>851263</th>\n",
              "      <td>54.200001</td>\n",
              "      <td>53.630001</td>\n",
              "      <td>53.389999</td>\n",
              "      <td>54.480000</td>\n",
              "    </tr>\n",
              "  </tbody>\n",
              "</table>\n",
              "</div>"
            ],
            "text/plain": [
              "              open       close         low        high\n",
              "851259  103.309998  103.199997  102.849998  103.930000\n",
              "851260   43.070000   43.040001   42.689999   43.310001\n",
              "851261   53.639999   53.529999   53.270000   53.740002\n",
              "851262   44.730000   45.450001   44.410000   45.590000\n",
              "851263   54.200001   53.630001   53.389999   54.480000"
            ]
          },
          "metadata": {
            "tags": []
          },
          "execution_count": 219
        }
      ]
    },
    {
      "cell_type": "markdown",
      "metadata": {
        "colab_type": "text",
        "id": "C8u_jlbABTip"
      },
      "source": [
        "### Get features and label from the dataset in separate variable\n",
        "- Let's separate labels and features now. We are going to predict the value for \"close\" column so that will be our label. Our features will be \"open\", \"low\", \"high\"\n",
        "- Take \"open\" \"low\", \"high\" columns as features\n",
        "- Take \"close\" column as label"
      ]
    },
    {
      "cell_type": "code",
      "metadata": {
        "colab_type": "code",
        "id": "xQjCMzUXBJbg",
        "colab": {}
      },
      "source": [
        "X = prices.drop('close', axis=1)\n",
        "y = prices.drop(['open', 'low', 'high'], axis=1)"
      ],
      "execution_count": 220,
      "outputs": []
    },
    {
      "cell_type": "code",
      "metadata": {
        "id": "pF1mnWHt-LSe",
        "colab_type": "code",
        "colab": {
          "base_uri": "https://localhost:8080/",
          "height": 202
        },
        "outputId": "9a874ceb-953d-41a4-b9d5-b4e589862e1b"
      },
      "source": [
        "X.head()"
      ],
      "execution_count": 221,
      "outputs": [
        {
          "output_type": "execute_result",
          "data": {
            "text/html": [
              "<div>\n",
              "<style scoped>\n",
              "    .dataframe tbody tr th:only-of-type {\n",
              "        vertical-align: middle;\n",
              "    }\n",
              "\n",
              "    .dataframe tbody tr th {\n",
              "        vertical-align: top;\n",
              "    }\n",
              "\n",
              "    .dataframe thead th {\n",
              "        text-align: right;\n",
              "    }\n",
              "</style>\n",
              "<table border=\"1\" class=\"dataframe\">\n",
              "  <thead>\n",
              "    <tr style=\"text-align: right;\">\n",
              "      <th></th>\n",
              "      <th>open</th>\n",
              "      <th>low</th>\n",
              "      <th>high</th>\n",
              "    </tr>\n",
              "  </thead>\n",
              "  <tbody>\n",
              "    <tr>\n",
              "      <th>0</th>\n",
              "      <td>123.430000</td>\n",
              "      <td>122.309998</td>\n",
              "      <td>126.250000</td>\n",
              "    </tr>\n",
              "    <tr>\n",
              "      <th>1</th>\n",
              "      <td>125.239998</td>\n",
              "      <td>119.940002</td>\n",
              "      <td>125.540001</td>\n",
              "    </tr>\n",
              "    <tr>\n",
              "      <th>2</th>\n",
              "      <td>116.379997</td>\n",
              "      <td>114.930000</td>\n",
              "      <td>119.739998</td>\n",
              "    </tr>\n",
              "    <tr>\n",
              "      <th>3</th>\n",
              "      <td>115.480003</td>\n",
              "      <td>113.500000</td>\n",
              "      <td>117.440002</td>\n",
              "    </tr>\n",
              "    <tr>\n",
              "      <th>4</th>\n",
              "      <td>117.010002</td>\n",
              "      <td>114.089996</td>\n",
              "      <td>117.330002</td>\n",
              "    </tr>\n",
              "  </tbody>\n",
              "</table>\n",
              "</div>"
            ],
            "text/plain": [
              "         open         low        high\n",
              "0  123.430000  122.309998  126.250000\n",
              "1  125.239998  119.940002  125.540001\n",
              "2  116.379997  114.930000  119.739998\n",
              "3  115.480003  113.500000  117.440002\n",
              "4  117.010002  114.089996  117.330002"
            ]
          },
          "metadata": {
            "tags": []
          },
          "execution_count": 221
        }
      ]
    },
    {
      "cell_type": "code",
      "metadata": {
        "id": "XeOGB7ZbQBE1",
        "colab_type": "code",
        "colab": {
          "base_uri": "https://localhost:8080/",
          "height": 202
        },
        "outputId": "dd059d95-9398-4184-8eeb-309ddd0c0827"
      },
      "source": [
        "y.head()"
      ],
      "execution_count": 222,
      "outputs": [
        {
          "output_type": "execute_result",
          "data": {
            "text/html": [
              "<div>\n",
              "<style scoped>\n",
              "    .dataframe tbody tr th:only-of-type {\n",
              "        vertical-align: middle;\n",
              "    }\n",
              "\n",
              "    .dataframe tbody tr th {\n",
              "        vertical-align: top;\n",
              "    }\n",
              "\n",
              "    .dataframe thead th {\n",
              "        text-align: right;\n",
              "    }\n",
              "</style>\n",
              "<table border=\"1\" class=\"dataframe\">\n",
              "  <thead>\n",
              "    <tr style=\"text-align: right;\">\n",
              "      <th></th>\n",
              "      <th>close</th>\n",
              "    </tr>\n",
              "  </thead>\n",
              "  <tbody>\n",
              "    <tr>\n",
              "      <th>0</th>\n",
              "      <td>125.839996</td>\n",
              "    </tr>\n",
              "    <tr>\n",
              "      <th>1</th>\n",
              "      <td>119.980003</td>\n",
              "    </tr>\n",
              "    <tr>\n",
              "      <th>2</th>\n",
              "      <td>114.949997</td>\n",
              "    </tr>\n",
              "    <tr>\n",
              "      <th>3</th>\n",
              "      <td>116.620003</td>\n",
              "    </tr>\n",
              "    <tr>\n",
              "      <th>4</th>\n",
              "      <td>114.970001</td>\n",
              "    </tr>\n",
              "  </tbody>\n",
              "</table>\n",
              "</div>"
            ],
            "text/plain": [
              "        close\n",
              "0  125.839996\n",
              "1  119.980003\n",
              "2  114.949997\n",
              "3  116.620003\n",
              "4  114.970001"
            ]
          },
          "metadata": {
            "tags": []
          },
          "execution_count": 222
        }
      ]
    },
    {
      "cell_type": "markdown",
      "metadata": {
        "colab_type": "text",
        "id": "6vGtnapgBIJm"
      },
      "source": [
        "## Question 4"
      ]
    },
    {
      "cell_type": "markdown",
      "metadata": {
        "colab_type": "text",
        "id": "8pZAKdJ5gcrm"
      },
      "source": [
        "### Create train and test sets\n",
        "- Split the data into training and testing"
      ]
    },
    {
      "cell_type": "code",
      "metadata": {
        "colab_type": "code",
        "id": "KalRqA6Rgqsn",
        "colab": {}
      },
      "source": [
        "X_train, X_test, y_train, y_test = train_test_split(X, y, test_size=0.30, random_state=42)"
      ],
      "execution_count": 224,
      "outputs": []
    },
    {
      "cell_type": "markdown",
      "metadata": {
        "colab_type": "text",
        "id": "aTAKzlxZBz0z"
      },
      "source": [
        "## Question 5"
      ]
    },
    {
      "cell_type": "markdown",
      "metadata": {
        "colab_type": "text",
        "id": "O7BU2qxEg0Ki"
      },
      "source": [
        "### Scaling\n",
        "- Scale the data (features only)\n",
        "- Use StandarScaler"
      ]
    },
    {
      "cell_type": "code",
      "metadata": {
        "colab_type": "code",
        "id": "AcO8SlhPhBkR",
        "colab": {}
      },
      "source": [
        "scaler = StandardScaler()"
      ],
      "execution_count": 225,
      "outputs": []
    },
    {
      "cell_type": "code",
      "metadata": {
        "id": "mHpbUNxDR0uR",
        "colab_type": "code",
        "colab": {}
      },
      "source": [
        "X_train_trans = scaler.fit_transform(X_train)\n",
        "X_test_trans = scaler.fit_transform(X_test)"
      ],
      "execution_count": 227,
      "outputs": []
    },
    {
      "cell_type": "code",
      "metadata": {
        "id": "-jfuSOi4SGE2",
        "colab_type": "code",
        "colab": {
          "base_uri": "https://localhost:8080/",
          "height": 35
        },
        "outputId": "00907f14-bf20-4784-95da-04a00302b756"
      },
      "source": [
        "X_train_trans.shape"
      ],
      "execution_count": 232,
      "outputs": [
        {
          "output_type": "execute_result",
          "data": {
            "text/plain": [
              "(595884, 3)"
            ]
          },
          "metadata": {
            "tags": []
          },
          "execution_count": 232
        }
      ]
    },
    {
      "cell_type": "code",
      "metadata": {
        "id": "ClqKsqrfAohf",
        "colab_type": "code",
        "colab": {
          "base_uri": "https://localhost:8080/",
          "height": 35
        },
        "outputId": "8633edaf-a768-4874-db0e-9600b157bddf"
      },
      "source": [
        "X_test_trans.shape"
      ],
      "execution_count": 231,
      "outputs": [
        {
          "output_type": "execute_result",
          "data": {
            "text/plain": [
              "(255380, 3)"
            ]
          },
          "metadata": {
            "tags": []
          },
          "execution_count": 231
        }
      ]
    },
    {
      "cell_type": "markdown",
      "metadata": {
        "colab_type": "text",
        "id": "3TWpN0nVTpUx"
      },
      "source": [
        "## Question 6"
      ]
    },
    {
      "cell_type": "markdown",
      "metadata": {
        "colab_type": "text",
        "id": "_sj0LYNkhR-L"
      },
      "source": [
        "### Convert data to NumPy array\n",
        "- Convert features and labels to numpy array"
      ]
    },
    {
      "cell_type": "code",
      "metadata": {
        "colab_type": "code",
        "id": "X6mIfuTxhbTT",
        "colab": {}
      },
      "source": [
        "X_train_trans = np.array(X_train_trans)\n",
        "X_test_trans = np.array(X_test_trans)"
      ],
      "execution_count": 233,
      "outputs": []
    },
    {
      "cell_type": "code",
      "metadata": {
        "id": "aFM9VnKMUlud",
        "colab_type": "code",
        "colab": {
          "base_uri": "https://localhost:8080/",
          "height": 35
        },
        "outputId": "db57ee65-eb7c-4e78-a3ef-c4043cd31587"
      },
      "source": [
        "X_train_trans.shape"
      ],
      "execution_count": 234,
      "outputs": [
        {
          "output_type": "execute_result",
          "data": {
            "text/plain": [
              "(595884, 3)"
            ]
          },
          "metadata": {
            "tags": []
          },
          "execution_count": 234
        }
      ]
    },
    {
      "cell_type": "code",
      "metadata": {
        "id": "Er2GCaMXUrfT",
        "colab_type": "code",
        "colab": {
          "base_uri": "https://localhost:8080/",
          "height": 35
        },
        "outputId": "f04275a2-6499-46eb-b516-5a48a4dbe4ac"
      },
      "source": [
        "X_test_trans.shape"
      ],
      "execution_count": 235,
      "outputs": [
        {
          "output_type": "execute_result",
          "data": {
            "text/plain": [
              "(255380, 3)"
            ]
          },
          "metadata": {
            "tags": []
          },
          "execution_count": 235
        }
      ]
    },
    {
      "cell_type": "code",
      "metadata": {
        "id": "aCvn-yZiak8j",
        "colab_type": "code",
        "colab": {}
      },
      "source": [
        "X_train_shaped = X_train_trans.reshape(X_train_trans.shape[0], X_train_trans.shape[1], 1)\n",
        "X_test_shaped = X_test_trans.reshape(X_test_trans.shape[0], X_test_trans.shape[1], 1)"
      ],
      "execution_count": 236,
      "outputs": []
    },
    {
      "cell_type": "code",
      "metadata": {
        "id": "5DfyhhzxBXb-",
        "colab_type": "code",
        "colab": {
          "base_uri": "https://localhost:8080/",
          "height": 35
        },
        "outputId": "3b011b91-1b61-41c4-a39f-ae3d7993cac0"
      },
      "source": [
        "X_train_shaped.shape"
      ],
      "execution_count": 241,
      "outputs": [
        {
          "output_type": "execute_result",
          "data": {
            "text/plain": [
              "(595884, 3, 1)"
            ]
          },
          "metadata": {
            "tags": []
          },
          "execution_count": 241
        }
      ]
    },
    {
      "cell_type": "markdown",
      "metadata": {
        "colab_type": "text",
        "id": "wmXUGc2oTspa"
      },
      "source": [
        "## Question 7"
      ]
    },
    {
      "cell_type": "markdown",
      "metadata": {
        "colab_type": "text",
        "id": "cl2M9whFh6mh"
      },
      "source": [
        "### Define Model\n",
        "- Initialize a Sequential model\n",
        "- Add a Flatten layer\n",
        "- Add a Dense layer with one neuron as output\n",
        "  - add 'linear' as activation function\n"
      ]
    },
    {
      "cell_type": "code",
      "metadata": {
        "colab_type": "code",
        "id": "TkiBpORmiegL",
        "colab": {}
      },
      "source": [
        "import tensorflow as tf\n",
        "from tensorflow import keras\n",
        "from tensorflow.keras import layers"
      ],
      "execution_count": 237,
      "outputs": []
    },
    {
      "cell_type": "code",
      "metadata": {
        "id": "TqkERyDBThr4",
        "colab_type": "code",
        "colab": {}
      },
      "source": [
        "model = keras.Sequential(\n",
        "    [\n",
        "        layers.Flatten(data_format=None),\n",
        "        layers.Dense(1, activation=\"linear\", name=\"layer1\")\n",
        "    ]\n",
        ")"
      ],
      "execution_count": 238,
      "outputs": []
    },
    {
      "cell_type": "markdown",
      "metadata": {
        "colab_type": "text",
        "id": "8a0wr94aTyjg"
      },
      "source": [
        "## Question 8"
      ]
    },
    {
      "cell_type": "markdown",
      "metadata": {
        "colab_type": "text",
        "id": "BNZPb5lKioX0"
      },
      "source": [
        "### Compile the model\n",
        "- Compile the model\n",
        "- Use \"sgd\" optimizer\n",
        "- for calculating loss, use mean squared error"
      ]
    },
    {
      "cell_type": "code",
      "metadata": {
        "colab_type": "code",
        "id": "ZEQUP3VaiuT2",
        "colab": {}
      },
      "source": [
        "model.compile(optimizer=\"sgd\", loss=\"MSE\")"
      ],
      "execution_count": 239,
      "outputs": []
    },
    {
      "cell_type": "markdown",
      "metadata": {
        "colab_type": "text",
        "id": "ZbBpnOtfT0wd"
      },
      "source": [
        "## Question 9"
      ]
    },
    {
      "cell_type": "markdown",
      "metadata": {
        "colab_type": "text",
        "id": "n9o45OHdjDhA"
      },
      "source": [
        "### Fit the model\n",
        "- epochs: 50\n",
        "- batch size: 128\n",
        "- specify validation data"
      ]
    },
    {
      "cell_type": "code",
      "metadata": {
        "colab_type": "code",
        "id": "-Y6tA30XjOH2",
        "colab": {
          "base_uri": "https://localhost:8080/",
          "height": 1000
        },
        "outputId": "5ad8e9a1-a42d-4d8f-e392-dbdff5709985"
      },
      "source": [
        "model.fit(x=X_train_shaped, y=y_train, batch_size=128, epochs=50, validation_data=(X_test_shaped, y_test))"
      ],
      "execution_count": 242,
      "outputs": [
        {
          "output_type": "stream",
          "text": [
            "Epoch 1/50\n",
            "4656/4656 [==============================] - 14s 3ms/step - loss: 42.1236 - val_loss: 3.7065\n",
            "Epoch 2/50\n",
            "4656/4656 [==============================] - 13s 3ms/step - loss: 0.9755 - val_loss: 3.3376\n",
            "Epoch 3/50\n",
            "4656/4656 [==============================] - 13s 3ms/step - loss: 0.9693 - val_loss: 3.2741\n",
            "Epoch 4/50\n",
            "4656/4656 [==============================] - 13s 3ms/step - loss: 0.9631 - val_loss: 3.0696\n",
            "Epoch 5/50\n",
            "4656/4656 [==============================] - 14s 3ms/step - loss: 0.9571 - val_loss: 3.1280\n",
            "Epoch 6/50\n",
            "4656/4656 [==============================] - 13s 3ms/step - loss: 0.9495 - val_loss: 3.8886\n",
            "Epoch 7/50\n",
            "4656/4656 [==============================] - 14s 3ms/step - loss: 0.9430 - val_loss: 4.1820\n",
            "Epoch 8/50\n",
            "4656/4656 [==============================] - 14s 3ms/step - loss: 0.9374 - val_loss: 3.4880\n",
            "Epoch 9/50\n",
            "4656/4656 [==============================] - 13s 3ms/step - loss: 0.9301 - val_loss: 3.5879\n",
            "Epoch 10/50\n",
            "4656/4656 [==============================] - 13s 3ms/step - loss: 0.9258 - val_loss: 3.1551\n",
            "Epoch 11/50\n",
            "4656/4656 [==============================] - 13s 3ms/step - loss: 0.9171 - val_loss: 3.4785\n",
            "Epoch 12/50\n",
            "4656/4656 [==============================] - 13s 3ms/step - loss: 0.9109 - val_loss: 2.9625\n",
            "Epoch 13/50\n",
            "4656/4656 [==============================] - 13s 3ms/step - loss: 0.9054 - val_loss: 3.1568\n",
            "Epoch 14/50\n",
            "4656/4656 [==============================] - 13s 3ms/step - loss: 0.9003 - val_loss: 3.4760\n",
            "Epoch 15/50\n",
            "4656/4656 [==============================] - 14s 3ms/step - loss: 0.8944 - val_loss: 3.6417\n",
            "Epoch 16/50\n",
            "4656/4656 [==============================] - 13s 3ms/step - loss: 0.8896 - val_loss: 3.8649\n",
            "Epoch 17/50\n",
            "4656/4656 [==============================] - 14s 3ms/step - loss: 0.8827 - val_loss: 3.3865\n",
            "Epoch 18/50\n",
            "4656/4656 [==============================] - 14s 3ms/step - loss: 0.8766 - val_loss: 3.3370\n",
            "Epoch 19/50\n",
            "4656/4656 [==============================] - 14s 3ms/step - loss: 0.8716 - val_loss: 3.1427\n",
            "Epoch 20/50\n",
            "4656/4656 [==============================] - 14s 3ms/step - loss: 0.8656 - val_loss: 3.0677\n",
            "Epoch 21/50\n",
            "4656/4656 [==============================] - 14s 3ms/step - loss: 0.8619 - val_loss: 3.4573\n",
            "Epoch 22/50\n",
            "4656/4656 [==============================] - 14s 3ms/step - loss: 0.8541 - val_loss: 3.1471\n",
            "Epoch 23/50\n",
            "4656/4656 [==============================] - 14s 3ms/step - loss: 0.8486 - val_loss: 3.0219\n",
            "Epoch 24/50\n",
            "4656/4656 [==============================] - 13s 3ms/step - loss: 0.8449 - val_loss: 3.0726\n",
            "Epoch 25/50\n",
            "4656/4656 [==============================] - 13s 3ms/step - loss: 0.8390 - val_loss: 3.1721\n",
            "Epoch 26/50\n",
            "4656/4656 [==============================] - 13s 3ms/step - loss: 0.8343 - val_loss: 3.7090\n",
            "Epoch 27/50\n",
            "4656/4656 [==============================] - 13s 3ms/step - loss: 0.8279 - val_loss: 3.5614\n",
            "Epoch 28/50\n",
            "4656/4656 [==============================] - 13s 3ms/step - loss: 0.8243 - val_loss: 3.4865\n",
            "Epoch 29/50\n",
            "4656/4656 [==============================] - 14s 3ms/step - loss: 0.8179 - val_loss: 3.2680\n",
            "Epoch 30/50\n",
            "4656/4656 [==============================] - 14s 3ms/step - loss: 0.8144 - val_loss: 3.2794\n",
            "Epoch 31/50\n",
            "4656/4656 [==============================] - 14s 3ms/step - loss: 0.8080 - val_loss: 3.5825\n",
            "Epoch 32/50\n",
            "4656/4656 [==============================] - 14s 3ms/step - loss: 0.8034 - val_loss: 3.6171\n",
            "Epoch 33/50\n",
            "4656/4656 [==============================] - 13s 3ms/step - loss: 0.7998 - val_loss: 3.5286\n",
            "Epoch 34/50\n",
            "4656/4656 [==============================] - 13s 3ms/step - loss: 0.7945 - val_loss: 3.6961\n",
            "Epoch 35/50\n",
            "4656/4656 [==============================] - 13s 3ms/step - loss: 0.7904 - val_loss: 3.0052\n",
            "Epoch 36/50\n",
            "4656/4656 [==============================] - 13s 3ms/step - loss: 0.7853 - val_loss: 3.1926\n",
            "Epoch 37/50\n",
            "4656/4656 [==============================] - 13s 3ms/step - loss: 0.7810 - val_loss: 2.6619\n",
            "Epoch 38/50\n",
            "4656/4656 [==============================] - 14s 3ms/step - loss: 0.7765 - val_loss: 3.3713\n",
            "Epoch 39/50\n",
            "4656/4656 [==============================] - 13s 3ms/step - loss: 0.7728 - val_loss: 3.0249\n",
            "Epoch 40/50\n",
            "4656/4656 [==============================] - 13s 3ms/step - loss: 0.7666 - val_loss: 3.6134\n",
            "Epoch 41/50\n",
            "4656/4656 [==============================] - 13s 3ms/step - loss: 0.7634 - val_loss: 3.2208\n",
            "Epoch 42/50\n",
            "4656/4656 [==============================] - 13s 3ms/step - loss: 0.7584 - val_loss: 3.3108\n",
            "Epoch 43/50\n",
            "4656/4656 [==============================] - 13s 3ms/step - loss: 0.7552 - val_loss: 3.4418\n",
            "Epoch 44/50\n",
            "4656/4656 [==============================] - 13s 3ms/step - loss: 0.7508 - val_loss: 3.0442\n",
            "Epoch 45/50\n",
            "4656/4656 [==============================] - 13s 3ms/step - loss: 0.7458 - val_loss: 3.4518\n",
            "Epoch 46/50\n",
            "4656/4656 [==============================] - 13s 3ms/step - loss: 0.7434 - val_loss: 3.0623\n",
            "Epoch 47/50\n",
            "4656/4656 [==============================] - 13s 3ms/step - loss: 0.7397 - val_loss: 3.4094\n",
            "Epoch 48/50\n",
            "4656/4656 [==============================] - 13s 3ms/step - loss: 0.7366 - val_loss: 3.1308\n",
            "Epoch 49/50\n",
            "4656/4656 [==============================] - 13s 3ms/step - loss: 0.7305 - val_loss: 3.4384\n",
            "Epoch 50/50\n",
            "4656/4656 [==============================] - 13s 3ms/step - loss: 0.7281 - val_loss: 3.1576\n"
          ],
          "name": "stdout"
        },
        {
          "output_type": "execute_result",
          "data": {
            "text/plain": [
              "<tensorflow.python.keras.callbacks.History at 0x7fe283c2a550>"
            ]
          },
          "metadata": {
            "tags": []
          },
          "execution_count": 242
        }
      ]
    },
    {
      "cell_type": "markdown",
      "metadata": {
        "colab_type": "text",
        "id": "AW4SEP8kT2ls"
      },
      "source": [
        "## Question 10"
      ]
    },
    {
      "cell_type": "markdown",
      "metadata": {
        "colab_type": "text",
        "id": "EJDoix_7JU61"
      },
      "source": [
        "### Evaluate the model\n",
        "- Evaluate the model on test data"
      ]
    },
    {
      "cell_type": "code",
      "metadata": {
        "colab_type": "code",
        "id": "HdH8pYBIjHGL",
        "colab": {
          "base_uri": "https://localhost:8080/",
          "height": 52
        },
        "outputId": "f5758c03-304f-4326-ff48-c82565051f5a"
      },
      "source": [
        "model.evaluate(x=X_test_shaped, y=y_test)"
      ],
      "execution_count": 243,
      "outputs": [
        {
          "output_type": "stream",
          "text": [
            "7981/7981 [==============================] - 14s 2ms/step - loss: 3.1576\n"
          ],
          "name": "stdout"
        },
        {
          "output_type": "execute_result",
          "data": {
            "text/plain": [
              "3.157562732696533"
            ]
          },
          "metadata": {
            "tags": []
          },
          "execution_count": 243
        }
      ]
    },
    {
      "cell_type": "markdown",
      "metadata": {
        "colab_type": "text",
        "id": "hUpDD74Xjh01"
      },
      "source": [
        "### Manual predictions\n",
        "- Test the predictions on manual inputs\n",
        "- We have scaled out training data, so we need to transform our custom inputs using the object of the scaler\n",
        "- Example of manual input: [123.430000,\t122.30999, 116.250000]"
      ]
    },
    {
      "cell_type": "code",
      "metadata": {
        "id": "aRJwpB8EiWGl",
        "colab_type": "code",
        "colab": {}
      },
      "source": [
        "manual = scaler.transform([[123.430000, 122.30999, 116.250000]])"
      ],
      "execution_count": 246,
      "outputs": []
    },
    {
      "cell_type": "code",
      "metadata": {
        "colab_type": "code",
        "id": "fvuH-c31lLiJ",
        "colab": {
          "base_uri": "https://localhost:8080/",
          "height": 35
        },
        "outputId": "9027ae2b-b4ef-404c-f0de-e1f3eb670f7b"
      },
      "source": [
        "model.predict(manual)"
      ],
      "execution_count": 247,
      "outputs": [
        {
          "output_type": "execute_result",
          "data": {
            "text/plain": [
              "array([[120.93991]], dtype=float32)"
            ]
          },
          "metadata": {
            "tags": []
          },
          "execution_count": 247
        }
      ]
    },
    {
      "cell_type": "markdown",
      "metadata": {
        "colab_type": "text",
        "id": "4WH1Pr4KQlCh"
      },
      "source": [
        "# Build a DNN"
      ]
    },
    {
      "cell_type": "markdown",
      "metadata": {
        "colab_type": "text",
        "id": "74cQBsi5QlCw"
      },
      "source": [
        "### Collect Fashion mnist data from tf.keras.datasets "
      ]
    },
    {
      "cell_type": "code",
      "metadata": {
        "colab_type": "code",
        "id": "wVWy0oDTr2Kj",
        "colab": {}
      },
      "source": [
        "import tensorflow as tf\n",
        "import numpy as np\n",
        "import matplotlib.pyplot as plt"
      ],
      "execution_count": 155,
      "outputs": []
    },
    {
      "cell_type": "code",
      "metadata": {
        "id": "8APgF10GlmVq",
        "colab_type": "code",
        "colab": {}
      },
      "source": [
        "# Load the fashion-mnist pre-shuffled train data and test data\n",
        "(X_train, y_train), (X_test, y_test) = tf.keras.datasets.fashion_mnist.load_data()"
      ],
      "execution_count": 156,
      "outputs": []
    },
    {
      "cell_type": "code",
      "metadata": {
        "id": "W3hOo00knIFi",
        "colab_type": "code",
        "colab": {
          "base_uri": "https://localhost:8080/",
          "height": 35
        },
        "outputId": "df280572-fe2d-4dc7-f250-08fb0c64bdbe"
      },
      "source": [
        "X_train.shape[0]"
      ],
      "execution_count": 157,
      "outputs": [
        {
          "output_type": "execute_result",
          "data": {
            "text/plain": [
              "60000"
            ]
          },
          "metadata": {
            "tags": []
          },
          "execution_count": 157
        }
      ]
    },
    {
      "cell_type": "code",
      "metadata": {
        "id": "nkNI1SNIndwy",
        "colab_type": "code",
        "colab": {}
      },
      "source": [
        "X_train = X_train.reshape(X_train.shape[0], 28*28) \n",
        "X_test = X_test.reshape(X_test.shape[0], 28*28) "
      ],
      "execution_count": 158,
      "outputs": []
    },
    {
      "cell_type": "markdown",
      "metadata": {
        "colab_type": "text",
        "id": "no7aWYZyQlC1"
      },
      "source": [
        "### Change train and test labels into one-hot vectors"
      ]
    },
    {
      "cell_type": "code",
      "metadata": {
        "id": "NvY5UnRvo4jc",
        "colab_type": "code",
        "colab": {}
      },
      "source": [
        "y_train = tf.keras.utils.to_categorical(y_train, num_classes)   # Converting the target into categorical which is stored as numeric\n",
        "y_test = tf.keras.utils.to_categorical(y_test, num_classes)   # Keras converst these into 1-hot coded vectors as these are lables "
      ],
      "execution_count": 163,
      "outputs": []
    },
    {
      "cell_type": "markdown",
      "metadata": {
        "colab_type": "text",
        "id": "QjNrRTdoQlC5"
      },
      "source": [
        "### Build the Graph"
      ]
    },
    {
      "cell_type": "markdown",
      "metadata": {
        "colab_type": "text",
        "id": "CDJ9DHVNQlC7"
      },
      "source": [
        "### Initialize model, reshape & normalize data"
      ]
    },
    {
      "cell_type": "code",
      "metadata": {
        "colab_type": "code",
        "id": "pCDQs_g1QlC8",
        "colab": {}
      },
      "source": [
        "\n",
        "X_train = X_train.astype('float32')      # Change the data type to float from integer (0 - 255)\n",
        "X_test = X_test.astype('float32')\n",
        "X_train /= 255                           # Scale the data between 0 and 1\n",
        "X_test /= 255\n",
        "\n",
        "num_classes = 10 #10 different categories of apperal\n"
      ],
      "execution_count": 159,
      "outputs": []
    },
    {
      "cell_type": "markdown",
      "metadata": {
        "colab_type": "text",
        "id": "kBGwTTilQlDD"
      },
      "source": [
        "### Add two fully connected layers with 200 and 100 neurons respectively with `relu` activations. Add a dropout layer with `p=0.25`"
      ]
    },
    {
      "cell_type": "code",
      "metadata": {
        "colab_type": "code",
        "id": "IXbfpfOzQlDF",
        "colab": {}
      },
      "source": [
        "model = keras.Sequential(\n",
        "    [\n",
        "        layers.Dense(200, activation=\"relu\", input_shape=(28*28,)),\n",
        "        layers.Dense(100, activation=\"relu\"),\n",
        "        layers.Dropout(rate=0.25)\n",
        "    ]\n",
        ")"
      ],
      "execution_count": 160,
      "outputs": []
    },
    {
      "cell_type": "markdown",
      "metadata": {
        "colab_type": "text",
        "id": "5I8f5otcQlDJ"
      },
      "source": [
        "### Add the output layer with a fully connected layer with 10 neurons with `softmax` activation. Use `categorical_crossentropy` loss and `adam` optimizer and train the network. And, report the final validation."
      ]
    },
    {
      "cell_type": "code",
      "metadata": {
        "colab_type": "code",
        "id": "JZkvKymSd0Sr",
        "colab": {}
      },
      "source": [
        "model.add(layers.Dense(num_classes, activation='softmax'))"
      ],
      "execution_count": 161,
      "outputs": []
    },
    {
      "cell_type": "code",
      "metadata": {
        "id": "EyQizUY0CB3r",
        "colab_type": "code",
        "colab": {
          "base_uri": "https://localhost:8080/",
          "height": 1000
        },
        "outputId": "19228691-b674-45e6-daab-00a68bb718da"
      },
      "source": [
        "batch_size = 200\n",
        "epochs = 400   # Setting up higher epoch in persuit of finding global moinima,\n",
        "model.compile(loss='categorical_crossentropy',\n",
        "              optimizer='adam',\n",
        "              metrics=['accuracy'])\n",
        "\n",
        "es = EarlyStopping(monitor='val_loss', mode='min', verbose=1, patience=5)   # Set up early stopping to avoid wastage of computing power\n",
        "                                                                            # Kept patience level to 5 to check for considerable time to get out of local minima if possible\n",
        "    \n",
        "history = model.fit(X_train, y_train,\n",
        "                    batch_size=batch_size,\n",
        "                    epochs=epochs,\n",
        "                    verbose=1,\n",
        "                    callbacks = [es],\n",
        "                    validation_data=(X_test, y_test)\n",
        "                    )\n",
        "\n",
        "\n",
        "score = model.evaluate(X_test, y_test, verbose=False)\n",
        "\n",
        "print()\n",
        "print ('Test loss:', round(score[0], 3))\n",
        "print ('Test accuracy:', round(score[1], 3))\n",
        "\n",
        "\n",
        "plt.plot(history.history['loss'])\n",
        "plt.plot(history.history['val_loss'])\n",
        "plt.title('model loss')\n",
        "plt.ylabel('loss')\n",
        "plt.xlabel('epoch')\n",
        "plt.legend(['train', 'test'], loc='upper left')"
      ],
      "execution_count": 164,
      "outputs": [
        {
          "output_type": "stream",
          "text": [
            "Epoch 1/400\n",
            "300/300 [==============================] - 1s 5ms/step - loss: 0.6022 - accuracy: 0.7904 - val_loss: 0.4355 - val_accuracy: 0.8418\n",
            "Epoch 2/400\n",
            "300/300 [==============================] - 1s 4ms/step - loss: 0.4060 - accuracy: 0.8548 - val_loss: 0.3941 - val_accuracy: 0.8564\n",
            "Epoch 3/400\n",
            "300/300 [==============================] - 1s 4ms/step - loss: 0.3631 - accuracy: 0.8695 - val_loss: 0.3844 - val_accuracy: 0.8615\n",
            "Epoch 4/400\n",
            "300/300 [==============================] - 1s 4ms/step - loss: 0.3331 - accuracy: 0.8789 - val_loss: 0.3596 - val_accuracy: 0.8710\n",
            "Epoch 5/400\n",
            "300/300 [==============================] - 1s 4ms/step - loss: 0.3142 - accuracy: 0.8839 - val_loss: 0.3479 - val_accuracy: 0.8719\n",
            "Epoch 6/400\n",
            "300/300 [==============================] - 1s 4ms/step - loss: 0.3008 - accuracy: 0.8899 - val_loss: 0.3494 - val_accuracy: 0.8719\n",
            "Epoch 7/400\n",
            "300/300 [==============================] - 1s 4ms/step - loss: 0.2892 - accuracy: 0.8934 - val_loss: 0.3393 - val_accuracy: 0.8775\n",
            "Epoch 8/400\n",
            "300/300 [==============================] - 1s 4ms/step - loss: 0.2770 - accuracy: 0.8974 - val_loss: 0.3290 - val_accuracy: 0.8791\n",
            "Epoch 9/400\n",
            "300/300 [==============================] - 1s 4ms/step - loss: 0.2662 - accuracy: 0.9004 - val_loss: 0.3513 - val_accuracy: 0.8739\n",
            "Epoch 10/400\n",
            "300/300 [==============================] - 1s 4ms/step - loss: 0.2574 - accuracy: 0.9045 - val_loss: 0.3243 - val_accuracy: 0.8826\n",
            "Epoch 11/400\n",
            "300/300 [==============================] - 1s 4ms/step - loss: 0.2495 - accuracy: 0.9072 - val_loss: 0.3439 - val_accuracy: 0.8758\n",
            "Epoch 12/400\n",
            "300/300 [==============================] - 1s 4ms/step - loss: 0.2442 - accuracy: 0.9086 - val_loss: 0.3364 - val_accuracy: 0.8847\n",
            "Epoch 13/400\n",
            "300/300 [==============================] - 1s 4ms/step - loss: 0.2342 - accuracy: 0.9120 - val_loss: 0.3462 - val_accuracy: 0.8763\n",
            "Epoch 14/400\n",
            "300/300 [==============================] - 1s 4ms/step - loss: 0.2287 - accuracy: 0.9136 - val_loss: 0.3101 - val_accuracy: 0.8896\n",
            "Epoch 15/400\n",
            "300/300 [==============================] - 1s 4ms/step - loss: 0.2228 - accuracy: 0.9159 - val_loss: 0.3211 - val_accuracy: 0.8888\n",
            "Epoch 16/400\n",
            "300/300 [==============================] - 1s 4ms/step - loss: 0.2161 - accuracy: 0.9194 - val_loss: 0.3302 - val_accuracy: 0.8831\n",
            "Epoch 17/400\n",
            "300/300 [==============================] - 1s 4ms/step - loss: 0.2135 - accuracy: 0.9198 - val_loss: 0.3136 - val_accuracy: 0.8914\n",
            "Epoch 18/400\n",
            "300/300 [==============================] - 1s 4ms/step - loss: 0.2027 - accuracy: 0.9222 - val_loss: 0.3308 - val_accuracy: 0.8892\n",
            "Epoch 19/400\n",
            "300/300 [==============================] - 1s 4ms/step - loss: 0.2015 - accuracy: 0.9232 - val_loss: 0.3450 - val_accuracy: 0.8852\n",
            "Epoch 00019: early stopping\n",
            "\n",
            "Test loss: 0.345\n",
            "Test accuracy: 0.885\n"
          ],
          "name": "stdout"
        },
        {
          "output_type": "execute_result",
          "data": {
            "text/plain": [
              "<matplotlib.legend.Legend at 0x7fe283afffd0>"
            ]
          },
          "metadata": {
            "tags": []
          },
          "execution_count": 164
        },
        {
          "output_type": "display_data",
          "data": {
            "image/png": "[encoded data removed]",
            "text/plain": [
              "<Figure size 432x288 with 1 Axes>"
            ]
          },
          "metadata": {
            "tags": [],
            "needs_background": "light"
          }
        }
      ]
    },
    {
      "cell_type": "code",
      "metadata": {
        "colab_type": "code",
        "id": "WSiMhJPpk3GO",
        "colab": {
          "base_uri": "https://localhost:8080/",
          "height": 35
        },
        "outputId": "4b3bf9d6-24b7-4140-9a98-29bfe1bc0a4d"
      },
      "source": [
        "model.evaluate(X_test, y_test, verbose=False)"
      ],
      "execution_count": 165,
      "outputs": [
        {
          "output_type": "execute_result",
          "data": {
            "text/plain": [
              "[0.3450450897216797, 0.885200023651123]"
            ]
          },
          "metadata": {
            "tags": []
          },
          "execution_count": 165
        }
      ]
    },
    {
      "cell_type": "code",
      "metadata": {
        "id": "jLXXSqt-zVff",
        "colab_type": "code",
        "colab": {}
      },
      "source": [
        ""
      ],
      "execution_count": null,
      "outputs": []
    }
  ]
}