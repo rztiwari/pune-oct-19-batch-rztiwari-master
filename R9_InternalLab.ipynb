{
  "nbformat": 4,
  "nbformat_minor": 0,
  "metadata": {
    "colab": {
      "name": "R9_InternalLab.ipynb",
      "provenance": [],
      "collapsed_sections": []
    },
    "kernelspec": {
      "name": "python3",
      "display_name": "Python 3"
    },
    "accelerator": "GPU"
  },
  "cells": [
    {
      "cell_type": "markdown",
      "metadata": {
        "id": "vXE926qT0jHg"
      },
      "source": [
        "# Time series prediction using LSTM"
      ]
    },
    {
      "cell_type": "markdown",
      "metadata": {
        "id": "54u8ql4Z4kBE"
      },
      "source": [
        "## Dataset\n",
        "- Daily minimum temperatures in Melbourne, Australia, 1981-1990\n",
        "- Units: Degrees Celcius"
      ]
    },
    {
      "cell_type": "markdown",
      "metadata": {
        "id": "IPkYyOzY77yl"
      },
      "source": [
        "## Question 1"
      ]
    },
    {
      "cell_type": "code",
      "metadata": {
        "id": "nyeBV2pc-qDZ"
      },
      "source": [
        "# All import statements.\n",
        "import tensorflow as tf\n",
        "import os\n",
        "import math\n",
        "import numpy as np\n",
        "import pandas as pd\n",
        "from scipy import stats\n",
        "from sklearn import metrics\n",
        "from sklearn import preprocessing\n",
        "from sklearn.preprocessing import MinMaxScaler\n",
        "from tensorflow.keras.models import Sequential\n",
        "from tensorflow.keras.layers import GRU, Dense\n",
        "from tensorflow.keras.layers import LSTM\n",
        "from tensorflow.keras  import callbacks\n",
        "from tensorflow.keras import optimizers\n",
        "from sklearn.metrics import mean_squared_error"
      ],
      "execution_count": 88,
      "outputs": []
    },
    {
      "cell_type": "markdown",
      "metadata": {
        "id": "aXEOY69f8B9d"
      },
      "source": [
        "### Load the data\n",
        "- load daily-minimum-temperatures-in-me.csv"
      ]
    },
    {
      "cell_type": "code",
      "metadata": {
        "id": "LA7R2II8-Jxh",
        "colab": {
          "base_uri": "https://localhost:8080/"
        },
        "outputId": "7e9b08bb-ea28-4f69-e6d9-fcb0b5ab735c"
      },
      "source": [
        "# run this cell to to mount the google drive if you are using google colab\n",
        "from google.colab import drive\n",
        "drive.mount('/content/drive')\n",
        "project_path = '/content/drive/My Drive/assignments/'"
      ],
      "execution_count": 2,
      "outputs": [
        {
          "output_type": "stream",
          "text": [
            "Mounted at /content/drive\n"
          ],
          "name": "stdout"
        }
      ]
    },
    {
      "cell_type": "code",
      "metadata": {
        "id": "c1jnvUdH_Ib-"
      },
      "source": [
        "data = pd.read_csv(project_path+'daily-minimum-temperatures-in-me.csv')"
      ],
      "execution_count": 4,
      "outputs": []
    },
    {
      "cell_type": "code",
      "metadata": {
        "colab": {
          "base_uri": "https://localhost:8080/",
          "height": 202
        },
        "id": "PjOHoGmy_3qU",
        "outputId": "70333adb-12d7-4a37-af12-02193e8b50d2"
      },
      "source": [
        "data.head()"
      ],
      "execution_count": 5,
      "outputs": [
        {
          "output_type": "execute_result",
          "data": {
            "text/html": [
              "<div>\n",
              "<style scoped>\n",
              "    .dataframe tbody tr th:only-of-type {\n",
              "        vertical-align: middle;\n",
              "    }\n",
              "\n",
              "    .dataframe tbody tr th {\n",
              "        vertical-align: top;\n",
              "    }\n",
              "\n",
              "    .dataframe thead th {\n",
              "        text-align: right;\n",
              "    }\n",
              "</style>\n",
              "<table border=\"1\" class=\"dataframe\">\n",
              "  <thead>\n",
              "    <tr style=\"text-align: right;\">\n",
              "      <th></th>\n",
              "      <th>Date</th>\n",
              "      <th>Temperature</th>\n",
              "    </tr>\n",
              "  </thead>\n",
              "  <tbody>\n",
              "    <tr>\n",
              "      <th>0</th>\n",
              "      <td>1981-01-01</td>\n",
              "      <td>20.7</td>\n",
              "    </tr>\n",
              "    <tr>\n",
              "      <th>1</th>\n",
              "      <td>1981-01-02</td>\n",
              "      <td>17.9</td>\n",
              "    </tr>\n",
              "    <tr>\n",
              "      <th>2</th>\n",
              "      <td>1981-01-03</td>\n",
              "      <td>18.8</td>\n",
              "    </tr>\n",
              "    <tr>\n",
              "      <th>3</th>\n",
              "      <td>1981-01-04</td>\n",
              "      <td>14.6</td>\n",
              "    </tr>\n",
              "    <tr>\n",
              "      <th>4</th>\n",
              "      <td>1981-01-05</td>\n",
              "      <td>15.8</td>\n",
              "    </tr>\n",
              "  </tbody>\n",
              "</table>\n",
              "</div>"
            ],
            "text/plain": [
              "         Date  Temperature\n",
              "0  1981-01-01         20.7\n",
              "1  1981-01-02         17.9\n",
              "2  1981-01-03         18.8\n",
              "3  1981-01-04         14.6\n",
              "4  1981-01-05         15.8"
            ]
          },
          "metadata": {
            "tags": []
          },
          "execution_count": 5
        }
      ]
    },
    {
      "cell_type": "markdown",
      "metadata": {
        "id": "pWcMgg69-T6k"
      },
      "source": [
        "### Print the data\n",
        "- First 5 rows only"
      ]
    },
    {
      "cell_type": "code",
      "metadata": {
        "id": "SM828gT_-Ra2",
        "colab": {
          "base_uri": "https://localhost:8080/",
          "height": 202
        },
        "outputId": "6fc01245-1efd-4795-8ff6-9642bb138dec"
      },
      "source": [
        "data.head(5)"
      ],
      "execution_count": 10,
      "outputs": [
        {
          "output_type": "execute_result",
          "data": {
            "text/html": [
              "<div>\n",
              "<style scoped>\n",
              "    .dataframe tbody tr th:only-of-type {\n",
              "        vertical-align: middle;\n",
              "    }\n",
              "\n",
              "    .dataframe tbody tr th {\n",
              "        vertical-align: top;\n",
              "    }\n",
              "\n",
              "    .dataframe thead th {\n",
              "        text-align: right;\n",
              "    }\n",
              "</style>\n",
              "<table border=\"1\" class=\"dataframe\">\n",
              "  <thead>\n",
              "    <tr style=\"text-align: right;\">\n",
              "      <th></th>\n",
              "      <th>Date</th>\n",
              "      <th>Temperature</th>\n",
              "    </tr>\n",
              "  </thead>\n",
              "  <tbody>\n",
              "    <tr>\n",
              "      <th>0</th>\n",
              "      <td>1981-01-01</td>\n",
              "      <td>20.7</td>\n",
              "    </tr>\n",
              "    <tr>\n",
              "      <th>1</th>\n",
              "      <td>1981-01-02</td>\n",
              "      <td>17.9</td>\n",
              "    </tr>\n",
              "    <tr>\n",
              "      <th>2</th>\n",
              "      <td>1981-01-03</td>\n",
              "      <td>18.8</td>\n",
              "    </tr>\n",
              "    <tr>\n",
              "      <th>3</th>\n",
              "      <td>1981-01-04</td>\n",
              "      <td>14.6</td>\n",
              "    </tr>\n",
              "    <tr>\n",
              "      <th>4</th>\n",
              "      <td>1981-01-05</td>\n",
              "      <td>15.8</td>\n",
              "    </tr>\n",
              "  </tbody>\n",
              "</table>\n",
              "</div>"
            ],
            "text/plain": [
              "         Date  Temperature\n",
              "0  1981-01-01         20.7\n",
              "1  1981-01-02         17.9\n",
              "2  1981-01-03         18.8\n",
              "3  1981-01-04         14.6\n",
              "4  1981-01-05         15.8"
            ]
          },
          "metadata": {
            "tags": []
          },
          "execution_count": 10
        }
      ]
    },
    {
      "cell_type": "markdown",
      "metadata": {
        "id": "JGnWESz9BKx8"
      },
      "source": [
        "### Set index column\n",
        "- Set the DataFrame index using \"Date\" column"
      ]
    },
    {
      "cell_type": "code",
      "metadata": {
        "id": "nFrbd_vd-eZP"
      },
      "source": [
        "data = data.set_index('Date')"
      ],
      "execution_count": 15,
      "outputs": []
    },
    {
      "cell_type": "code",
      "metadata": {
        "colab": {
          "base_uri": "https://localhost:8080/",
          "height": 233
        },
        "id": "TVAeth8pCzmI",
        "outputId": "d74dadbf-9c9f-40ec-ec5b-68fd4e2bae34"
      },
      "source": [
        "data.head()"
      ],
      "execution_count": 16,
      "outputs": [
        {
          "output_type": "execute_result",
          "data": {
            "text/html": [
              "<div>\n",
              "<style scoped>\n",
              "    .dataframe tbody tr th:only-of-type {\n",
              "        vertical-align: middle;\n",
              "    }\n",
              "\n",
              "    .dataframe tbody tr th {\n",
              "        vertical-align: top;\n",
              "    }\n",
              "\n",
              "    .dataframe thead th {\n",
              "        text-align: right;\n",
              "    }\n",
              "</style>\n",
              "<table border=\"1\" class=\"dataframe\">\n",
              "  <thead>\n",
              "    <tr style=\"text-align: right;\">\n",
              "      <th></th>\n",
              "      <th>Temperature</th>\n",
              "    </tr>\n",
              "    <tr>\n",
              "      <th>Date</th>\n",
              "      <th></th>\n",
              "    </tr>\n",
              "  </thead>\n",
              "  <tbody>\n",
              "    <tr>\n",
              "      <th>1981-01-01</th>\n",
              "      <td>20.7</td>\n",
              "    </tr>\n",
              "    <tr>\n",
              "      <th>1981-01-02</th>\n",
              "      <td>17.9</td>\n",
              "    </tr>\n",
              "    <tr>\n",
              "      <th>1981-01-03</th>\n",
              "      <td>18.8</td>\n",
              "    </tr>\n",
              "    <tr>\n",
              "      <th>1981-01-04</th>\n",
              "      <td>14.6</td>\n",
              "    </tr>\n",
              "    <tr>\n",
              "      <th>1981-01-05</th>\n",
              "      <td>15.8</td>\n",
              "    </tr>\n",
              "  </tbody>\n",
              "</table>\n",
              "</div>"
            ],
            "text/plain": [
              "            Temperature\n",
              "Date                   \n",
              "1981-01-01         20.7\n",
              "1981-01-02         17.9\n",
              "1981-01-03         18.8\n",
              "1981-01-04         14.6\n",
              "1981-01-05         15.8"
            ]
          },
          "metadata": {
            "tags": []
          },
          "execution_count": 16
        }
      ]
    },
    {
      "cell_type": "markdown",
      "metadata": {
        "id": "sS7IVXq7B1P1"
      },
      "source": [
        "## Question 2"
      ]
    },
    {
      "cell_type": "markdown",
      "metadata": {
        "id": "PcgAOybZCc5-"
      },
      "source": [
        "### Check the total count of null values in the data"
      ]
    },
    {
      "cell_type": "code",
      "metadata": {
        "id": "UTMe5jdCCj4k",
        "colab": {
          "base_uri": "https://localhost:8080/"
        },
        "outputId": "7d9e5ac4-9c28-44e9-82b1-71ae2824db3a"
      },
      "source": [
        "data.isnull().sum()"
      ],
      "execution_count": 13,
      "outputs": [
        {
          "output_type": "execute_result",
          "data": {
            "text/plain": [
              "Date           0\n",
              "Temperature    0\n",
              "dtype: int64"
            ]
          },
          "metadata": {
            "tags": []
          },
          "execution_count": 13
        }
      ]
    },
    {
      "cell_type": "markdown",
      "metadata": {
        "id": "Ua-AeW2YC3kY"
      },
      "source": [
        "### Drop all the rows with null values\n",
        "- use dropna() method"
      ]
    },
    {
      "cell_type": "code",
      "metadata": {
        "id": "9l9UeA6YC8RV"
      },
      "source": [
        "data = data.dropna()"
      ],
      "execution_count": 18,
      "outputs": []
    },
    {
      "cell_type": "markdown",
      "metadata": {
        "id": "SJam5Ho-DHK7"
      },
      "source": [
        "## Question 3"
      ]
    },
    {
      "cell_type": "markdown",
      "metadata": {
        "id": "3esUPJAMDzCJ"
      },
      "source": [
        "### Describe your dataframe\n",
        "- use describe() method"
      ]
    },
    {
      "cell_type": "code",
      "metadata": {
        "id": "uhH8OwGVELyH",
        "colab": {
          "base_uri": "https://localhost:8080/",
          "height": 294
        },
        "outputId": "57d058a0-1c14-467c-a149-569e7ef15ff7"
      },
      "source": [
        "data.describe()"
      ],
      "execution_count": 19,
      "outputs": [
        {
          "output_type": "execute_result",
          "data": {
            "text/html": [
              "<div>\n",
              "<style scoped>\n",
              "    .dataframe tbody tr th:only-of-type {\n",
              "        vertical-align: middle;\n",
              "    }\n",
              "\n",
              "    .dataframe tbody tr th {\n",
              "        vertical-align: top;\n",
              "    }\n",
              "\n",
              "    .dataframe thead th {\n",
              "        text-align: right;\n",
              "    }\n",
              "</style>\n",
              "<table border=\"1\" class=\"dataframe\">\n",
              "  <thead>\n",
              "    <tr style=\"text-align: right;\">\n",
              "      <th></th>\n",
              "      <th>Temperature</th>\n",
              "    </tr>\n",
              "  </thead>\n",
              "  <tbody>\n",
              "    <tr>\n",
              "      <th>count</th>\n",
              "      <td>3650.000000</td>\n",
              "    </tr>\n",
              "    <tr>\n",
              "      <th>mean</th>\n",
              "      <td>11.177753</td>\n",
              "    </tr>\n",
              "    <tr>\n",
              "      <th>std</th>\n",
              "      <td>4.071837</td>\n",
              "    </tr>\n",
              "    <tr>\n",
              "      <th>min</th>\n",
              "      <td>0.000000</td>\n",
              "    </tr>\n",
              "    <tr>\n",
              "      <th>25%</th>\n",
              "      <td>8.300000</td>\n",
              "    </tr>\n",
              "    <tr>\n",
              "      <th>50%</th>\n",
              "      <td>11.000000</td>\n",
              "    </tr>\n",
              "    <tr>\n",
              "      <th>75%</th>\n",
              "      <td>14.000000</td>\n",
              "    </tr>\n",
              "    <tr>\n",
              "      <th>max</th>\n",
              "      <td>26.300000</td>\n",
              "    </tr>\n",
              "  </tbody>\n",
              "</table>\n",
              "</div>"
            ],
            "text/plain": [
              "       Temperature\n",
              "count  3650.000000\n",
              "mean     11.177753\n",
              "std       4.071837\n",
              "min       0.000000\n",
              "25%       8.300000\n",
              "50%      11.000000\n",
              "75%      14.000000\n",
              "max      26.300000"
            ]
          },
          "metadata": {
            "tags": []
          },
          "execution_count": 19
        }
      ]
    },
    {
      "cell_type": "markdown",
      "metadata": {
        "id": "bizrToFMB4ix"
      },
      "source": [
        "### Plot the dataframe\n",
        "- use plot() method"
      ]
    },
    {
      "cell_type": "code",
      "metadata": {
        "id": "rNiXK6YZB30N",
        "colab": {
          "base_uri": "https://localhost:8080/",
          "height": 623
        },
        "outputId": "f94f1ba8-4304-49f3-cc57-ce135dfbd26c"
      },
      "source": [
        "data.plot(figsize=(10,10))"
      ],
      "execution_count": 25,
      "outputs": [
        {
          "output_type": "execute_result",
          "data": {
            "text/plain": [
              "<matplotlib.axes._subplots.AxesSubplot at 0x7f7ee1a546d8>"
            ]
          },
          "metadata": {
            "tags": []
          },
          "execution_count": 25
        },
        {
          "output_type": "display_data",
          "data": {
            "image/png": "[encoded data removed]",
            "text/plain": [
              "<Figure size 720x720 with 1 Axes>"
            ]
          },
          "metadata": {
            "tags": [],
            "needs_background": "light"
          }
        }
      ]
    },
    {
      "cell_type": "markdown",
      "metadata": {
        "id": "OtI9ZGJqE1lh"
      },
      "source": [
        "### Get representation of the distribution of data using histogram\n",
        "- use hist() method"
      ]
    },
    {
      "cell_type": "code",
      "metadata": {
        "id": "qan611HdE9nR",
        "colab": {
          "base_uri": "https://localhost:8080/",
          "height": 316
        },
        "outputId": "1887fe2d-b5e7-45a5-93f2-abb3424ccada"
      },
      "source": [
        "data.hist()"
      ],
      "execution_count": 23,
      "outputs": [
        {
          "output_type": "execute_result",
          "data": {
            "text/plain": [
              "array([[<matplotlib.axes._subplots.AxesSubplot object at 0x7f7eea594860>]],\n",
              "      dtype=object)"
            ]
          },
          "metadata": {
            "tags": []
          },
          "execution_count": 23
        },
        {
          "output_type": "display_data",
          "data": {
            "image/png": "[encoded data removed]",
            "text/plain": [
              "<Figure size 432x288 with 1 Axes>"
            ]
          },
          "metadata": {
            "tags": [],
            "needs_background": "light"
          }
        }
      ]
    },
    {
      "cell_type": "markdown",
      "metadata": {
        "id": "D8VDVRisHAsH"
      },
      "source": [
        "### Check minimum and maximum temperature\n",
        "- use min() and max() methods"
      ]
    },
    {
      "cell_type": "code",
      "metadata": {
        "id": "xlwlVtRfG_qX",
        "colab": {
          "base_uri": "https://localhost:8080/"
        },
        "outputId": "014a1aea-7400-4ab0-c111-3b38525977d3"
      },
      "source": [
        "data.min()"
      ],
      "execution_count": 21,
      "outputs": [
        {
          "output_type": "execute_result",
          "data": {
            "text/plain": [
              "Temperature    0.0\n",
              "dtype: float64"
            ]
          },
          "metadata": {
            "tags": []
          },
          "execution_count": 21
        }
      ]
    },
    {
      "cell_type": "markdown",
      "metadata": {
        "id": "F4h6rWKoD93K"
      },
      "source": [
        "Minimum temperature is 0.0"
      ]
    },
    {
      "cell_type": "code",
      "metadata": {
        "id": "abO5iWWAFFCJ",
        "colab": {
          "base_uri": "https://localhost:8080/"
        },
        "outputId": "f9b5c541-0056-40df-dd01-a4104a26a4fb"
      },
      "source": [
        "data.max()"
      ],
      "execution_count": 22,
      "outputs": [
        {
          "output_type": "execute_result",
          "data": {
            "text/plain": [
              "Temperature    26.3\n",
              "dtype: float64"
            ]
          },
          "metadata": {
            "tags": []
          },
          "execution_count": 22
        }
      ]
    },
    {
      "cell_type": "markdown",
      "metadata": {
        "id": "Nz71uM5LEG1E"
      },
      "source": [
        "Maximum temperature is 26.3"
      ]
    },
    {
      "cell_type": "markdown",
      "metadata": {
        "id": "qTjD3zhSI_BD"
      },
      "source": [
        "## Question 4"
      ]
    },
    {
      "cell_type": "markdown",
      "metadata": {
        "id": "QSDmmRxBMOO7"
      },
      "source": [
        "### Split the dataset into training and testing\n",
        "- training data: 75%\n",
        "- testing data: 25%"
      ]
    },
    {
      "cell_type": "code",
      "metadata": {
        "id": "dbrspzBVM6Gg",
        "colab": {
          "base_uri": "https://localhost:8080/"
        },
        "outputId": "cf6dda49-a141-4e1b-97d7-290bc0dde566"
      },
      "source": [
        "train_size = int(len(data) * 0.75)\n",
        "test_size = len(data) - train_size\n",
        "train  = data[0:train_size]\n",
        "test = data[train_size: len(data)]\n",
        "print('train: {}\\ntest: {}'.format(len(train), len(test)))"
      ],
      "execution_count": 101,
      "outputs": [
        {
          "output_type": "stream",
          "text": [
            "train: 2737\n",
            "test: 913\n"
          ],
          "name": "stdout"
        }
      ]
    },
    {
      "cell_type": "code",
      "metadata": {
        "colab": {
          "base_uri": "https://localhost:8080/"
        },
        "id": "6t_PPh-7HnTK",
        "outputId": "50aa9037-b416-4877-9038-86a179281912"
      },
      "source": [
        "train.shape"
      ],
      "execution_count": 102,
      "outputs": [
        {
          "output_type": "execute_result",
          "data": {
            "text/plain": [
              "(2737, 1)"
            ]
          },
          "metadata": {
            "tags": []
          },
          "execution_count": 102
        }
      ]
    },
    {
      "cell_type": "code",
      "metadata": {
        "colab": {
          "base_uri": "https://localhost:8080/"
        },
        "id": "sqvEv5MIHsRC",
        "outputId": "ce2bd192-3282-4de8-a261-54535753fa94"
      },
      "source": [
        "test.shape"
      ],
      "execution_count": 103,
      "outputs": [
        {
          "output_type": "execute_result",
          "data": {
            "text/plain": [
              "(913, 1)"
            ]
          },
          "metadata": {
            "tags": []
          },
          "execution_count": 103
        }
      ]
    },
    {
      "cell_type": "markdown",
      "metadata": {
        "id": "eEgBn5JkKwrZ"
      },
      "source": [
        "### Normalize the data\n",
        "- normalize temperature values using MinMaxScaler\n",
        "- feature_range: 0-1\n",
        "- fit MinMaxScaler on train data and transform it\n",
        "  - use fit_transform() method\n",
        "- transform test data using MinMaxScaler object\n",
        "  - use transform() method"
      ]
    },
    {
      "cell_type": "code",
      "metadata": {
        "id": "OqDcm7tbI19Z"
      },
      "source": [
        "scaler = MinMaxScaler(feature_range=(0,1))"
      ],
      "execution_count": 104,
      "outputs": []
    },
    {
      "cell_type": "code",
      "metadata": {
        "id": "WARUQADlIPOx"
      },
      "source": [
        "train_trans = scaler.fit_transform(train)"
      ],
      "execution_count": 105,
      "outputs": []
    },
    {
      "cell_type": "code",
      "metadata": {
        "id": "tXaHQ9udIwOD"
      },
      "source": [
        "test_trans = scaler.transform(test)"
      ],
      "execution_count": 106,
      "outputs": []
    },
    {
      "cell_type": "markdown",
      "metadata": {
        "id": "4HjbO8gRQ3M1"
      },
      "source": [
        "### Print scaled train and test data\n",
        "- print only first 5 values"
      ]
    },
    {
      "cell_type": "code",
      "metadata": {
        "id": "U_WDZwKxRBRx",
        "colab": {
          "base_uri": "https://localhost:8080/"
        },
        "outputId": "640df579-c667-4d29-a96e-8a5ee62ef228"
      },
      "source": [
        "print(train_trans[:5])"
      ],
      "execution_count": 107,
      "outputs": [
        {
          "output_type": "stream",
          "text": [
            "[[0.78707224]\n",
            " [0.68060837]\n",
            " [0.7148289 ]\n",
            " [0.55513308]\n",
            " [0.60076046]]\n"
          ],
          "name": "stdout"
        }
      ]
    },
    {
      "cell_type": "code",
      "metadata": {
        "id": "vYlwALHrRGcX",
        "colab": {
          "base_uri": "https://localhost:8080/"
        },
        "outputId": "633c19fe-3bd4-49b8-c9ab-29c20e99c29d"
      },
      "source": [
        "print(test_trans[:5])"
      ],
      "execution_count": 108,
      "outputs": [
        {
          "output_type": "stream",
          "text": [
            "[[0.22813688]\n",
            " [0.22053232]\n",
            " [0.18631179]\n",
            " [0.19011407]\n",
            " [0.31939163]]\n"
          ],
          "name": "stdout"
        }
      ]
    },
    {
      "cell_type": "markdown",
      "metadata": {
        "id": "JB5lHp94RQWY"
      },
      "source": [
        "## Question 5"
      ]
    },
    {
      "cell_type": "markdown",
      "metadata": {
        "id": "kVqNUf00RSiv"
      },
      "source": [
        "### Create sequential data\n",
        "Map the temperature at a particular day 'd' to the temperature at day t\n",
        "'d+n', where n is any number you define.\n",
        "\n",
        "For example: to map temperatures of consecutive days, use d+1, i.e. lookback = 1\n",
        "- Below function takes data as input and returns sequential data.\n",
        "- X as features and y as labels"
      ]
    },
    {
      "cell_type": "code",
      "metadata": {
        "id": "AtxhXruAWws-"
      },
      "source": [
        "import numpy as np\n",
        "def create_seq_data(data, lookback=1):\n",
        "  X, y = list(), list()\n",
        "  \n",
        "  for day in range((len(data)-lookback)):\n",
        "    X.append(data[day: day+lookback, 0])\n",
        "    y.append(data[day+lookback, 0])\n",
        "  return np.array(X), np.array(y)"
      ],
      "execution_count": 109,
      "outputs": []
    },
    {
      "cell_type": "markdown",
      "metadata": {
        "id": "VMBJpuDQJzcG"
      },
      "source": [
        "### Use the above function to create train and test sets\n",
        "- Get X_train and y_train\n",
        "- Get X_test and y_test\n",
        "- lookback = 1"
      ]
    },
    {
      "cell_type": "code",
      "metadata": {
        "id": "Uq6GGmJ0Zqem"
      },
      "source": [
        "X_train, y_train = create_seq_data(train_trans, 1)\n",
        "X_test, y_test = create_seq_data(test_trans, 1)"
      ],
      "execution_count": 110,
      "outputs": []
    },
    {
      "cell_type": "markdown",
      "metadata": {
        "id": "-E2iixEfK0Px"
      },
      "source": [
        "### Reshape the data\n",
        "- Reshape X_train and X_test\n",
        "- use np.reshape() method\n",
        "- this is to be done to make the data ready for input in model"
      ]
    },
    {
      "cell_type": "code",
      "metadata": {
        "id": "X3qhXEqoZxQ3"
      },
      "source": [
        "# Needs to be reshaped as the model needs in this format\n",
        "X_train = np.reshape(X_train, (X_train.shape[0], X_train.shape[1], 1))\n",
        "X_test = np.reshape(X_test, (X_test.shape[0], X_test.shape[1], 1))"
      ],
      "execution_count": 111,
      "outputs": []
    },
    {
      "cell_type": "markdown",
      "metadata": {
        "id": "zKZ8SALZcuNB"
      },
      "source": [
        "### Print shape of data\n",
        "- print shape of X_train and X_test"
      ]
    },
    {
      "cell_type": "code",
      "metadata": {
        "id": "OSg_rbP6c_HI",
        "colab": {
          "base_uri": "https://localhost:8080/"
        },
        "outputId": "076a8b56-f0e3-4e29-c200-ac292a9eec38"
      },
      "source": [
        "print(X_train.shape)\n",
        "print(X_test.shape)"
      ],
      "execution_count": 112,
      "outputs": [
        {
          "output_type": "stream",
          "text": [
            "(2736, 1, 1)\n",
            "(912, 1, 1)\n"
          ],
          "name": "stdout"
        }
      ]
    },
    {
      "cell_type": "markdown",
      "metadata": {
        "id": "emGjaYZ5dfRq"
      },
      "source": [
        "## Question 6"
      ]
    },
    {
      "cell_type": "markdown",
      "metadata": {
        "id": "7fk2Ze24dsXw"
      },
      "source": [
        "### Define sequential model\n",
        "- initialize a Sequential model\n",
        "- add an LSTM layer\n",
        "  - units: 10\n",
        "  - stateful: True\n",
        "  - pass a `batch_input_shape` argument to your layer\n",
        "  - batch_input_shape: (batch_size, look_back, 1)\n",
        "    - batch_size: 1\n",
        "    - look_back: 1\n",
        "- add Dense layer with 1 neuron"
      ]
    },
    {
      "cell_type": "code",
      "metadata": {
        "id": "eXU6UNt4dhJz"
      },
      "source": [
        "#create Model using LSTM\n",
        "batch_size = 1\n",
        "look_back = 1\n",
        "model = Sequential()\n",
        "model.add(LSTM(10, batch_input_shape=(batch_size, look_back, 1), stateful=True))\n",
        "model.add(Dense(1)) # For the 1 temperature to be predicted."
      ],
      "execution_count": 113,
      "outputs": []
    },
    {
      "cell_type": "markdown",
      "metadata": {
        "id": "cLymvPFzEQSp"
      },
      "source": [
        "## Question 7"
      ]
    },
    {
      "cell_type": "markdown",
      "metadata": {
        "id": "AZmlvbcMrCTh"
      },
      "source": [
        "### compile your model\n",
        "- loss: mean_squared_error\n",
        "- optimizer: adam"
      ]
    },
    {
      "cell_type": "code",
      "metadata": {
        "id": "TrcHrSdtg62Q"
      },
      "source": [
        "model.compile(loss='mean_squared_error', optimizer='adam')"
      ],
      "execution_count": 114,
      "outputs": []
    },
    {
      "cell_type": "markdown",
      "metadata": {
        "id": "WWAoHdFurJN5"
      },
      "source": [
        "### summarize your model\n",
        "- use summary() method"
      ]
    },
    {
      "cell_type": "code",
      "metadata": {
        "id": "UlIaCMtBrPU2",
        "colab": {
          "base_uri": "https://localhost:8080/"
        },
        "outputId": "442fc68c-3d10-43ee-fd28-3deae34d613f"
      },
      "source": [
        "model.summary()"
      ],
      "execution_count": 115,
      "outputs": [
        {
          "output_type": "stream",
          "text": [
            "Model: \"sequential_1\"\n",
            "_________________________________________________________________\n",
            "Layer (type)                 Output Shape              Param #   \n",
            "=================================================================\n",
            "lstm_1 (LSTM)                (1, 10)                   480       \n",
            "_________________________________________________________________\n",
            "dense_1 (Dense)              (1, 1)                    11        \n",
            "=================================================================\n",
            "Total params: 491\n",
            "Trainable params: 491\n",
            "Non-trainable params: 0\n",
            "_________________________________________________________________\n"
          ],
          "name": "stdout"
        }
      ]
    },
    {
      "cell_type": "markdown",
      "metadata": {
        "id": "dq5a3i6uEcJI"
      },
      "source": [
        "## Question 8"
      ]
    },
    {
      "cell_type": "markdown",
      "metadata": {
        "id": "0Ca3CFhOrf83"
      },
      "source": [
        "### fit your model\n",
        "- epochs: 50\n",
        "- batch_size: 1"
      ]
    },
    {
      "cell_type": "code",
      "metadata": {
        "id": "BbuB-XGPhH6h",
        "colab": {
          "base_uri": "https://localhost:8080/"
        },
        "outputId": "4a7e5d8d-0c63-464d-d52e-fbd951b5f6d2"
      },
      "source": [
        "model.fit(X_train, y_train, epochs=50, batch_size=batch_size, verbose=2, shuffle=True)"
      ],
      "execution_count": 116,
      "outputs": [
        {
          "output_type": "stream",
          "text": [
            "Epoch 1/50\n",
            "2736/2736 - 6s - loss: 0.0194\n",
            "Epoch 2/50\n",
            "2736/2736 - 6s - loss: 0.0103\n",
            "Epoch 3/50\n",
            "2736/2736 - 6s - loss: 0.0101\n",
            "Epoch 4/50\n",
            "2736/2736 - 6s - loss: 0.0101\n",
            "Epoch 5/50\n",
            "2736/2736 - 6s - loss: 0.0101\n",
            "Epoch 6/50\n",
            "2736/2736 - 6s - loss: 0.0100\n",
            "Epoch 7/50\n",
            "2736/2736 - 6s - loss: 0.0101\n",
            "Epoch 8/50\n",
            "2736/2736 - 6s - loss: 0.0100\n",
            "Epoch 9/50\n",
            "2736/2736 - 6s - loss: 0.0100\n",
            "Epoch 10/50\n",
            "2736/2736 - 6s - loss: 0.0100\n",
            "Epoch 11/50\n",
            "2736/2736 - 6s - loss: 0.0100\n",
            "Epoch 12/50\n",
            "2736/2736 - 6s - loss: 0.0099\n",
            "Epoch 13/50\n",
            "2736/2736 - 6s - loss: 0.0099\n",
            "Epoch 14/50\n",
            "2736/2736 - 6s - loss: 0.0099\n",
            "Epoch 15/50\n",
            "2736/2736 - 6s - loss: 0.0100\n",
            "Epoch 16/50\n",
            "2736/2736 - 6s - loss: 0.0099\n",
            "Epoch 17/50\n",
            "2736/2736 - 6s - loss: 0.0099\n",
            "Epoch 18/50\n",
            "2736/2736 - 6s - loss: 0.0099\n",
            "Epoch 19/50\n",
            "2736/2736 - 6s - loss: 0.0099\n",
            "Epoch 20/50\n",
            "2736/2736 - 6s - loss: 0.0099\n",
            "Epoch 21/50\n",
            "2736/2736 - 6s - loss: 0.0099\n",
            "Epoch 22/50\n",
            "2736/2736 - 6s - loss: 0.0100\n",
            "Epoch 23/50\n",
            "2736/2736 - 6s - loss: 0.0099\n",
            "Epoch 24/50\n",
            "2736/2736 - 6s - loss: 0.0100\n",
            "Epoch 25/50\n",
            "2736/2736 - 6s - loss: 0.0099\n",
            "Epoch 26/50\n",
            "2736/2736 - 6s - loss: 0.0099\n",
            "Epoch 27/50\n",
            "2736/2736 - 6s - loss: 0.0099\n",
            "Epoch 28/50\n",
            "2736/2736 - 6s - loss: 0.0099\n",
            "Epoch 29/50\n",
            "2736/2736 - 6s - loss: 0.0099\n",
            "Epoch 30/50\n",
            "2736/2736 - 6s - loss: 0.0100\n",
            "Epoch 31/50\n",
            "2736/2736 - 6s - loss: 0.0099\n",
            "Epoch 32/50\n",
            "2736/2736 - 6s - loss: 0.0099\n",
            "Epoch 33/50\n",
            "2736/2736 - 6s - loss: 0.0100\n",
            "Epoch 34/50\n",
            "2736/2736 - 6s - loss: 0.0099\n",
            "Epoch 35/50\n",
            "2736/2736 - 6s - loss: 0.0100\n",
            "Epoch 36/50\n",
            "2736/2736 - 6s - loss: 0.0099\n",
            "Epoch 37/50\n",
            "2736/2736 - 6s - loss: 0.0099\n",
            "Epoch 38/50\n",
            "2736/2736 - 6s - loss: 0.0099\n",
            "Epoch 39/50\n",
            "2736/2736 - 6s - loss: 0.0099\n",
            "Epoch 40/50\n",
            "2736/2736 - 6s - loss: 0.0099\n",
            "Epoch 41/50\n",
            "2736/2736 - 6s - loss: 0.0099\n",
            "Epoch 42/50\n",
            "2736/2736 - 6s - loss: 0.0099\n",
            "Epoch 43/50\n",
            "2736/2736 - 6s - loss: 0.0099\n",
            "Epoch 44/50\n",
            "2736/2736 - 6s - loss: 0.0099\n",
            "Epoch 45/50\n",
            "2736/2736 - 6s - loss: 0.0099\n",
            "Epoch 46/50\n",
            "2736/2736 - 6s - loss: 0.0099\n",
            "Epoch 47/50\n",
            "2736/2736 - 6s - loss: 0.0099\n",
            "Epoch 48/50\n",
            "2736/2736 - 6s - loss: 0.0099\n",
            "Epoch 49/50\n",
            "2736/2736 - 6s - loss: 0.0099\n",
            "Epoch 50/50\n",
            "2736/2736 - 6s - loss: 0.0099\n"
          ],
          "name": "stdout"
        },
        {
          "output_type": "execute_result",
          "data": {
            "text/plain": [
              "<tensorflow.python.keras.callbacks.History at 0x7f7e7d6287f0>"
            ]
          },
          "metadata": {
            "tags": []
          },
          "execution_count": 116
        }
      ]
    },
    {
      "cell_type": "markdown",
      "metadata": {
        "id": "hqRlEmbjEqyG"
      },
      "source": [
        "## Question 9"
      ]
    },
    {
      "cell_type": "markdown",
      "metadata": {
        "id": "12IhOtvUHJBF"
      },
      "source": [
        "### make predictions on train data\n",
        "- use predict() method\n",
        "  - batch_size: 1\n",
        "- store predictions in a variable"
      ]
    },
    {
      "cell_type": "code",
      "metadata": {
        "id": "iXWuJikQHURm"
      },
      "source": [
        "predictions_train = model.predict(X_train, batch_size=1)"
      ],
      "execution_count": 117,
      "outputs": []
    },
    {
      "cell_type": "code",
      "metadata": {
        "colab": {
          "base_uri": "https://localhost:8080/"
        },
        "id": "URS6EkquWFfG",
        "outputId": "820ad217-b7da-4902-81b0-edae6d7b951b"
      },
      "source": [
        "predictions_train"
      ],
      "execution_count": 118,
      "outputs": [
        {
          "output_type": "execute_result",
          "data": {
            "text/plain": [
              "array([[0.678016  ],\n",
              "       [0.61264616],\n",
              "       [0.6430285 ],\n",
              "       ...,\n",
              "       [0.3787272 ],\n",
              "       [0.28286195],\n",
              "       [0.36287534]], dtype=float32)"
            ]
          },
          "metadata": {
            "tags": []
          },
          "execution_count": 118
        }
      ]
    },
    {
      "cell_type": "markdown",
      "metadata": {
        "id": "XxxWOa-PsieH"
      },
      "source": [
        "### reset model state\n",
        "- if you are using stateful=True in your model then you should call reset_states every time, when you want to make consecutive model calls independent.\n",
        "- use reset_states() method"
      ]
    },
    {
      "cell_type": "code",
      "metadata": {
        "id": "ZdV5_F1Eo8SY"
      },
      "source": [
        "model.reset_states()"
      ],
      "execution_count": 119,
      "outputs": []
    },
    {
      "cell_type": "markdown",
      "metadata": {
        "id": "KAhziPVBJD0u"
      },
      "source": [
        "### make predictions on test data\n",
        "- use predict() method\n",
        "  - batch_size: 1\n",
        "- store predictions in a variable"
      ]
    },
    {
      "cell_type": "code",
      "metadata": {
        "id": "HuHopEXNJU_y"
      },
      "source": [
        "predictions_test = model.predict(X_test, batch_size=1)"
      ],
      "execution_count": 120,
      "outputs": []
    },
    {
      "cell_type": "code",
      "metadata": {
        "colab": {
          "base_uri": "https://localhost:8080/"
        },
        "id": "1NTyZ4JFYjYA",
        "outputId": "a6cc250d-a2cd-478f-af6a-014aab0d6eb9"
      },
      "source": [
        "predictions_test"
      ],
      "execution_count": 121,
      "outputs": [
        {
          "output_type": "execute_result",
          "data": {
            "text/plain": [
              "array([[0.23009267],\n",
              "       [0.24772438],\n",
              "       [0.22293866],\n",
              "       [0.2226907 ],\n",
              "       [0.32281896],\n",
              "       [0.4427396 ],\n",
              "       [0.4682048 ],\n",
              "       [0.42620587],\n",
              "       [0.28844732],\n",
              "       [0.30431488],\n",
              "       [0.44386804],\n",
              "       [0.2903618 ],\n",
              "       [0.30470693],\n",
              "       [0.3753059 ],\n",
              "       [0.23830345],\n",
              "       [0.2664572 ],\n",
              "       [0.3159974 ],\n",
              "       [0.3281687 ],\n",
              "       [0.3598718 ],\n",
              "       [0.36622936],\n",
              "       [0.25109196],\n",
              "       [0.28869683],\n",
              "       [0.33222103],\n",
              "       [0.33504853],\n",
              "       [0.32742888],\n",
              "       [0.33578527],\n",
              "       [0.36818638],\n",
              "       [0.37167066],\n",
              "       [0.29495358],\n",
              "       [0.3317592 ],\n",
              "       [0.35411924],\n",
              "       [0.3740548 ],\n",
              "       [0.32417607],\n",
              "       [0.36256254],\n",
              "       [0.37905902],\n",
              "       [0.23542848],\n",
              "       [0.2790706 ],\n",
              "       [0.2837691 ],\n",
              "       [0.28352633],\n",
              "       [0.33793473],\n",
              "       [0.35402292],\n",
              "       [0.2031059 ],\n",
              "       [0.2228131 ],\n",
              "       [0.32900178],\n",
              "       [0.42814013],\n",
              "       [0.44677454],\n",
              "       [0.45837688],\n",
              "       [0.38676515],\n",
              "       [0.38743404],\n",
              "       [0.37105298],\n",
              "       [0.43022537],\n",
              "       [0.31670144],\n",
              "       [0.33860263],\n",
              "       [0.3079276 ],\n",
              "       [0.2523811 ],\n",
              "       [0.33810568],\n",
              "       [0.39605752],\n",
              "       [0.28390858],\n",
              "       [0.34545594],\n",
              "       [0.36958688],\n",
              "       [0.3512748 ],\n",
              "       [0.4345195 ],\n",
              "       [0.530886  ],\n",
              "       [0.3849656 ],\n",
              "       [0.40221795],\n",
              "       [0.24497202],\n",
              "       [0.35956752],\n",
              "       [0.33958906],\n",
              "       [0.24025369],\n",
              "       [0.465595  ],\n",
              "       [0.52749836],\n",
              "       [0.48221603],\n",
              "       [0.43474475],\n",
              "       [0.28941104],\n",
              "       [0.22004083],\n",
              "       [0.229833  ],\n",
              "       [0.27979034],\n",
              "       [0.4000045 ],\n",
              "       [0.38538238],\n",
              "       [0.38569802],\n",
              "       [0.37727433],\n",
              "       [0.24816898],\n",
              "       [0.48036072],\n",
              "       [0.5645623 ],\n",
              "       [0.3426335 ],\n",
              "       [0.33467698],\n",
              "       [0.41037863],\n",
              "       [0.40192854],\n",
              "       [0.34567738],\n",
              "       [0.4040509 ],\n",
              "       [0.33938286],\n",
              "       [0.4512579 ],\n",
              "       [0.3484177 ],\n",
              "       [0.4850656 ],\n",
              "       [0.5146811 ],\n",
              "       [0.41265422],\n",
              "       [0.34048524],\n",
              "       [0.2582768 ],\n",
              "       [0.45529282],\n",
              "       [0.40788084],\n",
              "       [0.34576356],\n",
              "       [0.44883484],\n",
              "       [0.47534797],\n",
              "       [0.25387606],\n",
              "       [0.48867399],\n",
              "       [0.3290761 ],\n",
              "       [0.41971827],\n",
              "       [0.33887035],\n",
              "       [0.43138808],\n",
              "       [0.45198187],\n",
              "       [0.32903934],\n",
              "       [0.5425231 ],\n",
              "       [0.3849458 ],\n",
              "       [0.4285172 ],\n",
              "       [0.36963418],\n",
              "       [0.2690798 ],\n",
              "       [0.5018065 ],\n",
              "       [0.41302168],\n",
              "       [0.30580965],\n",
              "       [0.4623008 ],\n",
              "       [0.43252927],\n",
              "       [0.5094605 ],\n",
              "       [0.42962158],\n",
              "       [0.47938687],\n",
              "       [0.53919184],\n",
              "       [0.50289303],\n",
              "       [0.37202495],\n",
              "       [0.29762793],\n",
              "       [0.4295152 ],\n",
              "       [0.56902105],\n",
              "       [0.45570415],\n",
              "       [0.37191927],\n",
              "       [0.43757537],\n",
              "       [0.3860054 ],\n",
              "       [0.5767365 ],\n",
              "       [0.5897554 ],\n",
              "       [0.3197078 ],\n",
              "       [0.34449673],\n",
              "       [0.40781045],\n",
              "       [0.42182136],\n",
              "       [0.4014672 ],\n",
              "       [0.54513365],\n",
              "       [0.46210405],\n",
              "       [0.47610855],\n",
              "       [0.46748894],\n",
              "       [0.5077005 ],\n",
              "       [0.4900005 ],\n",
              "       [0.4460289 ],\n",
              "       [0.43846393],\n",
              "       [0.43286496],\n",
              "       [0.4208429 ],\n",
              "       [0.38804883],\n",
              "       [0.42932397],\n",
              "       [0.4371286 ],\n",
              "       [0.5897667 ],\n",
              "       [0.5741826 ],\n",
              "       [0.5689808 ],\n",
              "       [0.4785382 ],\n",
              "       [0.46137953],\n",
              "       [0.45179486],\n",
              "       [0.55502707],\n",
              "       [0.6583832 ],\n",
              "       [0.51368225],\n",
              "       [0.42504638],\n",
              "       [0.5112417 ],\n",
              "       [0.5416356 ],\n",
              "       [0.64975566],\n",
              "       [0.6755877 ],\n",
              "       [0.75309986],\n",
              "       [0.59134185],\n",
              "       [0.6164754 ],\n",
              "       [0.5330195 ],\n",
              "       [0.4959166 ],\n",
              "       [0.43958893],\n",
              "       [0.53120446],\n",
              "       [0.58436316],\n",
              "       [0.6528744 ],\n",
              "       [0.55648327],\n",
              "       [0.3809873 ],\n",
              "       [0.47003323],\n",
              "       [0.46023703],\n",
              "       [0.5199654 ],\n",
              "       [0.50002784],\n",
              "       [0.50946563],\n",
              "       [0.5919164 ],\n",
              "       [0.6203884 ],\n",
              "       [0.5834794 ],\n",
              "       [0.4379306 ],\n",
              "       [0.37167725],\n",
              "       [0.4429544 ],\n",
              "       [0.53992295],\n",
              "       [0.5601898 ],\n",
              "       [0.49229664],\n",
              "       [0.46394405],\n",
              "       [0.4932114 ],\n",
              "       [0.44213837],\n",
              "       [0.4816155 ],\n",
              "       [0.5860097 ],\n",
              "       [0.6411198 ],\n",
              "       [0.57858866],\n",
              "       [0.5089762 ],\n",
              "       [0.47922564],\n",
              "       [0.55444616],\n",
              "       [0.5111024 ],\n",
              "       [0.5303026 ],\n",
              "       [0.45935547],\n",
              "       [0.45716962],\n",
              "       [0.5297949 ],\n",
              "       [0.55703396],\n",
              "       [0.57012194],\n",
              "       [0.6622903 ],\n",
              "       [0.67517954],\n",
              "       [0.5937068 ],\n",
              "       [0.58265543],\n",
              "       [0.56410605],\n",
              "       [0.51575   ],\n",
              "       [0.56551147],\n",
              "       [0.54600143],\n",
              "       [0.5083077 ],\n",
              "       [0.47828633],\n",
              "       [0.57510614],\n",
              "       [0.6169534 ],\n",
              "       [0.5784053 ],\n",
              "       [0.5443036 ],\n",
              "       [0.5567385 ],\n",
              "       [0.53479606],\n",
              "       [0.59661657],\n",
              "       [0.6156236 ],\n",
              "       [0.64754736],\n",
              "       [0.6497397 ],\n",
              "       [0.6550312 ],\n",
              "       [0.67859805],\n",
              "       [0.5610102 ],\n",
              "       [0.5409109 ],\n",
              "       [0.56018716],\n",
              "       [0.5088433 ],\n",
              "       [0.47304428],\n",
              "       [0.5588867 ],\n",
              "       [0.5961141 ],\n",
              "       [0.4805097 ],\n",
              "       [0.5545533 ],\n",
              "       [0.61728996],\n",
              "       [0.66819596],\n",
              "       [0.70969385],\n",
              "       [0.6637319 ],\n",
              "       [0.6646502 ],\n",
              "       [0.67633647],\n",
              "       [0.62863773],\n",
              "       [0.6429089 ],\n",
              "       [0.67159575],\n",
              "       [0.6976378 ],\n",
              "       [0.62920076],\n",
              "       [0.6178159 ],\n",
              "       [0.60847205],\n",
              "       [0.4741578 ],\n",
              "       [0.535438  ],\n",
              "       [0.52348554],\n",
              "       [0.5223143 ],\n",
              "       [0.44183362],\n",
              "       [0.4560044 ],\n",
              "       [0.5229661 ],\n",
              "       [0.580715  ],\n",
              "       [0.59059185],\n",
              "       [0.58469397],\n",
              "       [0.574756  ],\n",
              "       [0.49430597],\n",
              "       [0.4806126 ],\n",
              "       [0.36247352],\n",
              "       [0.36392117],\n",
              "       [0.42856655],\n",
              "       [0.38819093],\n",
              "       [0.37083626],\n",
              "       [0.45521364],\n",
              "       [0.47510976],\n",
              "       [0.53034055],\n",
              "       [0.50606734],\n",
              "       [0.5089308 ],\n",
              "       [0.6385779 ],\n",
              "       [0.46163803],\n",
              "       [0.51451564],\n",
              "       [0.43634266],\n",
              "       [0.49689966],\n",
              "       [0.48111737],\n",
              "       [0.5355709 ],\n",
              "       [0.49558803],\n",
              "       [0.5018125 ],\n",
              "       [0.46753344],\n",
              "       [0.33702928],\n",
              "       [0.42096186],\n",
              "       [0.40123916],\n",
              "       [0.4387666 ],\n",
              "       [0.33684692],\n",
              "       [0.349699  ],\n",
              "       [0.36434895],\n",
              "       [0.38386697],\n",
              "       [0.37308922],\n",
              "       [0.32883438],\n",
              "       [0.40866762],\n",
              "       [0.4343859 ],\n",
              "       [0.4987255 ],\n",
              "       [0.54963446],\n",
              "       [0.5171605 ],\n",
              "       [0.48274842],\n",
              "       [0.5076823 ],\n",
              "       [0.5161084 ],\n",
              "       [0.43706906],\n",
              "       [0.5117293 ],\n",
              "       [0.39059946],\n",
              "       [0.39134967],\n",
              "       [0.4005724 ],\n",
              "       [0.3924446 ],\n",
              "       [0.36349753],\n",
              "       [0.45253018],\n",
              "       [0.48641747],\n",
              "       [0.46239483],\n",
              "       [0.44036764],\n",
              "       [0.42339396],\n",
              "       [0.3710341 ],\n",
              "       [0.32763016],\n",
              "       [0.31952164],\n",
              "       [0.4269985 ],\n",
              "       [0.42514694],\n",
              "       [0.305096  ],\n",
              "       [0.23619455],\n",
              "       [0.40513164],\n",
              "       [0.36190513],\n",
              "       [0.35942206],\n",
              "       [0.4014931 ],\n",
              "       [0.35058078],\n",
              "       [0.38712358],\n",
              "       [0.38808742],\n",
              "       [0.44276124],\n",
              "       [0.4747126 ],\n",
              "       [0.28255212],\n",
              "       [0.15277381],\n",
              "       [0.11748077],\n",
              "       [0.13956632],\n",
              "       [0.2774141 ],\n",
              "       [0.3532413 ],\n",
              "       [0.32379723],\n",
              "       [0.35761404],\n",
              "       [0.39324594],\n",
              "       [0.32210684],\n",
              "       [0.29924664],\n",
              "       [0.33717445],\n",
              "       [0.34337187],\n",
              "       [0.26752746],\n",
              "       [0.36407977],\n",
              "       [0.38466123],\n",
              "       [0.37360722],\n",
              "       [0.41789806],\n",
              "       [0.38735744],\n",
              "       [0.38538092],\n",
              "       [0.32345754],\n",
              "       [0.27722466],\n",
              "       [0.22718573],\n",
              "       [0.21744236],\n",
              "       [0.23634061],\n",
              "       [0.21568045],\n",
              "       [0.15377516],\n",
              "       [0.1262532 ],\n",
              "       [0.10218353],\n",
              "       [0.15560481],\n",
              "       [0.32364506],\n",
              "       [0.273067  ],\n",
              "       [0.3033315 ],\n",
              "       [0.37645984],\n",
              "       [0.29462725],\n",
              "       [0.2452172 ],\n",
              "       [0.2895829 ],\n",
              "       [0.26661128],\n",
              "       [0.29093617],\n",
              "       [0.37134385],\n",
              "       [0.3229425 ],\n",
              "       [0.3385664 ],\n",
              "       [0.29446527],\n",
              "       [0.30539197],\n",
              "       [0.18195044],\n",
              "       [0.1350596 ],\n",
              "       [0.15617749],\n",
              "       [0.23908696],\n",
              "       [0.25977775],\n",
              "       [0.26119906],\n",
              "       [0.30101258],\n",
              "       [0.24541622],\n",
              "       [0.13837525],\n",
              "       [0.1722512 ],\n",
              "       [0.23933029],\n",
              "       [0.3149536 ],\n",
              "       [0.21669689],\n",
              "       [0.24913171],\n",
              "       [0.3510804 ],\n",
              "       [0.41905367],\n",
              "       [0.3279427 ],\n",
              "       [0.31412166],\n",
              "       [0.19485533],\n",
              "       [0.30175698],\n",
              "       [0.32185993],\n",
              "       [0.3347386 ],\n",
              "       [0.2961502 ],\n",
              "       [0.3095117 ],\n",
              "       [0.30830532],\n",
              "       [0.24947158],\n",
              "       [0.28913614],\n",
              "       [0.39368644],\n",
              "       [0.30179954],\n",
              "       [0.31742847],\n",
              "       [0.2546229 ],\n",
              "       [0.19496661],\n",
              "       [0.25082675],\n",
              "       [0.28058332],\n",
              "       [0.2805939 ],\n",
              "       [0.2808719 ],\n",
              "       [0.35152963],\n",
              "       [0.3258298 ],\n",
              "       [0.23816863],\n",
              "       [0.33716977],\n",
              "       [0.2901365 ],\n",
              "       [0.24769637],\n",
              "       [0.30105639],\n",
              "       [0.26658893],\n",
              "       [0.20878866],\n",
              "       [0.26749665],\n",
              "       [0.2904162 ],\n",
              "       [0.20547408],\n",
              "       [0.31955367],\n",
              "       [0.3454334 ],\n",
              "       [0.34877115],\n",
              "       [0.26821524],\n",
              "       [0.3388148 ],\n",
              "       [0.34677708],\n",
              "       [0.31639403],\n",
              "       [0.23255867],\n",
              "       [0.28794694],\n",
              "       [0.474232  ],\n",
              "       [0.31979406],\n",
              "       [0.31184047],\n",
              "       [0.32842878],\n",
              "       [0.29569775],\n",
              "       [0.27485397],\n",
              "       [0.3455299 ],\n",
              "       [0.30210745],\n",
              "       [0.37809426],\n",
              "       [0.35957122],\n",
              "       [0.40038413],\n",
              "       [0.33967787],\n",
              "       [0.29775244],\n",
              "       [0.45485494],\n",
              "       [0.31296843],\n",
              "       [0.2723922 ],\n",
              "       [0.3531927 ],\n",
              "       [0.25302592],\n",
              "       [0.3493268 ],\n",
              "       [0.23049703],\n",
              "       [0.43493605],\n",
              "       [0.47820985],\n",
              "       [0.4026825 ],\n",
              "       [0.2740385 ],\n",
              "       [0.23264608],\n",
              "       [0.36046192],\n",
              "       [0.4283895 ],\n",
              "       [0.3597231 ],\n",
              "       [0.30356804],\n",
              "       [0.3704934 ],\n",
              "       [0.3605733 ],\n",
              "       [0.38106245],\n",
              "       [0.40725616],\n",
              "       [0.41089547],\n",
              "       [0.4086073 ],\n",
              "       [0.3215234 ],\n",
              "       [0.41549793],\n",
              "       [0.3025457 ],\n",
              "       [0.29597944],\n",
              "       [0.47065106],\n",
              "       [0.4633199 ],\n",
              "       [0.36898616],\n",
              "       [0.38962358],\n",
              "       [0.3637721 ],\n",
              "       [0.45054314],\n",
              "       [0.3848704 ],\n",
              "       [0.48241067],\n",
              "       [0.42675766],\n",
              "       [0.32412356],\n",
              "       [0.34931487],\n",
              "       [0.35516986],\n",
              "       [0.48101103],\n",
              "       [0.3197892 ],\n",
              "       [0.3259967 ],\n",
              "       [0.37688053],\n",
              "       [0.3333566 ],\n",
              "       [0.4538547 ],\n",
              "       [0.5238596 ],\n",
              "       [0.48190695],\n",
              "       [0.4179581 ],\n",
              "       [0.4398997 ],\n",
              "       [0.3285389 ],\n",
              "       [0.37053865],\n",
              "       [0.41484857],\n",
              "       [0.45281547],\n",
              "       [0.3633571 ],\n",
              "       [0.42353764],\n",
              "       [0.47220185],\n",
              "       [0.49246562],\n",
              "       [0.5559757 ],\n",
              "       [0.41185278],\n",
              "       [0.4430268 ],\n",
              "       [0.44929665],\n",
              "       [0.47429898],\n",
              "       [0.53952706],\n",
              "       [0.6931609 ],\n",
              "       [0.5301619 ],\n",
              "       [0.5268427 ],\n",
              "       [0.47088653],\n",
              "       [0.47494453],\n",
              "       [0.49710765],\n",
              "       [0.60287553],\n",
              "       [0.5991908 ],\n",
              "       [0.5710147 ],\n",
              "       [0.6217898 ],\n",
              "       [0.4968857 ],\n",
              "       [0.48725027],\n",
              "       [0.3987981 ],\n",
              "       [0.50009805],\n",
              "       [0.5484033 ],\n",
              "       [0.5682946 ],\n",
              "       [0.50630116],\n",
              "       [0.6288764 ],\n",
              "       [0.5602308 ],\n",
              "       [0.531379  ],\n",
              "       [0.4631725 ],\n",
              "       [0.3949203 ],\n",
              "       [0.44402617],\n",
              "       [0.45288765],\n",
              "       [0.44162264],\n",
              "       [0.58715814],\n",
              "       [0.56251895],\n",
              "       [0.4673536 ],\n",
              "       [0.45498237],\n",
              "       [0.4334986 ],\n",
              "       [0.43865344],\n",
              "       [0.45839238],\n",
              "       [0.562655  ],\n",
              "       [0.5530194 ],\n",
              "       [0.48527306],\n",
              "       [0.43689552],\n",
              "       [0.3928635 ],\n",
              "       [0.5068962 ],\n",
              "       [0.45617563],\n",
              "       [0.52303934],\n",
              "       [0.47758788],\n",
              "       [0.5458927 ],\n",
              "       [0.5125368 ],\n",
              "       [0.51124704],\n",
              "       [0.5365349 ],\n",
              "       [0.5660227 ],\n",
              "       [0.5243189 ],\n",
              "       [0.5957    ],\n",
              "       [0.62820274],\n",
              "       [0.70998716],\n",
              "       [0.6430849 ],\n",
              "       [0.5610991 ],\n",
              "       [0.560377  ],\n",
              "       [0.5224963 ],\n",
              "       [0.40613997],\n",
              "       [0.4262458 ],\n",
              "       [0.52136385],\n",
              "       [0.5086938 ],\n",
              "       [0.5151543 ],\n",
              "       [0.48025593],\n",
              "       [0.508641  ],\n",
              "       [0.5063592 ],\n",
              "       [0.6682279 ],\n",
              "       [0.528103  ],\n",
              "       [0.5958237 ],\n",
              "       [0.5806196 ],\n",
              "       [0.5850863 ],\n",
              "       [0.49393964],\n",
              "       [0.56987053],\n",
              "       [0.5555792 ],\n",
              "       [0.44600075],\n",
              "       [0.4496056 ],\n",
              "       [0.5175797 ],\n",
              "       [0.5179828 ],\n",
              "       [0.5115886 ],\n",
              "       [0.46890253],\n",
              "       [0.48246527],\n",
              "       [0.5497112 ],\n",
              "       [0.5560227 ],\n",
              "       [0.6001916 ],\n",
              "       [0.54816294],\n",
              "       [0.5344567 ],\n",
              "       [0.47362155],\n",
              "       [0.50322056],\n",
              "       [0.58648705],\n",
              "       [0.54599506],\n",
              "       [0.6273958 ],\n",
              "       [0.46619093],\n",
              "       [0.5069369 ],\n",
              "       [0.48763874],\n",
              "       [0.56214166],\n",
              "       [0.6547174 ],\n",
              "       [0.5859238 ],\n",
              "       [0.5454299 ],\n",
              "       [0.57377744],\n",
              "       [0.5702073 ],\n",
              "       [0.5930463 ],\n",
              "       [0.63807935],\n",
              "       [0.64505714],\n",
              "       [0.5997602 ],\n",
              "       [0.64189774],\n",
              "       [0.6574831 ],\n",
              "       [0.64931244],\n",
              "       [0.59909093],\n",
              "       [0.5169571 ],\n",
              "       [0.3973784 ],\n",
              "       [0.46967912],\n",
              "       [0.528571  ],\n",
              "       [0.5248747 ],\n",
              "       [0.44655013],\n",
              "       [0.35911995],\n",
              "       [0.40809816],\n",
              "       [0.5207388 ],\n",
              "       [0.4258666 ],\n",
              "       [0.4321962 ],\n",
              "       [0.5271655 ],\n",
              "       [0.5245483 ],\n",
              "       [0.49130467],\n",
              "       [0.45877147],\n",
              "       [0.5075341 ],\n",
              "       [0.55244285],\n",
              "       [0.5926135 ],\n",
              "       [0.5829384 ],\n",
              "       [0.61401325],\n",
              "       [0.6759078 ],\n",
              "       [0.5163517 ],\n",
              "       [0.42287734],\n",
              "       [0.43857896],\n",
              "       [0.47398925],\n",
              "       [0.5318287 ],\n",
              "       [0.51760274],\n",
              "       [0.41486633],\n",
              "       [0.44807243],\n",
              "       [0.5001889 ],\n",
              "       [0.57874674],\n",
              "       [0.55013835],\n",
              "       [0.53930795],\n",
              "       [0.5339391 ],\n",
              "       [0.52149594],\n",
              "       [0.6212428 ],\n",
              "       [0.56638825],\n",
              "       [0.6252101 ],\n",
              "       [0.53525454],\n",
              "       [0.38880318],\n",
              "       [0.388385  ],\n",
              "       [0.45241416],\n",
              "       [0.47065118],\n",
              "       [0.42505962],\n",
              "       [0.49282598],\n",
              "       [0.51010865],\n",
              "       [0.51975346],\n",
              "       [0.41995013],\n",
              "       [0.4632148 ],\n",
              "       [0.48646072],\n",
              "       [0.42517897],\n",
              "       [0.39356807],\n",
              "       [0.34505212],\n",
              "       [0.4100122 ],\n",
              "       [0.36127394],\n",
              "       [0.46810406],\n",
              "       [0.49215746],\n",
              "       [0.46054852],\n",
              "       [0.5097557 ],\n",
              "       [0.5542775 ],\n",
              "       [0.48193103],\n",
              "       [0.29766086],\n",
              "       [0.22547236],\n",
              "       [0.2795624 ],\n",
              "       [0.48379117],\n",
              "       [0.39677465],\n",
              "       [0.45543724],\n",
              "       [0.41480112],\n",
              "       [0.38961214],\n",
              "       [0.3655346 ],\n",
              "       [0.34589916],\n",
              "       [0.47802153],\n",
              "       [0.3513114 ],\n",
              "       [0.365341  ],\n",
              "       [0.33869603],\n",
              "       [0.25258303],\n",
              "       [0.21190625],\n",
              "       [0.291148  ],\n",
              "       [0.37837827],\n",
              "       [0.39713907],\n",
              "       [0.4054736 ],\n",
              "       [0.33032197],\n",
              "       [0.26511192],\n",
              "       [0.21322942],\n",
              "       [0.25873798],\n",
              "       [0.37184513],\n",
              "       [0.37282446],\n",
              "       [0.33130282],\n",
              "       [0.33470705],\n",
              "       [0.33535358],\n",
              "       [0.39194477],\n",
              "       [0.28536576],\n",
              "       [0.2607096 ],\n",
              "       [0.27504587],\n",
              "       [0.31209219],\n",
              "       [0.38874733],\n",
              "       [0.2987986 ],\n",
              "       [0.30449903],\n",
              "       [0.42031503],\n",
              "       [0.24492308],\n",
              "       [0.21383518],\n",
              "       [0.2680353 ],\n",
              "       [0.3576782 ],\n",
              "       [0.3138144 ],\n",
              "       [0.32669032],\n",
              "       [0.33036014],\n",
              "       [0.35415703],\n",
              "       [0.31244466],\n",
              "       [0.39843163],\n",
              "       [0.3263572 ],\n",
              "       [0.31910568],\n",
              "       [0.23586169],\n",
              "       [0.25439322],\n",
              "       [0.19054738],\n",
              "       [0.24572423],\n",
              "       [0.36151505],\n",
              "       [0.3064491 ],\n",
              "       [0.30427518],\n",
              "       [0.31281066],\n",
              "       [0.31232232],\n",
              "       [0.35986295],\n",
              "       [0.21633378],\n",
              "       [0.25004104],\n",
              "       [0.38307732],\n",
              "       [0.3872332 ],\n",
              "       [0.36473703],\n",
              "       [0.24719125],\n",
              "       [0.22958091],\n",
              "       [0.30444312],\n",
              "       [0.36730164],\n",
              "       [0.3944509 ],\n",
              "       [0.41969967],\n",
              "       [0.35739112],\n",
              "       [0.41860956],\n",
              "       [0.28485107],\n",
              "       [0.32924852],\n",
              "       [0.367952  ],\n",
              "       [0.36770844],\n",
              "       [0.37511015],\n",
              "       [0.40450662],\n",
              "       [0.35696775],\n",
              "       [0.2763717 ],\n",
              "       [0.32072577],\n",
              "       [0.29611304],\n",
              "       [0.31604543],\n",
              "       [0.25965104],\n",
              "       [0.22960702],\n",
              "       [0.28160357],\n",
              "       [0.37328082],\n",
              "       [0.25539213],\n",
              "       [0.3398965 ],\n",
              "       [0.39749908],\n",
              "       [0.31771857],\n",
              "       [0.31398755],\n",
              "       [0.337298  ],\n",
              "       [0.27518287],\n",
              "       [0.2863816 ],\n",
              "       [0.27063784],\n",
              "       [0.33403587],\n",
              "       [0.31455618],\n",
              "       [0.36069626],\n",
              "       [0.3334135 ],\n",
              "       [0.31599337],\n",
              "       [0.30214053],\n",
              "       [0.31027517],\n",
              "       [0.34627935],\n",
              "       [0.3712393 ],\n",
              "       [0.37855703],\n",
              "       [0.2659649 ],\n",
              "       [0.27739662],\n",
              "       [0.3050912 ],\n",
              "       [0.30127314],\n",
              "       [0.32035258],\n",
              "       [0.1503363 ],\n",
              "       [0.25288823],\n",
              "       [0.42541367],\n",
              "       [0.34267887],\n",
              "       [0.3251501 ],\n",
              "       [0.262973  ],\n",
              "       [0.36423862],\n",
              "       [0.3377403 ],\n",
              "       [0.31082663],\n",
              "       [0.3921075 ],\n",
              "       [0.38904518],\n",
              "       [0.30847242],\n",
              "       [0.17409447],\n",
              "       [0.23375851],\n",
              "       [0.39145708],\n",
              "       [0.51492226],\n",
              "       [0.46406603],\n",
              "       [0.38628632],\n",
              "       [0.30162254],\n",
              "       [0.38223892],\n",
              "       [0.38927153],\n",
              "       [0.19567221],\n",
              "       [0.295839  ],\n",
              "       [0.4237967 ],\n",
              "       [0.5612815 ],\n",
              "       [0.3757497 ],\n",
              "       [0.29494378],\n",
              "       [0.23491785],\n",
              "       [0.39361095],\n",
              "       [0.5575699 ],\n",
              "       [0.37905097],\n",
              "       [0.23013574],\n",
              "       [0.41040945],\n",
              "       [0.3370615 ],\n",
              "       [0.38273907],\n",
              "       [0.41845304],\n",
              "       [0.39652276],\n",
              "       [0.37936568],\n",
              "       [0.4102441 ],\n",
              "       [0.4966371 ],\n",
              "       [0.35766354],\n",
              "       [0.37789592],\n",
              "       [0.25770146],\n",
              "       [0.37121588],\n",
              "       [0.35210055],\n",
              "       [0.43422127],\n",
              "       [0.3893233 ],\n",
              "       [0.30838522],\n",
              "       [0.31013992],\n",
              "       [0.5431578 ],\n",
              "       [0.51110816],\n",
              "       [0.40659106],\n",
              "       [0.42496744],\n",
              "       [0.406472  ],\n",
              "       [0.27245316],\n",
              "       [0.40479675],\n",
              "       [0.3452908 ],\n",
              "       [0.40783203],\n",
              "       [0.44994253],\n",
              "       [0.42933074],\n",
              "       [0.48017997],\n",
              "       [0.5098157 ],\n",
              "       [0.6189228 ],\n",
              "       [0.4917754 ],\n",
              "       [0.53437996],\n",
              "       [0.5223588 ],\n",
              "       [0.54109925],\n",
              "       [0.43776065],\n",
              "       [0.47283173],\n",
              "       [0.4108843 ],\n",
              "       [0.45434475],\n",
              "       [0.61044747],\n",
              "       [0.6349212 ],\n",
              "       [0.5493203 ],\n",
              "       [0.4856318 ],\n",
              "       [0.43038255],\n",
              "       [0.33814415],\n",
              "       [0.45467386],\n",
              "       [0.48609275],\n",
              "       [0.5154065 ],\n",
              "       [0.47753918],\n",
              "       [0.4526245 ],\n",
              "       [0.3454637 ],\n",
              "       [0.40009367],\n",
              "       [0.3723324 ],\n",
              "       [0.3274091 ],\n",
              "       [0.5226327 ],\n",
              "       [0.44127697],\n",
              "       [0.4020003 ],\n",
              "       [0.41402295],\n",
              "       [0.4674834 ],\n",
              "       [0.46531126],\n",
              "       [0.3468725 ],\n",
              "       [0.51763463],\n",
              "       [0.5122691 ],\n",
              "       [0.46585461],\n",
              "       [0.48191267],\n",
              "       [0.47558892],\n",
              "       [0.5598863 ],\n",
              "       [0.5884734 ],\n",
              "       [0.6728738 ],\n",
              "       [0.6685158 ],\n",
              "       [0.65713596],\n",
              "       [0.55809903],\n",
              "       [0.51517195],\n",
              "       [0.41567552],\n",
              "       [0.41425306],\n",
              "       [0.49396893],\n",
              "       [0.41867018],\n",
              "       [0.45601285],\n",
              "       [0.47825345],\n",
              "       [0.4862178 ],\n",
              "       [0.49610847],\n",
              "       [0.5864907 ],\n",
              "       [0.5195931 ],\n",
              "       [0.5448205 ],\n",
              "       [0.4753021 ],\n",
              "       [0.47892573],\n",
              "       [0.49442148],\n",
              "       [0.3805095 ],\n",
              "       [0.4666453 ],\n",
              "       [0.5098705 ],\n",
              "       [0.49817562],\n",
              "       [0.48955482],\n",
              "       [0.48557597],\n",
              "       [0.5462262 ]], dtype=float32)"
            ]
          },
          "metadata": {
            "tags": []
          },
          "execution_count": 121
        }
      ]
    },
    {
      "cell_type": "markdown",
      "metadata": {
        "id": "pO81E-fsJruD"
      },
      "source": [
        "## Question 10"
      ]
    },
    {
      "cell_type": "markdown",
      "metadata": {
        "id": "RImBG7sCtnlb"
      },
      "source": [
        "### Inverse train predictions and true labels\n",
        "- use your MinMaxSclarer object\n",
        "- use inverse_transform() method"
      ]
    },
    {
      "cell_type": "code",
      "metadata": {
        "id": "6Q7RsMvLY_uC"
      },
      "source": [
        "predictions_train = scaler.inverse_transform(predictions_train)\n",
        "y_train = scaler.inverse_transform([y_train])"
      ],
      "execution_count": 122,
      "outputs": []
    },
    {
      "cell_type": "code",
      "metadata": {
        "colab": {
          "base_uri": "https://localhost:8080/"
        },
        "id": "bmk6XpEqZ_j2",
        "outputId": "766118e9-1871-481c-a0c5-6b584a27806f"
      },
      "source": [
        "predictions_train[:5]"
      ],
      "execution_count": 123,
      "outputs": [
        {
          "output_type": "execute_result",
          "data": {
            "text/plain": [
              "array([[17.831821],\n",
              "       [16.112595],\n",
              "       [16.91165 ],\n",
              "       [13.892606],\n",
              "       [14.730079]], dtype=float32)"
            ]
          },
          "metadata": {
            "tags": []
          },
          "execution_count": 123
        }
      ]
    },
    {
      "cell_type": "code",
      "metadata": {
        "colab": {
          "base_uri": "https://localhost:8080/"
        },
        "id": "NZWudE9CaDO4",
        "outputId": "040021e1-bb22-4eb4-f8a6-a3f21cc3a029"
      },
      "source": [
        "y_train[:5]"
      ],
      "execution_count": 124,
      "outputs": [
        {
          "output_type": "execute_result",
          "data": {
            "text/plain": [
              "array([[17.9, 18.8, 14.6, ...,  6.7,  9.4,  9.3]])"
            ]
          },
          "metadata": {
            "tags": []
          },
          "execution_count": 124
        }
      ]
    },
    {
      "cell_type": "markdown",
      "metadata": {
        "id": "5fWSzk8cuPbp"
      },
      "source": [
        "### Inverse test predictions and true labels\n",
        "- use your MinMaxSclarer object\n",
        "- use inverse_transform() method"
      ]
    },
    {
      "cell_type": "code",
      "metadata": {
        "id": "nVJ1wMupuPbu"
      },
      "source": [
        "predictions_test = scaler.inverse_transform(predictions_test)\n",
        "y_test = scaler.inverse_transform([y_test])"
      ],
      "execution_count": 125,
      "outputs": []
    },
    {
      "cell_type": "code",
      "metadata": {
        "colab": {
          "base_uri": "https://localhost:8080/"
        },
        "id": "Z-PxfMA1arYZ",
        "outputId": "ad2839a8-a895-4af0-e653-c636f285a28e"
      },
      "source": [
        "y_test"
      ],
      "execution_count": 126,
      "outputs": [
        {
          "output_type": "execute_result",
          "data": {
            "text/plain": [
              "array([[ 5.8,  4.9,  5. ,  8.4, 12.3, 13. , 11.4,  6.8,  7.6, 12.4,  7.1,\n",
              "         7.5, 10. ,  5.3,  6.3,  8. ,  8.3,  9.3,  9.5,  5.6,  7. ,  8.5,\n",
              "         8.5,  8.2,  8.5,  9.6,  9.7,  7.1,  8.4,  9.2,  9.8,  8.1,  9.4,\n",
              "        10. ,  5.1,  6.7,  6.9,  6.8,  8.6,  9.1,  3.9,  4.8,  8.4, 11.6,\n",
              "        12.1, 12.4, 10. , 10.1,  9.7, 11.7,  7.9,  8.6,  7.7,  5.8,  8.7,\n",
              "        10.6,  6.7,  8.8,  9.7,  9. , 11.8, 15.2, 10. , 10.5,  5.5,  9.4,\n",
              "         8.8,  5.3, 13. , 15.2, 13.2, 11.5,  6.8,  4.7,  5.2,  6.8, 10.7,\n",
              "        10.1, 10. ,  9.8,  5.5, 13.5, 16.6,  8.4,  8.2, 11.1, 10.8,  8.8,\n",
              "        10.8,  8.7, 12.4,  9. , 13.5, 14.7, 10.9,  8.5,  6. , 12.7, 11.1,\n",
              "         8.7, 12.3, 13.3,  5.6, 13.7,  8.5, 11.2,  8.7, 11.7, 12.5,  8.2,\n",
              "        15.6, 10.3, 11.4,  9.7,  6.3, 14.3, 11.3,  7.3, 12.8, 11.9, 14.3,\n",
              "        11.6, 13.2, 15.5, 14.1,  9.5,  7.2, 11.8, 16.8, 12.5,  9.4, 11.9,\n",
              "        10.3, 16.9, 17.5,  7.5,  8.6, 11.1, 11.5, 10.7, 15.7, 12.8, 13. ,\n",
              "        12.9, 14.3, 13.7, 12.1, 11.9, 11.8, 11.4, 10.3, 11.7, 12. , 17.4,\n",
              "        16.8, 16.2, 13. , 12.5, 12.4, 16.1, 20.2, 14.3, 11. , 14.4, 15.7,\n",
              "        19.7, 20.7, 23.9, 16.6, 17.5, 14.9, 13.6, 11.9, 15.2, 17.3, 19.8,\n",
              "        15.8,  9.5, 12.9, 12.9, 14.8, 14.1, 14.3, 17.4, 18.5, 16.8, 11.5,\n",
              "         9.5, 12.2, 15.7, 16.3, 13.6, 12.6, 13.8, 12.1, 13.4, 17.3, 19.4,\n",
              "        16.6, 13.9, 13.1, 16. , 14.5, 15. , 12.6, 12.5, 15.2, 16.2, 16.5,\n",
              "        20.1, 20.6, 16.9, 16.5, 16.1, 14.4, 16.3, 15.7, 14.2, 13.2, 16.8,\n",
              "        18.5, 16.7, 15.3, 15.9, 15.2, 17.5, 18.3, 19.4, 19.4, 19.5, 20.5,\n",
              "        15.7, 15. , 16.1, 14.3, 13. , 16.2, 17.7, 13.2, 15.8, 18.5, 20.4,\n",
              "        22. , 19.7, 19.6, 20.3, 18.3, 18.9, 20.3, 21.4, 18.3, 17.8, 17.7,\n",
              "        12.8, 15.1, 15. , 14.8, 12. , 12.5, 15. , 17.1, 17.3, 16.9, 16.5,\n",
              "        13.6, 13.2,  9.4,  9.5, 11.8, 10.4,  9.7, 12.6, 13.3, 15.1, 14.2,\n",
              "        14.2, 19.2, 12.6, 14.2, 11.9, 13.9, 13.5, 15.3, 13.9, 14. , 12.9,\n",
              "         8.5, 11.4, 10.9, 12. ,  8.6,  9. ,  9.6, 10.2,  9.8,  8.3, 11. ,\n",
              "        11.9, 14. , 15.8, 14.5, 13.2, 14.2, 14.6, 11.8, 14.4, 10.4, 10.3,\n",
              "        10.8, 10.5,  9.5, 12.5, 13.7, 12.7, 11.9, 11.4,  9.7,  8.3,  8.1,\n",
              "        11.7, 11.6,  7.4,  5.2, 11. ,  9.5,  9.2, 10.7,  9. , 10.2, 10.3,\n",
              "        12.1, 13.2,  6.6,  2.3,  1.4,  2.1,  6.6,  8.9,  7.8,  9. , 10.3,\n",
              "         7.9,  7.2,  8.6,  8.8,  6.2,  9.5, 10.2,  9.7, 11.2, 10.2, 10.1,\n",
              "         8.1,  6.6,  5. ,  4.7,  5.3,  4.5,  2.3,  1.4,  0.5,  2.4,  8. ,\n",
              "         6. ,  7.1,  9.7,  6.9,  5.3,  7. ,  6.2,  7. ,  9.7,  8. ,  8.5,\n",
              "         7.1,  7.5,  3.3,  1.8,  2.6,  5.3,  5.8,  5.8,  7.2,  5.3,  1.6,\n",
              "         3.1,  5.3,  7.7,  4.2,  5.5,  9. , 11.2,  8. ,  7.6,  3.7,  7.5,\n",
              "         8.1,  8.4,  7.1,  7.6,  7.6,  5.6,  7. , 10.5,  7.3,  7.8,  5.8,\n",
              "         3.8,  5.8,  6.7,  6.6,  6.6,  9. ,  8.1,  5.1,  8.6,  7. ,  5.5,\n",
              "         7.4,  6.2,  4.2,  6.3,  7. ,  4. ,  8. ,  8.8,  8.8,  6.1,  8.6,\n",
              "         8.9,  7.8,  5. ,  7. , 13.3,  7.9,  7.5,  8.3,  7.2,  6.5,  8.9,\n",
              "         7.4,  9.9,  9.3, 10.6,  8.6,  7.2, 12.6,  7.8,  6.3,  9.2,  5.8,\n",
              "         9. ,  5. , 11.9, 13.4, 10.5,  6.2,  5.1,  9.5, 11.7,  9.2,  7.3,\n",
              "         9.7,  9.4, 10. , 10.9, 11. , 10.9,  8. , 11.2,  7.5,  7.2, 13.2,\n",
              "        12.9,  9.4, 10.2,  9.5, 12.4, 10.2, 13.4, 11.6,  8. ,  9. ,  9.3,\n",
              "        13.5,  8. ,  8.1, 10. ,  8.5, 12.5, 15. , 13.3, 11. , 11.9,  8.3,\n",
              "         9.7, 11.3, 12.5,  9.4, 11.4, 13.2, 13.8, 16. , 10.9, 11.9, 12.4,\n",
              "        13.2, 15.5, 21.6, 14.9, 14.4, 12.9, 13.1, 14. , 17.9, 17.7, 16.3,\n",
              "        18.3, 13.7, 13.3, 10.6, 14.1, 16. , 16.5, 14.1, 18.7, 16.2, 14.8,\n",
              "        12.6, 10.4, 12.2, 12.6, 12.1, 17.3, 16.4, 12.6, 12.3, 11.8, 12. ,\n",
              "        12.7, 16.4, 16. , 13.3, 11.7, 10.4, 14.4, 12.7, 14.8, 13.3, 15.6,\n",
              "        14.5, 14.3, 15.3, 16.4, 14.8, 17.4, 18.8, 22.1, 19. , 15.5, 15.8,\n",
              "        14.7, 10.7, 11.5, 15. , 14.5, 14.5, 13.3, 14.3, 14.3, 20.5, 15. ,\n",
              "        17.1, 16.9, 16.9, 13.6, 16.4, 16.1, 12. , 12.2, 14.8, 14.8, 14.4,\n",
              "        12.9, 13.4, 15.9, 16.1, 17.6, 15.6, 15. , 13. , 14.1, 17.3, 15.7,\n",
              "        18.6, 12.7, 14. , 13.7, 16.3, 20. , 17. , 15.2, 16.5, 16.5, 17.3,\n",
              "        19.1, 19.3, 17.3, 19. , 19.8, 19.3, 17.2, 14.2, 10.3, 13. , 15.3,\n",
              "        15. , 12.1,  9.2, 11. , 15. , 11.6, 11.6, 15.1, 15. , 13.6, 12.5,\n",
              "        14.3, 16. , 17.4, 16.9, 18. , 20.6, 14.2, 10.9, 11.9, 13.3, 15.3,\n",
              "        14.7, 11. , 12.2, 14.2, 17. , 15.8, 15.2, 15.1, 14.7, 18.5, 16.4,\n",
              "        18.4, 15.1,  9.9, 10.2, 12.6, 13.2, 11.5, 13.8, 14.5, 14.7, 11.2,\n",
              "        12.7, 13.7, 11.5, 10.4,  8.9, 11.1,  9.5, 13. , 13.9, 12.6, 14.3,\n",
              "        16. , 13.3,  7. ,  4.9,  6.9, 13.7, 10.6, 12.3, 11.1, 10.2,  9.5,\n",
              "         8.9, 13.4,  9.1,  9.4,  8.7,  5.8,  4.5,  7.2, 10. , 10.5, 10.7,\n",
              "         8.2,  6.1,  4.5,  6.1,  9.8,  9.7,  8.2,  8.4,  8.5, 10.4,  6.8,\n",
              "         6. ,  6.6,  7.8, 10.3,  7.2,  7.4, 11.4,  5.4,  4.4,  6.4,  9.3,\n",
              "         7.7,  8.1,  8.3,  9.1,  7.7, 10.6,  8.2,  7.9,  5.2,  5.9,  3.7,\n",
              "         5.6,  9.4,  7.4,  7.3,  7.7,  7.7,  9.3,  4.4,  5.7, 10.2, 10.2,\n",
              "         9.3,  5.4,  5. ,  7.6,  9.6, 10.4, 11.2,  9.1, 11.2,  6.8,  8.3,\n",
              "         9.7,  9.6,  9.8, 10.8,  9.2,  6.5,  8.1,  7.3,  7.9,  6. ,  5. ,\n",
              "         6.8,  9.8,  5.7,  8.6, 10.6,  7.8,  7.7,  8.6,  6.5,  6.9,  6.4,\n",
              "         8.5,  7.8,  9.3,  8.4,  7.8,  7.4,  7.7,  8.9,  9.7,  9.9,  6.1,\n",
              "         6.6,  7.6,  7.4,  8. ,  2.1,  5.9, 11.6,  8.6,  7.9,  6. ,  9.5,\n",
              "         8.6,  7.6, 10.4, 10.3,  7.5,  3. ,  5.3, 10.5, 14.6, 12.6,  9.8,\n",
              "         7.2, 10.1, 10.4,  3.7,  7.3, 11.6, 16.3,  9.6,  6.8,  5.2, 10.6,\n",
              "        16.3,  9.8,  4.6, 11.1,  8.7, 10. , 11.3, 10.5,  9.9, 11. , 14. ,\n",
              "         9.2,  9.8,  6. ,  9.8,  9.2, 11.8, 10.3,  7.5,  7.7, 15.8, 14.6,\n",
              "        10.5, 11.3, 10.9,  6.4, 10.9,  9. , 10.9, 12.4, 11.6, 13.3, 14.4,\n",
              "        18.4, 13.6, 14.9, 14.8, 15.4, 11.8, 13. , 11.1, 12.5, 18.3, 19.2,\n",
              "        15.4, 13.1, 11.5,  8.6, 12.6, 13.8, 14.6, 13.2, 12.3,  8.8, 10.7,\n",
              "         9.9,  8.3, 15. , 12.2, 10.5, 11.1, 13. , 12.9,  8.8, 14.7, 14.7,\n",
              "        12.7, 13.3, 13.2, 16.2, 17.3, 20.5, 20.2, 19.4, 15.5, 14.1, 11. ,\n",
              "        11.1, 14. , 11.4, 12.5, 13.4, 13.6, 13.9, 17.2, 14.7, 15.4, 13.1,\n",
              "        13.2, 13.9, 10. , 12.9, 14.6, 14. , 13.6, 13.5, 15.7, 13. ]])"
            ]
          },
          "metadata": {
            "tags": []
          },
          "execution_count": 126
        }
      ]
    },
    {
      "cell_type": "code",
      "metadata": {
        "colab": {
          "base_uri": "https://localhost:8080/"
        },
        "id": "tC0sxQVzawcN",
        "outputId": "8682b497-cb75-477a-d4d5-236307d49104"
      },
      "source": [
        "predictions_train[:5]"
      ],
      "execution_count": 127,
      "outputs": [
        {
          "output_type": "execute_result",
          "data": {
            "text/plain": [
              "array([[17.831821],\n",
              "       [16.112595],\n",
              "       [16.91165 ],\n",
              "       [13.892606],\n",
              "       [14.730079]], dtype=float32)"
            ]
          },
          "metadata": {
            "tags": []
          },
          "execution_count": 127
        }
      ]
    },
    {
      "cell_type": "markdown",
      "metadata": {
        "id": "VtowvAItJv6c"
      },
      "source": [
        "### Evaluate train predictions\n",
        "- calculate RMSE\n",
        "- RMSE = sqrt(mean_squared_error(true_labels, predicted_labels))\n",
        "- use sqrt() and mean_squared_error() method\n",
        "- print training RMSE"
      ]
    },
    {
      "cell_type": "code",
      "metadata": {
        "id": "GjXbis_bJ9GL",
        "colab": {
          "base_uri": "https://localhost:8080/"
        },
        "outputId": "4b4894b2-1c81-4c44-addf-b9d4ad9b7d5d"
      },
      "source": [
        "trainScore = math.sqrt(mean_squared_error(y_train[0], predictions_train[:,0]))\n",
        "print('Train Score: %.2f RMSE' % (trainScore))"
      ],
      "execution_count": 129,
      "outputs": [
        {
          "output_type": "stream",
          "text": [
            "Train Score: 2.60 RMSE\n"
          ],
          "name": "stdout"
        }
      ]
    },
    {
      "cell_type": "markdown",
      "metadata": {
        "id": "DBOfSPRDvERE"
      },
      "source": [
        "### Evaluate test predictions\n",
        "- calculate RMSE\n",
        "- RMSE = sqrt(mean_squared_error(true_labels, predicted_labels))\n",
        "- use sqrt() and mean_squared_error() method\n",
        "- print testing RMSE"
      ]
    },
    {
      "cell_type": "code",
      "metadata": {
        "id": "8rQOereovERJ",
        "colab": {
          "base_uri": "https://localhost:8080/"
        },
        "outputId": "3142fff3-5f48-4ec5-b512-259d9a8c6373"
      },
      "source": [
        "testScore = math.sqrt(mean_squared_error(y_test[0], predictions_test[:,0]))\n",
        "print('Test Score: %.2f RMSE' % (testScore))"
      ],
      "execution_count": 131,
      "outputs": [
        {
          "output_type": "stream",
          "text": [
            "Test Score: 2.53 RMSE\n"
          ],
          "name": "stdout"
        }
      ]
    }
  ]
}