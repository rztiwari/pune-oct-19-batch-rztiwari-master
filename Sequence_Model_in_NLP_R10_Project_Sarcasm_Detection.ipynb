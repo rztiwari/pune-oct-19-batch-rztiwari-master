{
  "nbformat": 4,
  "nbformat_minor": 0,
  "metadata": {
    "accelerator": "GPU",
    "colab": {
      "name": "Sequence Model in NLP_R10_Project_Sarcasm Detection.ipynb",
      "provenance": [],
      "collapsed_sections": []
    },
    "kernelspec": {
      "display_name": "Python 3",
      "language": "python",
      "name": "python3"
    },
    "language_info": {
      "codemirror_mode": {
        "name": "ipython",
        "version": 3
      },
      "file_extension": ".py",
      "mimetype": "text/x-python",
      "name": "python",
      "nbconvert_exporter": "python",
      "pygments_lexer": "ipython3",
      "version": "3.7.3"
    }
  },
  "cells": [
    {
      "cell_type": "markdown",
      "metadata": {
        "id": "bI7SIeJ_oZMU"
      },
      "source": [
        "<img src=\"http://drive.google.com/uc?export=view&id=1tpOCamr9aWz817atPnyXus8w5gJ3mIts\" width=500px>\n",
        "\n",
        "Proprietary content. © Great Learning. All Rights Reserved. Unauthorized use or distribution prohibited."
      ]
    },
    {
      "cell_type": "markdown",
      "metadata": {
        "id": "Eukag7wEoPZu"
      },
      "source": [
        "### Package Version:\n",
        "- tensorflow==2.2.0\n",
        "- pandas==1.0.5\n",
        "- numpy==1.18.5\n",
        "- google==2.0.3"
      ]
    },
    {
      "cell_type": "code",
      "metadata": {
        "id": "k6ULvhdzNLMv"
      },
      "source": [
        "# All import statements.\r\n",
        "import tensorflow as tf\r\n",
        "import os\r\n",
        "import math\r\n",
        "import numpy as np\r\n",
        "import pandas as pd\r\n",
        "from scipy import stats\r\n",
        "from sklearn import metrics\r\n",
        "from sklearn import preprocessing\r\n",
        "from sklearn.preprocessing import MinMaxScaler\r\n",
        "from tensorflow.keras.models import Sequential\r\n",
        "from tensorflow.keras.layers import GRU, Dense\r\n",
        "from tensorflow.keras.layers import LSTM, Bidirectional, Embedding, Dropout, Flatten\r\n",
        "from tensorflow.keras  import callbacks\r\n",
        "from tensorflow.keras import optimizers\r\n",
        "from sklearn.metrics import mean_squared_error\r\n",
        "import json\r\n",
        "from tensorflow.keras.preprocessing.text import Tokenizer\r\n",
        "from keras.preprocessing.sequence import pad_sequences\r\n",
        "from sklearn.model_selection import train_test_split"
      ],
      "execution_count": null,
      "outputs": []
    },
    {
      "cell_type": "markdown",
      "metadata": {
        "id": "pp68FAQf9aMN"
      },
      "source": [
        "# Sarcasm Detection"
      ]
    },
    {
      "cell_type": "markdown",
      "metadata": {
        "id": "bEahVPtWX5ve"
      },
      "source": [
        "### Dataset\n",
        "\n",
        "#### Acknowledgement\n",
        "Misra, Rishabh, and Prahal Arora. \"Sarcasm Detection using Hybrid Neural Network.\" arXiv preprint arXiv:1908.07414 (2019).\n",
        "\n",
        "**Required Files given in below link.**\n",
        "\n",
        "https://drive.google.com/drive/folders/1xUnF35naPGU63xwRDVGc-DkZ3M8V5mMk"
      ]
    },
    {
      "cell_type": "markdown",
      "metadata": {
        "id": "vAk6BRUh8CqL"
      },
      "source": [
        "### Load Data "
      ]
    },
    {
      "cell_type": "code",
      "metadata": {
        "colab": {
          "base_uri": "https://localhost:8080/"
        },
        "id": "v8-PQsV0DrAZ",
        "outputId": "90a8c2a4-87f8-403d-fae5-1cec1dc4f0b2"
      },
      "source": [
        "# run this cell to to mount the google drive if you are using google colab\r\n",
        "from google.colab import drive\r\n",
        "drive.mount('/content/drive')\r\n",
        "project_path = '/content/drive/My Drive/assignments/'"
      ],
      "execution_count": null,
      "outputs": [
        {
          "output_type": "stream",
          "text": [
            "Mounted at /content/drive\n"
          ],
          "name": "stdout"
        }
      ]
    },
    {
      "cell_type": "code",
      "metadata": {
        "id": "A90uBdsIbUJO"
      },
      "source": [
        "f = open(project_path+'Sarcasm_Headlines_Dataset.json', \"r\")"
      ],
      "execution_count": null,
      "outputs": []
    },
    {
      "cell_type": "code",
      "metadata": {
        "id": "GwTxxOJ5eDYL"
      },
      "source": [
        "dataArr = []"
      ],
      "execution_count": null,
      "outputs": []
    },
    {
      "cell_type": "code",
      "metadata": {
        "id": "fPnDClVNdjaV"
      },
      "source": [
        "for val in f.readlines():\r\n",
        "  dataArr.append(json.loads(val))"
      ],
      "execution_count": null,
      "outputs": []
    },
    {
      "cell_type": "code",
      "metadata": {
        "id": "2VuoTLzNfOjf"
      },
      "source": [
        "data = pd.DataFrame(dataArr)"
      ],
      "execution_count": null,
      "outputs": []
    },
    {
      "cell_type": "code",
      "metadata": {
        "colab": {
          "base_uri": "https://localhost:8080/"
        },
        "id": "E834TwYjfVeO",
        "outputId": "cba1f478-7dee-41ad-ab67-afbdababc62a"
      },
      "source": [
        "data.shape"
      ],
      "execution_count": null,
      "outputs": [
        {
          "output_type": "execute_result",
          "data": {
            "text/plain": [
              "(26709, 3)"
            ]
          },
          "metadata": {
            "tags": []
          },
          "execution_count": 7
        }
      ]
    },
    {
      "cell_type": "markdown",
      "metadata": {
        "id": "ho3SNJXZPGq9"
      },
      "source": [
        "There are 26709 records "
      ]
    },
    {
      "cell_type": "code",
      "metadata": {
        "colab": {
          "base_uri": "https://localhost:8080/",
          "height": 202
        },
        "id": "3n2gQxsHf7dz",
        "outputId": "d4a521ec-0cfc-441e-e31d-00fb7672fa12"
      },
      "source": [
        "data.head()"
      ],
      "execution_count": null,
      "outputs": [
        {
          "output_type": "execute_result",
          "data": {
            "text/html": [
              "<div>\n",
              "<style scoped>\n",
              "    .dataframe tbody tr th:only-of-type {\n",
              "        vertical-align: middle;\n",
              "    }\n",
              "\n",
              "    .dataframe tbody tr th {\n",
              "        vertical-align: top;\n",
              "    }\n",
              "\n",
              "    .dataframe thead th {\n",
              "        text-align: right;\n",
              "    }\n",
              "</style>\n",
              "<table border=\"1\" class=\"dataframe\">\n",
              "  <thead>\n",
              "    <tr style=\"text-align: right;\">\n",
              "      <th></th>\n",
              "      <th>article_link</th>\n",
              "      <th>headline</th>\n",
              "      <th>is_sarcastic</th>\n",
              "    </tr>\n",
              "  </thead>\n",
              "  <tbody>\n",
              "    <tr>\n",
              "      <th>0</th>\n",
              "      <td>https://www.huffingtonpost.com/entry/versace-b...</td>\n",
              "      <td>former versace store clerk sues over secret 'b...</td>\n",
              "      <td>0</td>\n",
              "    </tr>\n",
              "    <tr>\n",
              "      <th>1</th>\n",
              "      <td>https://www.huffingtonpost.com/entry/roseanne-...</td>\n",
              "      <td>the 'roseanne' revival catches up to our thorn...</td>\n",
              "      <td>0</td>\n",
              "    </tr>\n",
              "    <tr>\n",
              "      <th>2</th>\n",
              "      <td>https://local.theonion.com/mom-starting-to-fea...</td>\n",
              "      <td>mom starting to fear son's web series closest ...</td>\n",
              "      <td>1</td>\n",
              "    </tr>\n",
              "    <tr>\n",
              "      <th>3</th>\n",
              "      <td>https://politics.theonion.com/boehner-just-wan...</td>\n",
              "      <td>boehner just wants wife to listen, not come up...</td>\n",
              "      <td>1</td>\n",
              "    </tr>\n",
              "    <tr>\n",
              "      <th>4</th>\n",
              "      <td>https://www.huffingtonpost.com/entry/jk-rowlin...</td>\n",
              "      <td>j.k. rowling wishes snape happy birthday in th...</td>\n",
              "      <td>0</td>\n",
              "    </tr>\n",
              "  </tbody>\n",
              "</table>\n",
              "</div>"
            ],
            "text/plain": [
              "                                        article_link  ... is_sarcastic\n",
              "0  https://www.huffingtonpost.com/entry/versace-b...  ...            0\n",
              "1  https://www.huffingtonpost.com/entry/roseanne-...  ...            0\n",
              "2  https://local.theonion.com/mom-starting-to-fea...  ...            1\n",
              "3  https://politics.theonion.com/boehner-just-wan...  ...            1\n",
              "4  https://www.huffingtonpost.com/entry/jk-rowlin...  ...            0\n",
              "\n",
              "[5 rows x 3 columns]"
            ]
          },
          "metadata": {
            "tags": []
          },
          "execution_count": 8
        }
      ]
    },
    {
      "cell_type": "markdown",
      "metadata": {
        "id": "z6pXf7A78E2H"
      },
      "source": [
        "### Drop `article_link` from dataset "
      ]
    },
    {
      "cell_type": "code",
      "metadata": {
        "id": "-WUNHq5zEV0n"
      },
      "source": [
        "data.drop('article_link', axis=1, inplace=True)"
      ],
      "execution_count": null,
      "outputs": []
    },
    {
      "cell_type": "code",
      "metadata": {
        "colab": {
          "base_uri": "https://localhost:8080/"
        },
        "id": "iirYcLkqefTb",
        "outputId": "ce3c95cf-23e9-4fd7-e5fa-fd994f775168"
      },
      "source": [
        "data.shape"
      ],
      "execution_count": null,
      "outputs": [
        {
          "output_type": "execute_result",
          "data": {
            "text/plain": [
              "(26709, 2)"
            ]
          },
          "metadata": {
            "tags": []
          },
          "execution_count": 10
        }
      ]
    },
    {
      "cell_type": "markdown",
      "metadata": {
        "id": "D0h6IOxU8OdH"
      },
      "source": [
        "### Get length of each headline and add a column for that "
      ]
    },
    {
      "cell_type": "code",
      "metadata": {
        "id": "MLpiBRDmEV2l"
      },
      "source": [
        "headline_len = []\r\n",
        "for i in range(len(data)):\r\n",
        "  headline_len.append(len(data.iloc[i: i+1].headline.values[0]))"
      ],
      "execution_count": null,
      "outputs": []
    },
    {
      "cell_type": "code",
      "metadata": {
        "id": "f_tcqtisjD9f"
      },
      "source": [
        "data['headline_len'] = headline_len"
      ],
      "execution_count": null,
      "outputs": []
    },
    {
      "cell_type": "code",
      "metadata": {
        "colab": {
          "base_uri": "https://localhost:8080/"
        },
        "id": "872VaBy_kX1j",
        "outputId": "1e39245d-47a4-4b24-83d3-d91b569aeb80"
      },
      "source": [
        "data.shape"
      ],
      "execution_count": null,
      "outputs": [
        {
          "output_type": "execute_result",
          "data": {
            "text/plain": [
              "(26709, 3)"
            ]
          },
          "metadata": {
            "tags": []
          },
          "execution_count": 13
        }
      ]
    },
    {
      "cell_type": "code",
      "metadata": {
        "colab": {
          "base_uri": "https://localhost:8080/",
          "height": 202
        },
        "id": "eiDiQ7iZkbgv",
        "outputId": "a186c363-e4f7-40ac-80ff-5980e916a441"
      },
      "source": [
        "data.head()"
      ],
      "execution_count": null,
      "outputs": [
        {
          "output_type": "execute_result",
          "data": {
            "text/html": [
              "<div>\n",
              "<style scoped>\n",
              "    .dataframe tbody tr th:only-of-type {\n",
              "        vertical-align: middle;\n",
              "    }\n",
              "\n",
              "    .dataframe tbody tr th {\n",
              "        vertical-align: top;\n",
              "    }\n",
              "\n",
              "    .dataframe thead th {\n",
              "        text-align: right;\n",
              "    }\n",
              "</style>\n",
              "<table border=\"1\" class=\"dataframe\">\n",
              "  <thead>\n",
              "    <tr style=\"text-align: right;\">\n",
              "      <th></th>\n",
              "      <th>headline</th>\n",
              "      <th>is_sarcastic</th>\n",
              "      <th>headline_len</th>\n",
              "    </tr>\n",
              "  </thead>\n",
              "  <tbody>\n",
              "    <tr>\n",
              "      <th>0</th>\n",
              "      <td>former versace store clerk sues over secret 'b...</td>\n",
              "      <td>0</td>\n",
              "      <td>78</td>\n",
              "    </tr>\n",
              "    <tr>\n",
              "      <th>1</th>\n",
              "      <td>the 'roseanne' revival catches up to our thorn...</td>\n",
              "      <td>0</td>\n",
              "      <td>84</td>\n",
              "    </tr>\n",
              "    <tr>\n",
              "      <th>2</th>\n",
              "      <td>mom starting to fear son's web series closest ...</td>\n",
              "      <td>1</td>\n",
              "      <td>79</td>\n",
              "    </tr>\n",
              "    <tr>\n",
              "      <th>3</th>\n",
              "      <td>boehner just wants wife to listen, not come up...</td>\n",
              "      <td>1</td>\n",
              "      <td>84</td>\n",
              "    </tr>\n",
              "    <tr>\n",
              "      <th>4</th>\n",
              "      <td>j.k. rowling wishes snape happy birthday in th...</td>\n",
              "      <td>0</td>\n",
              "      <td>64</td>\n",
              "    </tr>\n",
              "  </tbody>\n",
              "</table>\n",
              "</div>"
            ],
            "text/plain": [
              "                                            headline  ...  headline_len\n",
              "0  former versace store clerk sues over secret 'b...  ...            78\n",
              "1  the 'roseanne' revival catches up to our thorn...  ...            84\n",
              "2  mom starting to fear son's web series closest ...  ...            79\n",
              "3  boehner just wants wife to listen, not come up...  ...            84\n",
              "4  j.k. rowling wishes snape happy birthday in th...  ...            64\n",
              "\n",
              "[5 rows x 3 columns]"
            ]
          },
          "metadata": {
            "tags": []
          },
          "execution_count": 14
        }
      ]
    },
    {
      "cell_type": "markdown",
      "metadata": {
        "id": "dGpIvmoJQeiZ"
      },
      "source": [
        "Since there are a lot of records its not possible to train the full set as the colab crashes, hence taking 5000 records to train the model"
      ]
    },
    {
      "cell_type": "code",
      "metadata": {
        "id": "Dw6mFcHW8vt7"
      },
      "source": [
        "# Staching the remaining recods which can be used for testing\r\n",
        "stachedData = data.iloc[5001:]"
      ],
      "execution_count": null,
      "outputs": []
    },
    {
      "cell_type": "code",
      "metadata": {
        "id": "2XbYDu7oZ_FL"
      },
      "source": [
        "# Taking first 5000 records\r\n",
        "data = data.iloc[:5000]"
      ],
      "execution_count": null,
      "outputs": []
    },
    {
      "cell_type": "code",
      "metadata": {
        "colab": {
          "base_uri": "https://localhost:8080/"
        },
        "id": "NIr-pCpA9FMK",
        "outputId": "8243ed63-a931-48db-c1da-542b790ed809"
      },
      "source": [
        "data.shape"
      ],
      "execution_count": null,
      "outputs": [
        {
          "output_type": "execute_result",
          "data": {
            "text/plain": [
              "(5000, 3)"
            ]
          },
          "metadata": {
            "tags": []
          },
          "execution_count": 17
        }
      ]
    },
    {
      "cell_type": "markdown",
      "metadata": {
        "id": "SMF-wjJ2aMwm"
      },
      "source": [
        "### Initialize parameter values\n",
        "- Set values for max_features, maxlen, & embedding_size\n",
        "- max_features: Number of words to take from tokenizer(most frequent words)\n",
        "- maxlen: Maximum length of each sentence to be limited to 25\n",
        "- embedding_size: size of embedding vector"
      ]
    },
    {
      "cell_type": "code",
      "metadata": {
        "id": "jPw9gAN_EV6m"
      },
      "source": [
        "max_features = 10000\n",
        "maxlen = 25\n",
        "embedding_size = 200"
      ],
      "execution_count": null,
      "outputs": []
    },
    {
      "cell_type": "markdown",
      "metadata": {
        "id": "9abSe-bM8fn9"
      },
      "source": [
        "### Apply `tensorflow.keras` Tokenizer and get indices for words \n",
        "- Initialize Tokenizer object with number of words as 10000\n",
        "- Fit the tokenizer object on headline column\n",
        "- Convert the text to sequence\n"
      ]
    },
    {
      "cell_type": "code",
      "metadata": {
        "id": "y8g4l0KfF3eh"
      },
      "source": [
        "tokenizer = Tokenizer(num_words=10000, split= ' ')"
      ],
      "execution_count": null,
      "outputs": []
    },
    {
      "cell_type": "code",
      "metadata": {
        "id": "YZur6CCENED8"
      },
      "source": [
        "tokenizer.fit_on_texts(data.headline)\r\n",
        "headline_seq = tokenizer.texts_to_sequences(data.headline.values)"
      ],
      "execution_count": null,
      "outputs": []
    },
    {
      "cell_type": "markdown",
      "metadata": {
        "id": "xeZpwPO4bOkZ"
      },
      "source": [
        "### Pad sequences \n",
        "- Pad each example with a maximum length\n",
        "- Convert target column into numpy array"
      ]
    },
    {
      "cell_type": "code",
      "metadata": {
        "id": "qV0K70E5c9Xl"
      },
      "source": [
        "headline_seq = pad_sequences(headline_seq)"
      ],
      "execution_count": null,
      "outputs": []
    },
    {
      "cell_type": "code",
      "metadata": {
        "colab": {
          "base_uri": "https://localhost:8080/"
        },
        "id": "PaCt3UgONOrQ",
        "outputId": "93d7b76c-1b0c-48e7-f463-877d4df9efe7"
      },
      "source": [
        "headline_seq.shape"
      ],
      "execution_count": null,
      "outputs": [
        {
          "output_type": "execute_result",
          "data": {
            "text/plain": [
              "(5000, 26)"
            ]
          },
          "metadata": {
            "tags": []
          },
          "execution_count": 22
        }
      ]
    },
    {
      "cell_type": "markdown",
      "metadata": {
        "id": "WJLyKg-98rH_"
      },
      "source": [
        "### Vocab mapping\n",
        "- There is no word for 0th index"
      ]
    },
    {
      "cell_type": "code",
      "metadata": {
        "colab": {
          "base_uri": "https://localhost:8080/"
        },
        "id": "vCNgtnQqdbZn",
        "outputId": "1bed79a8-e3f5-4367-9fb1-52f15c079a18"
      },
      "source": [
        "tokenizer.word_index"
      ],
      "execution_count": null,
      "outputs": [
        {
          "output_type": "execute_result",
          "data": {
            "text/plain": [
              "{'to': 1,\n",
              " 'of': 2,\n",
              " 'the': 3,\n",
              " 'in': 4,\n",
              " 'for': 5,\n",
              " 'a': 6,\n",
              " 'on': 7,\n",
              " 'and': 8,\n",
              " 'with': 9,\n",
              " 'is': 10,\n",
              " 'new': 11,\n",
              " 'trump': 12,\n",
              " 'man': 13,\n",
              " 'from': 14,\n",
              " 'at': 15,\n",
              " 'you': 16,\n",
              " 'about': 17,\n",
              " 'after': 18,\n",
              " 'out': 19,\n",
              " 'by': 20,\n",
              " 'this': 21,\n",
              " 'it': 22,\n",
              " 'up': 23,\n",
              " 'be': 24,\n",
              " 'that': 25,\n",
              " 'as': 26,\n",
              " 'how': 27,\n",
              " 'not': 28,\n",
              " 'are': 29,\n",
              " 'what': 30,\n",
              " 'all': 31,\n",
              " 'your': 32,\n",
              " 'will': 33,\n",
              " 'who': 34,\n",
              " 'just': 35,\n",
              " 'has': 36,\n",
              " 'over': 37,\n",
              " 'his': 38,\n",
              " 'he': 39,\n",
              " 'year': 40,\n",
              " 'one': 41,\n",
              " 'have': 42,\n",
              " 'u': 43,\n",
              " 'into': 44,\n",
              " 'more': 45,\n",
              " 'first': 46,\n",
              " 'time': 47,\n",
              " 'woman': 48,\n",
              " 'old': 49,\n",
              " 'day': 50,\n",
              " 'area': 51,\n",
              " 'no': 52,\n",
              " 's': 53,\n",
              " 'says': 54,\n",
              " 'why': 55,\n",
              " 'an': 56,\n",
              " 'donald': 57,\n",
              " 'report': 58,\n",
              " 'her': 59,\n",
              " 'can': 60,\n",
              " 'get': 61,\n",
              " 'off': 62,\n",
              " 'obama': 63,\n",
              " 'still': 64,\n",
              " 'like': 65,\n",
              " 'make': 66,\n",
              " 'people': 67,\n",
              " \"trump's\": 68,\n",
              " 'women': 69,\n",
              " 'life': 70,\n",
              " 'their': 71,\n",
              " 'when': 72,\n",
              " 'my': 73,\n",
              " 'family': 74,\n",
              " 'way': 75,\n",
              " 'back': 76,\n",
              " 'i': 77,\n",
              " 'they': 78,\n",
              " 'do': 79,\n",
              " 'white': 80,\n",
              " 'now': 81,\n",
              " 'clinton': 82,\n",
              " 'so': 83,\n",
              " 'school': 84,\n",
              " 'police': 85,\n",
              " 'years': 86,\n",
              " 'was': 87,\n",
              " 'only': 88,\n",
              " 'home': 89,\n",
              " 'if': 90,\n",
              " \"'\": 91,\n",
              " 'down': 92,\n",
              " 'president': 93,\n",
              " 'death': 94,\n",
              " 'best': 95,\n",
              " 'would': 96,\n",
              " 'world': 97,\n",
              " 'house': 98,\n",
              " '5': 99,\n",
              " 'black': 100,\n",
              " 'could': 101,\n",
              " \"it's\": 102,\n",
              " 'own': 103,\n",
              " '10': 104,\n",
              " 'study': 105,\n",
              " 'every': 106,\n",
              " 'or': 107,\n",
              " 'she': 108,\n",
              " 'but': 109,\n",
              " 'watch': 110,\n",
              " 'we': 111,\n",
              " 'good': 112,\n",
              " 'most': 113,\n",
              " 'gop': 114,\n",
              " '000': 115,\n",
              " 'during': 116,\n",
              " 'really': 117,\n",
              " 'being': 118,\n",
              " 'than': 119,\n",
              " 'bill': 120,\n",
              " 'going': 121,\n",
              " 'love': 122,\n",
              " 'video': 123,\n",
              " 'americans': 124,\n",
              " 'finds': 125,\n",
              " 'our': 126,\n",
              " 'dead': 127,\n",
              " '3': 128,\n",
              " 'last': 129,\n",
              " 'before': 130,\n",
              " 'things': 131,\n",
              " 'him': 132,\n",
              " 'party': 133,\n",
              " 'high': 134,\n",
              " 'never': 135,\n",
              " \"here's\": 136,\n",
              " 'go': 137,\n",
              " 'know': 138,\n",
              " 'where': 139,\n",
              " 'work': 140,\n",
              " 'news': 141,\n",
              " 'calls': 142,\n",
              " 'american': 143,\n",
              " '4': 144,\n",
              " 'too': 145,\n",
              " \"'the\": 146,\n",
              " 'show': 147,\n",
              " 'while': 148,\n",
              " 'may': 149,\n",
              " 'take': 150,\n",
              " 'its': 151,\n",
              " 'court': 152,\n",
              " 'hillary': 153,\n",
              " 'mom': 154,\n",
              " 'kids': 155,\n",
              " 'got': 156,\n",
              " 'see': 157,\n",
              " 'john': 158,\n",
              " \"can't\": 159,\n",
              " 'look': 160,\n",
              " 'need': 161,\n",
              " 'long': 162,\n",
              " 'want': 163,\n",
              " 'college': 164,\n",
              " 'nation': 165,\n",
              " 'bush': 166,\n",
              " 'change': 167,\n",
              " 'little': 168,\n",
              " 'takes': 169,\n",
              " 'should': 170,\n",
              " 'campaign': 171,\n",
              " 'dad': 172,\n",
              " 'another': 173,\n",
              " 'against': 174,\n",
              " 'big': 175,\n",
              " 'parents': 176,\n",
              " 'two': 177,\n",
              " 'gets': 178,\n",
              " '9': 179,\n",
              " 'actually': 180,\n",
              " 'plan': 181,\n",
              " 'office': 182,\n",
              " 'health': 183,\n",
              " 'self': 184,\n",
              " 'child': 185,\n",
              " \"doesn't\": 186,\n",
              " 'state': 187,\n",
              " 'everyone': 188,\n",
              " 'attack': 189,\n",
              " 'sex': 190,\n",
              " \"don't\": 191,\n",
              " 'local': 192,\n",
              " 'other': 193,\n",
              " 'gun': 194,\n",
              " 'real': 195,\n",
              " 'gay': 196,\n",
              " 'makes': 197,\n",
              " 'god': 198,\n",
              " 'history': 199,\n",
              " 'media': 200,\n",
              " 'food': 201,\n",
              " 'these': 202,\n",
              " \"world's\": 203,\n",
              " 'say': 204,\n",
              " \"nation's\": 205,\n",
              " '6': 206,\n",
              " 'climate': 207,\n",
              " 'some': 208,\n",
              " 'season': 209,\n",
              " 'does': 210,\n",
              " 'me': 211,\n",
              " '7': 212,\n",
              " '2': 213,\n",
              " 'baby': 214,\n",
              " 'congress': 215,\n",
              " 'made': 216,\n",
              " '8': 217,\n",
              " 'law': 218,\n",
              " 'better': 219,\n",
              " 'national': 220,\n",
              " '1': 221,\n",
              " 'next': 222,\n",
              " 'help': 223,\n",
              " 'give': 224,\n",
              " 'shooting': 225,\n",
              " 'had': 226,\n",
              " 'again': 227,\n",
              " 'america': 228,\n",
              " 'much': 229,\n",
              " 'couple': 230,\n",
              " 'under': 231,\n",
              " 'debate': 232,\n",
              " 'shows': 233,\n",
              " 'million': 234,\n",
              " \"he's\": 235,\n",
              " 'night': 236,\n",
              " 'without': 237,\n",
              " 'ways': 238,\n",
              " 'paul': 239,\n",
              " 'city': 240,\n",
              " 'getting': 241,\n",
              " \"won't\": 242,\n",
              " 'job': 243,\n",
              " 'keep': 244,\n",
              " 'tv': 245,\n",
              " 'wants': 246,\n",
              " 'top': 247,\n",
              " 'north': 248,\n",
              " 'must': 249,\n",
              " 'money': 250,\n",
              " 'stop': 251,\n",
              " 'there': 252,\n",
              " 'dog': 253,\n",
              " 'election': 254,\n",
              " \"man's\": 255,\n",
              " 'fire': 256,\n",
              " 'announces': 257,\n",
              " 'through': 258,\n",
              " 'team': 259,\n",
              " 'teacher': 260,\n",
              " 'around': 261,\n",
              " 'power': 262,\n",
              " 'away': 263,\n",
              " 'them': 264,\n",
              " 'photos': 265,\n",
              " 'because': 266,\n",
              " '20': 267,\n",
              " 'business': 268,\n",
              " 'each': 269,\n",
              " 'teen': 270,\n",
              " 'use': 271,\n",
              " 'gives': 272,\n",
              " 'think': 273,\n",
              " 'even': 274,\n",
              " 'facebook': 275,\n",
              " 'reports': 276,\n",
              " 'water': 277,\n",
              " 'body': 278,\n",
              " 'room': 279,\n",
              " 'finally': 280,\n",
              " 'sanders': 281,\n",
              " 'friend': 282,\n",
              " 'anti': 283,\n",
              " 'war': 284,\n",
              " 'department': 285,\n",
              " 'end': 286,\n",
              " 'book': 287,\n",
              " 'poll': 288,\n",
              " 'us': 289,\n",
              " 'live': 290,\n",
              " 'game': 291,\n",
              " 'control': 292,\n",
              " 'thinks': 293,\n",
              " 'students': 294,\n",
              " 'pope': 295,\n",
              " 'find': 296,\n",
              " 'daughter': 297,\n",
              " 'head': 298,\n",
              " 'son': 299,\n",
              " \"you're\": 300,\n",
              " 'public': 301,\n",
              " 'fucking': 302,\n",
              " 'any': 303,\n",
              " 'part': 304,\n",
              " 'fight': 305,\n",
              " 'york': 306,\n",
              " 'senate': 307,\n",
              " 'call': 308,\n",
              " 'might': 309,\n",
              " 'running': 310,\n",
              " 'student': 311,\n",
              " 'making': 312,\n",
              " 'wife': 313,\n",
              " 'morning': 314,\n",
              " 'voters': 315,\n",
              " 'support': 316,\n",
              " 'entire': 317,\n",
              " 'film': 318,\n",
              " 'found': 319,\n",
              " 'men': 320,\n",
              " 'three': 321,\n",
              " '11': 322,\n",
              " 'speech': 323,\n",
              " 'ever': 324,\n",
              " 'social': 325,\n",
              " 'face': 326,\n",
              " 'democrats': 327,\n",
              " 'come': 328,\n",
              " 'been': 329,\n",
              " \"didn't\": 330,\n",
              " 'christmas': 331,\n",
              " 'list': 332,\n",
              " 'living': 333,\n",
              " 'texas': 334,\n",
              " 'movie': 335,\n",
              " 'car': 336,\n",
              " 'friends': 337,\n",
              " 'story': 338,\n",
              " 'supreme': 339,\n",
              " 'security': 340,\n",
              " 'trying': 341,\n",
              " 'future': 342,\n",
              " 'education': 343,\n",
              " 'right': 344,\n",
              " '15': 345,\n",
              " 'word': 346,\n",
              " 'introduces': 347,\n",
              " 'sexual': 348,\n",
              " 'guy': 349,\n",
              " 'middle': 350,\n",
              " 'thing': 351,\n",
              " 'asks': 352,\n",
              " 'gift': 353,\n",
              " 'single': 354,\n",
              " 'unveils': 355,\n",
              " 'sure': 356,\n",
              " 'star': 357,\n",
              " 'music': 358,\n",
              " 'james': 359,\n",
              " 'california': 360,\n",
              " 'cancer': 361,\n",
              " 'past': 362,\n",
              " 'scientists': 363,\n",
              " 'deal': 364,\n",
              " 'until': 365,\n",
              " 'tell': 366,\n",
              " 'missing': 367,\n",
              " 'republicans': 368,\n",
              " 'between': 369,\n",
              " 'releases': 370,\n",
              " 'let': 371,\n",
              " 'former': 372,\n",
              " 'working': 373,\n",
              " 'ex': 374,\n",
              " 'tax': 375,\n",
              " 'drug': 376,\n",
              " 'holiday': 377,\n",
              " 'once': 378,\n",
              " 'hard': 379,\n",
              " 'rights': 380,\n",
              " 'line': 381,\n",
              " 'coming': 382,\n",
              " 'comes': 383,\n",
              " 'marriage': 384,\n",
              " 'post': 385,\n",
              " 'kill': 386,\n",
              " 'vote': 387,\n",
              " 'isis': 388,\n",
              " 'republican': 389,\n",
              " 'left': 390,\n",
              " 'plans': 391,\n",
              " 'probably': 392,\n",
              " 'judge': 393,\n",
              " 'hot': 394,\n",
              " 'birth': 395,\n",
              " 'many': 396,\n",
              " 'doing': 397,\n",
              " 'forced': 398,\n",
              " 'director': 399,\n",
              " 'wedding': 400,\n",
              " 'federal': 401,\n",
              " 'political': 402,\n",
              " 'series': 403,\n",
              " 'inside': 404,\n",
              " 'lost': 405,\n",
              " 'claims': 406,\n",
              " 'used': 407,\n",
              " 'hour': 408,\n",
              " 'chief': 409,\n",
              " 'congressman': 410,\n",
              " 'father': 411,\n",
              " 'kim': 412,\n",
              " 'free': 413,\n",
              " 'push': 414,\n",
              " 'same': 415,\n",
              " 'hate': 416,\n",
              " 'already': 417,\n",
              " 'admits': 418,\n",
              " 'having': 419,\n",
              " 'bernie': 420,\n",
              " 'children': 421,\n",
              " 'enough': 422,\n",
              " 'wearing': 423,\n",
              " 'second': 424,\n",
              " 'shot': 425,\n",
              " 'meet': 426,\n",
              " 'presidential': 427,\n",
              " 'russia': 428,\n",
              " 'government': 429,\n",
              " 'officials': 430,\n",
              " '2016': 431,\n",
              " 'personal': 432,\n",
              " 'taking': 433,\n",
              " 'art': 434,\n",
              " 'week': 435,\n",
              " 'talk': 436,\n",
              " 'together': 437,\n",
              " 'email': 438,\n",
              " 'play': 439,\n",
              " 'care': 440,\n",
              " 'ready': 441,\n",
              " 'red': 442,\n",
              " 'thought': 443,\n",
              " \"'i\": 444,\n",
              " 'fashion': 445,\n",
              " '12': 446,\n",
              " 'super': 447,\n",
              " 'air': 448,\n",
              " 'dies': 449,\n",
              " 'different': 450,\n",
              " \"i'm\": 451,\n",
              " 'lives': 452,\n",
              " 'd': 453,\n",
              " 'run': 454,\n",
              " 'justice': 455,\n",
              " 'trailer': 456,\n",
              " 'name': 457,\n",
              " 'human': 458,\n",
              " 'kind': 459,\n",
              " 'obamacare': 460,\n",
              " 'internet': 461,\n",
              " 'employee': 462,\n",
              " 'mike': 463,\n",
              " 'order': 464,\n",
              " 'five': 465,\n",
              " 'small': 466,\n",
              " 'town': 467,\n",
              " '30': 468,\n",
              " 'killed': 469,\n",
              " 'bad': 470,\n",
              " 'case': 471,\n",
              " 'ceo': 472,\n",
              " 'company': 473,\n",
              " 'korea': 474,\n",
              " 'fans': 475,\n",
              " 'times': 476,\n",
              " 'breaking': 477,\n",
              " 'un': 478,\n",
              " 'coffee': 479,\n",
              " 'prison': 480,\n",
              " 'dream': 481,\n",
              " 'everything': 482,\n",
              " 'were': 483,\n",
              " \"you'll\": 484,\n",
              " 'worried': 485,\n",
              " 'phone': 486,\n",
              " 'lawsuit': 487,\n",
              " 'boy': 488,\n",
              " 'fun': 489,\n",
              " 'michael': 490,\n",
              " 'tells': 491,\n",
              " 'class': 492,\n",
              " 'female': 493,\n",
              " 'goes': 494,\n",
              " 'abortion': 495,\n",
              " 'taylor': 496,\n",
              " 'favorite': 497,\n",
              " 'message': 498,\n",
              " 'age': 499,\n",
              " 'looks': 500,\n",
              " 'loses': 501,\n",
              " 'become': 502,\n",
              " 'very': 503,\n",
              " 'photo': 504,\n",
              " 'far': 505,\n",
              " 'cover': 506,\n",
              " 'thousands': 507,\n",
              " 'twitter': 508,\n",
              " 'candidate': 509,\n",
              " 'administration': 510,\n",
              " 'read': 511,\n",
              " 'knows': 512,\n",
              " 'needs': 513,\n",
              " 'watching': 514,\n",
              " 'half': 515,\n",
              " 'eating': 516,\n",
              " 'decision': 517,\n",
              " 'cruz': 518,\n",
              " 'behind': 519,\n",
              " 'earth': 520,\n",
              " 'girl': 521,\n",
              " 'ryan': 522,\n",
              " 'following': 523,\n",
              " 'francis': 524,\n",
              " 'full': 525,\n",
              " '2015': 526,\n",
              " 'hope': 527,\n",
              " 'democratic': 528,\n",
              " 'union': 529,\n",
              " 'celebrates': 530,\n",
              " \"obama's\": 531,\n",
              " \"aren't\": 532,\n",
              " 'lot': 533,\n",
              " 'kills': 534,\n",
              " 'shit': 535,\n",
              " 'letter': 536,\n",
              " 'special': 537,\n",
              " 'ban': 538,\n",
              " '50': 539,\n",
              " 'win': 540,\n",
              " 'leaving': 541,\n",
              " 'set': 542,\n",
              " 'issues': 543,\n",
              " 'epa': 544,\n",
              " 'ask': 545,\n",
              " 'looking': 546,\n",
              " 'career': 547,\n",
              " 'billion': 548,\n",
              " 'opens': 549,\n",
              " 'interview': 550,\n",
              " 'moment': 551,\n",
              " 'trip': 552,\n",
              " 'rules': 553,\n",
              " 'days': 554,\n",
              " 'policy': 555,\n",
              " 'waiting': 556,\n",
              " 'king': 557,\n",
              " 'pretty': 558,\n",
              " 'something': 559,\n",
              " 'person': 560,\n",
              " 'fbi': 561,\n",
              " 'cop': 562,\n",
              " 'immigration': 563,\n",
              " 'here': 564,\n",
              " 'warns': 565,\n",
              " 'latest': 566,\n",
              " 'reveals': 567,\n",
              " 'secret': 568,\n",
              " 'ideas': 569,\n",
              " 'happy': 570,\n",
              " 'birthday': 571,\n",
              " 'leaves': 572,\n",
              " 'refugees': 573,\n",
              " 'syrian': 574,\n",
              " 'vows': 575,\n",
              " 'muslim': 576,\n",
              " 'christian': 577,\n",
              " \"'star\": 578,\n",
              " 'summer': 579,\n",
              " 'syria': 580,\n",
              " 'abuse': 581,\n",
              " 'told': 582,\n",
              " 'queer': 583,\n",
              " 'major': 584,\n",
              " 'perfect': 585,\n",
              " 'giving': 586,\n",
              " 'longer': 587,\n",
              " 'hotel': 588,\n",
              " 'paris': 589,\n",
              " 'least': 590,\n",
              " 'fox': 591,\n",
              " \"women's\": 592,\n",
              " 'fan': 593,\n",
              " 'bus': 594,\n",
              " 'always': 595,\n",
              " 'done': 596,\n",
              " 'community': 597,\n",
              " 'c': 598,\n",
              " 'minute': 599,\n",
              " 'march': 600,\n",
              " 'using': 601,\n",
              " 'near': 602,\n",
              " 'open': 603,\n",
              " 'yet': 604,\n",
              " 'group': 605,\n",
              " 'number': 606,\n",
              " 'rubio': 607,\n",
              " 'brings': 608,\n",
              " 'discover': 609,\n",
              " \"what's\": 610,\n",
              " 'speak': 611,\n",
              " 'washington': 612,\n",
              " 'month': 613,\n",
              " 'key': 614,\n",
              " 'start': 615,\n",
              " 'race': 616,\n",
              " 'romney': 617,\n",
              " 'promises': 618,\n",
              " 'states': 619,\n",
              " 'turns': 620,\n",
              " 'lgbt': 621,\n",
              " 'families': 622,\n",
              " 'violence': 623,\n",
              " 'signs': 624,\n",
              " 'believe': 625,\n",
              " 'meeting': 626,\n",
              " 'ice': 627,\n",
              " 'biden': 628,\n",
              " 'learned': 629,\n",
              " 'feel': 630,\n",
              " 'great': 631,\n",
              " 'heart': 632,\n",
              " 'put': 633,\n",
              " 'ted': 634,\n",
              " 'oil': 635,\n",
              " 'killing': 636,\n",
              " 'straight': 637,\n",
              " 'box': 638,\n",
              " 'scott': 639,\n",
              " 'victims': 640,\n",
              " 'pay': 641,\n",
              " 'hours': 642,\n",
              " \"america's\": 643,\n",
              " 'economy': 644,\n",
              " 'boyfriend': 645,\n",
              " 'david': 646,\n",
              " 'late': 647,\n",
              " 'role': 648,\n",
              " 'outside': 649,\n",
              " 'military': 650,\n",
              " 'fourth': 651,\n",
              " 'michelle': 652,\n",
              " 'weight': 653,\n",
              " \"they're\": 654,\n",
              " 'place': 655,\n",
              " 'point': 656,\n",
              " 'swift': 657,\n",
              " 'mark': 658,\n",
              " 'reality': 659,\n",
              " 'low': 660,\n",
              " 'google': 661,\n",
              " 'florida': 662,\n",
              " 'receives': 663,\n",
              " 'despite': 664,\n",
              " \"she's\": 665,\n",
              " 'football': 666,\n",
              " 'nfl': 667,\n",
              " 'wrong': 668,\n",
              " 'anything': 669,\n",
              " 'senator': 670,\n",
              " 'date': 671,\n",
              " 'oscar': 672,\n",
              " 'happened': 673,\n",
              " 'planned': 674,\n",
              " 'whole': 675,\n",
              " 'feels': 676,\n",
              " 'kardashian': 677,\n",
              " 'dating': 678,\n",
              " 'writer': 679,\n",
              " 'service': 680,\n",
              " 'possible': 681,\n",
              " 'employees': 682,\n",
              " 'return': 683,\n",
              " 'relationship': 684,\n",
              " 'restaurant': 685,\n",
              " 'funding': 686,\n",
              " 'fails': 687,\n",
              " 'iran': 688,\n",
              " 'less': 689,\n",
              " 'ad': 690,\n",
              " 'boys': 691,\n",
              " 'search': 692,\n",
              " 'cat': 693,\n",
              " 'hear': 694,\n",
              " 'returns': 695,\n",
              " 'visit': 696,\n",
              " 'starting': 697,\n",
              " 'program': 698,\n",
              " 'lose': 699,\n",
              " 'beginning': 700,\n",
              " 'giant': 701,\n",
              " 'williams': 702,\n",
              " 'wins': 703,\n",
              " 'simple': 704,\n",
              " 'sick': 705,\n",
              " 'problems': 706,\n",
              " 'orders': 707,\n",
              " 'risk': 708,\n",
              " '2014': 709,\n",
              " 'drunk': 710,\n",
              " 'gas': 711,\n",
              " 'gender': 712,\n",
              " 'viral': 713,\n",
              " 'healthy': 714,\n",
              " 'leave': 715,\n",
              " 'worst': 716,\n",
              " 'stunning': 717,\n",
              " 'offers': 718,\n",
              " 'thinking': 719,\n",
              " 'bring': 720,\n",
              " 'leader': 721,\n",
              " 'wanted': 722,\n",
              " 'bathroom': 723,\n",
              " 'names': 724,\n",
              " 'allegations': 725,\n",
              " 'chicago': 726,\n",
              " 'song': 727,\n",
              " 'spring': 728,\n",
              " 'door': 729,\n",
              " 'halloween': 730,\n",
              " 'learning': 731,\n",
              " 'tom': 732,\n",
              " 'since': 733,\n",
              " 'shop': 734,\n",
              " 'beautiful': 735,\n",
              " 'few': 736,\n",
              " 'crisis': 737,\n",
              " 'mother': 738,\n",
              " 'mothers': 739,\n",
              " 'cia': 740,\n",
              " 'system': 741,\n",
              " 'homeless': 742,\n",
              " 'apartment': 743,\n",
              " 'buy': 744,\n",
              " 'plane': 745,\n",
              " 'cnn': 746,\n",
              " 'conversation': 747,\n",
              " 'wall': 748,\n",
              " 'puts': 749,\n",
              " 'response': 750,\n",
              " 'huffpost': 751,\n",
              " \"isn't\": 752,\n",
              " 'spends': 753,\n",
              " 'owner': 754,\n",
              " 'east': 755,\n",
              " 'voter': 756,\n",
              " \"there's\": 757,\n",
              " 'mental': 758,\n",
              " 'weekend': 759,\n",
              " 'doctor': 760,\n",
              " 'jimmy': 761,\n",
              " 'board': 762,\n",
              " 'harvey': 763,\n",
              " 'majority': 764,\n",
              " 'prince': 765,\n",
              " 'keeps': 766,\n",
              " 'labor': 767,\n",
              " 'shares': 768,\n",
              " 'sleep': 769,\n",
              " 'leads': 770,\n",
              " 'tour': 771,\n",
              " 'dying': 772,\n",
              " 'idea': 773,\n",
              " 'stephen': 774,\n",
              " 'chris': 775,\n",
              " 'magical': 776,\n",
              " 'reportedly': 777,\n",
              " \"shouldn't\": 778,\n",
              " 'hits': 779,\n",
              " 'apple': 780,\n",
              " 'light': 781,\n",
              " 'die': 782,\n",
              " 'heard': 783,\n",
              " 'fix': 784,\n",
              " '18': 785,\n",
              " 'questions': 786,\n",
              " 'asking': 787,\n",
              " '100': 788,\n",
              " 'jenner': 789,\n",
              " 'ebola': 790,\n",
              " 'robert': 791,\n",
              " 'accused': 792,\n",
              " 'force': 793,\n",
              " 'building': 794,\n",
              " 'celebrate': 795,\n",
              " 'loss': 796,\n",
              " 'breaks': 797,\n",
              " 'six': 798,\n",
              " 'hurt': 799,\n",
              " 'crash': 800,\n",
              " 'problem': 801,\n",
              " 'tries': 802,\n",
              " 'grade': 803,\n",
              " 'assault': 804,\n",
              " 'worth': 805,\n",
              " 'cake': 806,\n",
              " 'hands': 807,\n",
              " 'those': 808,\n",
              " \"mother's\": 809,\n",
              " 're': 810,\n",
              " 'peace': 811,\n",
              " 'hollywood': 812,\n",
              " 'scandal': 813,\n",
              " 'hurricane': 814,\n",
              " 'companies': 815,\n",
              " 'science': 816,\n",
              " 'well': 817,\n",
              " 'secretary': 818,\n",
              " 'voice': 819,\n",
              " 'movies': 820,\n",
              " 'blood': 821,\n",
              " 'lead': 822,\n",
              " 'brother': 823,\n",
              " 'tired': 824,\n",
              " 'prime': 825,\n",
              " 'release': 826,\n",
              " 'minutes': 827,\n",
              " 'guide': 828,\n",
              " 'incredible': 829,\n",
              " 'protect': 830,\n",
              " 'justin': 831,\n",
              " 'true': 832,\n",
              " 'teens': 833,\n",
              " 'planet': 834,\n",
              " 'young': 835,\n",
              " 'completely': 836,\n",
              " 'today': 837,\n",
              " 'important': 838,\n",
              " 'third': 839,\n",
              " 'hand': 840,\n",
              " 'parent': 841,\n",
              " 'border': 842,\n",
              " 'stars': 843,\n",
              " 'players': 844,\n",
              " 'rise': 845,\n",
              " 'iowa': 846,\n",
              " 'museum': 847,\n",
              " 'non': 848,\n",
              " 'decides': 849,\n",
              " 'general': 850,\n",
              " 'marijuana': 851,\n",
              " 'likely': 852,\n",
              " 'quietly': 853,\n",
              " 'ball': 854,\n",
              " 'cool': 855,\n",
              " 'fighting': 856,\n",
              " 'country': 857,\n",
              " 'update': 858,\n",
              " 'leading': 859,\n",
              " 'action': 860,\n",
              " 'murder': 861,\n",
              " 'reasons': 862,\n",
              " 'seen': 863,\n",
              " 'host': 864,\n",
              " 'else': 865,\n",
              " 'girls': 866,\n",
              " 'try': 867,\n",
              " 'pence': 868,\n",
              " 'cut': 869,\n",
              " 'candidates': 870,\n",
              " 'stand': 871,\n",
              " 'fda': 872,\n",
              " 'called': 873,\n",
              " 'question': 874,\n",
              " 'chance': 875,\n",
              " 'points': 876,\n",
              " 'ferguson': 877,\n",
              " 'did': 878,\n",
              " 'feeling': 879,\n",
              " 'trans': 880,\n",
              " 'totally': 881,\n",
              " 'disorder': 882,\n",
              " 'break': 883,\n",
              " 'sound': 884,\n",
              " 'saudi': 885,\n",
              " 'budget': 886,\n",
              " 'fear': 887,\n",
              " 'web': 888,\n",
              " 'threat': 889,\n",
              " 'features': 890,\n",
              " 'protest': 891,\n",
              " 'nuclear': 892,\n",
              " 'legal': 893,\n",
              " 'ago': 894,\n",
              " 'artist': 895,\n",
              " 'surprised': 896,\n",
              " 'airport': 897,\n",
              " 'massive': 898,\n",
              " 'opening': 899,\n",
              " 'reveal': 900,\n",
              " 'almost': 901,\n",
              " 'sports': 902,\n",
              " 't': 903,\n",
              " \"wars'\": 904,\n",
              " 'track': 905,\n",
              " 'slowly': 906,\n",
              " 'greatest': 907,\n",
              " 'powerful': 908,\n",
              " 'cause': 909,\n",
              " 'check': 910,\n",
              " 'awards': 911,\n",
              " 'lgbtq': 912,\n",
              " 'queen': 913,\n",
              " 'elizabeth': 914,\n",
              " 'shoots': 915,\n",
              " 'wish': 916,\n",
              " 'gunman': 917,\n",
              " 'emotional': 918,\n",
              " 'clearly': 919,\n",
              " \"mcdonald's\": 920,\n",
              " 'percent': 921,\n",
              " 'members': 922,\n",
              " 'parenting': 923,\n",
              " 'helps': 924,\n",
              " 'announce': 925,\n",
              " 'project': 926,\n",
              " 'creating': 927,\n",
              " 'answer': 928,\n",
              " 'male': 929,\n",
              " 'road': 930,\n",
              " 'meal': 931,\n",
              " 'travel': 932,\n",
              " 'struggling': 933,\n",
              " 'boss': 934,\n",
              " 'shut': 935,\n",
              " 'debuts': 936,\n",
              " 'iraq': 937,\n",
              " 'club': 938,\n",
              " '17': 939,\n",
              " \"'snl'\": 940,\n",
              " 'saying': 941,\n",
              " 'address': 942,\n",
              " 'moore': 943,\n",
              " 'west': 944,\n",
              " 'mass': 945,\n",
              " 'final': 946,\n",
              " 'weird': 947,\n",
              " 'depression': 948,\n",
              " 'deadly': 949,\n",
              " 'choice': 950,\n",
              " 'pro': 951,\n",
              " 'excited': 952,\n",
              " 'across': 953,\n",
              " 'investigation': 954,\n",
              " 'course': 955,\n",
              " 'kid': 956,\n",
              " 'nbc': 957,\n",
              " 'record': 958,\n",
              " 'fair': 959,\n",
              " 'launch': 960,\n",
              " 'bear': 961,\n",
              " 'information': 962,\n",
              " 'approves': 963,\n",
              " 'china': 964,\n",
              " 'himself': 965,\n",
              " 'caught': 966,\n",
              " 'girlfriend': 967,\n",
              " 'orlando': 968,\n",
              " 'talks': 969,\n",
              " 'hoping': 970,\n",
              " 'adorable': 971,\n",
              " 'network': 972,\n",
              " 'floor': 973,\n",
              " 'rich': 974,\n",
              " 'journalists': 975,\n",
              " 'conference': 976,\n",
              " 'smith': 977,\n",
              " 'picture': 978,\n",
              " 'executive': 979,\n",
              " 'among': 980,\n",
              " 'jobs': 981,\n",
              " 'reform': 982,\n",
              " 'confirms': 983,\n",
              " 'misses': 984,\n",
              " 'am': 985,\n",
              " 'politicians': 986,\n",
              " 'cuba': 987,\n",
              " 'ride': 988,\n",
              " 'nothing': 989,\n",
              " 'crime': 990,\n",
              " 'games': 991,\n",
              " 'jr': 992,\n",
              " 'passes': 993,\n",
              " 'moms': 994,\n",
              " 'english': 995,\n",
              " 'gave': 996,\n",
              " 'hearing': 997,\n",
              " 'tech': 998,\n",
              " 'harry': 999,\n",
              " '200': 1000,\n",
              " ...}"
            ]
          },
          "metadata": {
            "tags": []
          },
          "execution_count": 23
        }
      ]
    },
    {
      "cell_type": "code",
      "metadata": {
        "colab": {
          "base_uri": "https://localhost:8080/"
        },
        "id": "iQE3ugo-OQ3L",
        "outputId": "f617a373-8678-479a-998f-f17145a99106"
      },
      "source": [
        "len(tokenizer.word_index)"
      ],
      "execution_count": null,
      "outputs": [
        {
          "output_type": "execute_result",
          "data": {
            "text/plain": [
              "12052"
            ]
          },
          "metadata": {
            "tags": []
          },
          "execution_count": 24
        }
      ]
    },
    {
      "cell_type": "markdown",
      "metadata": {
        "id": "VRiNX58Rb3oJ"
      },
      "source": [
        "### Set number of words\n",
        "- Since the above 0th index doesn't have a word, add 1 to the length of the vocabulary"
      ]
    },
    {
      "cell_type": "code",
      "metadata": {
        "colab": {
          "base_uri": "https://localhost:8080/"
        },
        "id": "Dfwq6ou8ck2f",
        "outputId": "86da3398-3c68-40cd-c52d-eb1ca4cdd7f8"
      },
      "source": [
        "num_words = len(tokenizer.word_index) + 1\n",
        "print(num_words)"
      ],
      "execution_count": null,
      "outputs": [
        {
          "output_type": "stream",
          "text": [
            "12053\n"
          ],
          "name": "stdout"
        }
      ]
    },
    {
      "cell_type": "markdown",
      "metadata": {
        "id": "bUF1TuQa8ux0"
      },
      "source": [
        "### Load Glove Word Embeddings \n",
        "\n",
        "*   List item\n",
        "*   List item\n",
        "\n"
      ]
    },
    {
      "cell_type": "code",
      "metadata": {
        "id": "vq5AIfRtMeZh"
      },
      "source": [
        ""
      ],
      "execution_count": null,
      "outputs": []
    },
    {
      "cell_type": "markdown",
      "metadata": {
        "id": "prHSzdQUcZhm"
      },
      "source": [
        "### Create embedding matrix"
      ]
    },
    {
      "cell_type": "code",
      "metadata": {
        "id": "elZ-T5aFGZmZ"
      },
      "source": [
        "EMBEDDING_FILE = 'glove.6B.200d.txt'\n",
        "\n",
        "embeddings = {}\n",
        "for o in open(project_path + EMBEDDING_FILE):\n",
        "    word = o.split(\" \")[0]\n",
        "    # print(word)\n",
        "    embd = o.split(\" \")[1:]\n",
        "    embd = np.asarray(embd, dtype='float32')\n",
        "    # print(embd)\n",
        "    embeddings[word] = embd\n",
        "\n",
        "# create a weight matrix for words in training docs\n",
        "embedding_matrix = np.zeros((num_words, 200))\n",
        "\n",
        "for word, i in tokenizer.word_index.items():\n",
        "\tembedding_vector = embeddings.get(word)\n",
        "\tif embedding_vector is not None:\n",
        "\t\tembedding_matrix[i] = embedding_vector"
      ],
      "execution_count": null,
      "outputs": []
    },
    {
      "cell_type": "markdown",
      "metadata": {
        "id": "u7IbWuEX82Ra"
      },
      "source": [
        "### Define model \n",
        "- Hint: Use Sequential model instance and then add Embedding layer, Bidirectional(LSTM) layer, flatten it, then dense and dropout layers as required. \n",
        "In the end add a final dense layer with sigmoid activation for binary classification."
      ]
    },
    {
      "cell_type": "code",
      "metadata": {
        "colab": {
          "base_uri": "https://localhost:8080/"
        },
        "id": "4tv168Gmc3PY",
        "outputId": "16545007-8fa0-431e-8ce9-6f18442b381c"
      },
      "source": [
        "model = Sequential()\r\n",
        "\r\n",
        "# Embedding layer\r\n",
        "model.add(Embedding(input_dim=max_features, output_dim=num_words, input_length = headline_seq.shape[1], weights=None, trainable=True))\r\n",
        "\r\n",
        "forward_layer = LSTM(64, return_sequences=True)\r\n",
        "backward_layer = LSTM(64, activation='relu', return_sequences=True,\r\n",
        "                       go_backwards=True)\r\n",
        "\r\n",
        "# Recurrent layer Bidirectional LSTM\r\n",
        "model.add(Bidirectional(forward_layer, backward_layer=backward_layer, input_shape=(num_words, 1)))\r\n",
        "\r\n",
        "# Flatten the model\r\n",
        "model.add(Flatten())\r\n",
        "\r\n",
        "# Fully connected layer\r\n",
        "model.add(Dense(64, activation='relu'))\r\n",
        "\r\n",
        "# Dropout for regularization\r\n",
        "model.add(Dropout(0.5))\r\n",
        "\r\n",
        "# Output layer for 2 class classification\r\n",
        "model.add(Dense(2, activation='sigmoid'))"
      ],
      "execution_count": null,
      "outputs": [
        {
          "output_type": "stream",
          "text": [
            "WARNING:tensorflow:Layer lstm_1 will not use cuDNN kernel since it doesn't meet the cuDNN kernel criteria. It will use generic GPU kernel as fallback when running on GPU\n"
          ],
          "name": "stdout"
        }
      ]
    },
    {
      "cell_type": "markdown",
      "metadata": {
        "id": "xoI7_8Y1cqTj"
      },
      "source": [
        "### Compile the model "
      ]
    },
    {
      "cell_type": "code",
      "metadata": {
        "id": "-jJiPHeNoJ3U"
      },
      "source": [
        "# Compile the model\r\n",
        "model.compile(\r\n",
        "    optimizer='adam', loss='categorical_crossentropy', metrics=['accuracy'])"
      ],
      "execution_count": null,
      "outputs": []
    },
    {
      "cell_type": "code",
      "metadata": {
        "colab": {
          "base_uri": "https://localhost:8080/"
        },
        "id": "lpguADbTT5TJ",
        "outputId": "b4b6bcc5-0f05-49be-f7a4-b1a003d38346"
      },
      "source": [
        "model.summary()"
      ],
      "execution_count": null,
      "outputs": [
        {
          "output_type": "stream",
          "text": [
            "Model: \"sequential\"\n",
            "_________________________________________________________________\n",
            "Layer (type)                 Output Shape              Param #   \n",
            "=================================================================\n",
            "embedding (Embedding)        (None, 26, 12053)         120530000 \n",
            "_________________________________________________________________\n",
            "bidirectional (Bidirectional (None, 26, 128)           6204416   \n",
            "_________________________________________________________________\n",
            "flatten (Flatten)            (None, 3328)              0         \n",
            "_________________________________________________________________\n",
            "dense (Dense)                (None, 64)                213056    \n",
            "_________________________________________________________________\n",
            "dropout (Dropout)            (None, 64)                0         \n",
            "_________________________________________________________________\n",
            "dense_1 (Dense)              (None, 2)                 130       \n",
            "=================================================================\n",
            "Total params: 126,947,602\n",
            "Trainable params: 126,947,602\n",
            "Non-trainable params: 0\n",
            "_________________________________________________________________\n"
          ],
          "name": "stdout"
        }
      ]
    },
    {
      "cell_type": "markdown",
      "metadata": {
        "id": "7s4nmqcecw3a"
      },
      "source": [
        "### Fit the model "
      ]
    },
    {
      "cell_type": "code",
      "metadata": {
        "colab": {
          "base_uri": "https://localhost:8080/"
        },
        "id": "NN789zNnJ5PL",
        "outputId": "324f7f58-038e-490e-e47b-5491895e0ae6"
      },
      "source": [
        "X = headline_seq\r\n",
        "Y = pd.get_dummies(data.is_sarcastic).values\r\n",
        "\r\n",
        "# Splitting the data into training and testing in 7:30 ratio.\r\n",
        "X_train, X_test, Y_train, Y_test = train_test_split(X,Y, test_size = 0.30, random_state = 42)\r\n",
        "print(X_train.shape,Y_train.shape)\r\n",
        "print(X_test.shape,Y_test.shape)"
      ],
      "execution_count": null,
      "outputs": [
        {
          "output_type": "stream",
          "text": [
            "(3500, 26) (3500, 2)\n",
            "(1500, 26) (1500, 2)\n"
          ],
          "name": "stdout"
        }
      ]
    },
    {
      "cell_type": "code",
      "metadata": {
        "colab": {
          "base_uri": "https://localhost:8080/"
        },
        "id": "aZS3hEboYS5v",
        "outputId": "120c3c4a-ac99-45cc-d5eb-ccf793449463"
      },
      "source": [
        "batch_size = 32\r\n",
        "model.fit(X_train, Y_train, epochs = 10, batch_size=batch_size, verbose = 2)"
      ],
      "execution_count": null,
      "outputs": [
        {
          "output_type": "stream",
          "text": [
            "Epoch 1/10\n",
            "110/110 - 132s - loss: 0.5193 - accuracy: 0.7286\n",
            "Epoch 2/10\n",
            "110/110 - 121s - loss: 0.1570 - accuracy: 0.9466\n",
            "Epoch 3/10\n",
            "110/110 - 122s - loss: 0.0282 - accuracy: 0.9923\n",
            "Epoch 4/10\n",
            "110/110 - 122s - loss: 0.0057 - accuracy: 0.9980\n",
            "Epoch 5/10\n",
            "110/110 - 121s - loss: 0.0017 - accuracy: 0.9994\n",
            "Epoch 6/10\n",
            "110/110 - 122s - loss: 0.0029 - accuracy: 0.9989\n",
            "Epoch 7/10\n",
            "110/110 - 122s - loss: 0.0086 - accuracy: 0.9980\n",
            "Epoch 8/10\n",
            "110/110 - 121s - loss: 0.0199 - accuracy: 0.9969\n",
            "Epoch 9/10\n",
            "110/110 - 122s - loss: 0.0073 - accuracy: 0.9989\n",
            "Epoch 10/10\n",
            "110/110 - 122s - loss: 0.0070 - accuracy: 0.9991\n"
          ],
          "name": "stdout"
        },
        {
          "output_type": "execute_result",
          "data": {
            "text/plain": [
              "<tensorflow.python.keras.callbacks.History at 0x7f1b20053208>"
            ]
          },
          "metadata": {
            "tags": []
          },
          "execution_count": 31
        }
      ]
    },
    {
      "cell_type": "code",
      "metadata": {
        "id": "TOLAyfptGpuv"
      },
      "source": [
        "# Function predicting if the headline is sarcasm\r\n",
        "def predictSarcasm(val):\r\n",
        "  testHeadline = [val.headline.values[0]]\r\n",
        "  #vectorizing the tweet by the pre-fitted tokenizer instance\r\n",
        "  testHeadline = tokenizer.texts_to_sequences(testHeadline)\r\n",
        "  #padding the tweet to have exactly the same shape as `embedding_2` input\r\n",
        "  testHeadline = pad_sequences(testHeadline, maxlen=26, dtype='int32', value=0)\r\n",
        "  sentiment = model.predict(testHeadline, batch_size=1, verbose = 2)[0]\r\n",
        "  print(val)\r\n",
        "\r\n",
        "  # Original saracasm value in the record\r\n",
        "  if(val.is_sarcastic.values[0] == 0):\r\n",
        "      print(\"\\n Original non-sarcastic\")\r\n",
        "  elif (val.is_sarcastic.values[0] == 1):\r\n",
        "      print(\"\\n Original sarcastic\")\r\n",
        "\r\n",
        "  # Predicted sarcasm value\r\n",
        "  if(np.argmax(sentiment) == 0):\r\n",
        "      print(\"\\n Predicted non-sarcastic\")\r\n",
        "  elif (np.argmax(sentiment) == 1):\r\n",
        "      print(\"\\n Predicted sarcastic\")"
      ],
      "execution_count": null,
      "outputs": []
    },
    {
      "cell_type": "markdown",
      "metadata": {
        "id": "RRR_wS2RZYXq"
      },
      "source": [
        "Predicting the values from the stached data"
      ]
    },
    {
      "cell_type": "code",
      "metadata": {
        "id": "JVNGObRuJQzN",
        "colab": {
          "base_uri": "https://localhost:8080/"
        },
        "outputId": "2b3c0a0c-ea74-49fc-8091-bcb0120288e0"
      },
      "source": [
        "predictSarcasm(stachedData.iloc[0:1])"
      ],
      "execution_count": null,
      "outputs": [
        {
          "output_type": "stream",
          "text": [
            "1/1 - 0s\n",
            "                                               headline  ...  headline_len\n",
            "5001  museum staff braces for large group wearing sa...  ...            56\n",
            "\n",
            "[1 rows x 3 columns]\n",
            "\n",
            " Original sarcastic\n",
            "\n",
            " Predicted sarcastic\n"
          ],
          "name": "stdout"
        }
      ]
    },
    {
      "cell_type": "code",
      "metadata": {
        "colab": {
          "base_uri": "https://localhost:8080/"
        },
        "id": "JUy5S3JRIfNl",
        "outputId": "a06f9d18-ddfc-417d-f584-fb9153151d37"
      },
      "source": [
        "predictSarcasm(stachedData.iloc[1:2])"
      ],
      "execution_count": null,
      "outputs": [
        {
          "output_type": "stream",
          "text": [
            "1/1 - 0s\n",
            "                                               headline  ...  headline_len\n",
            "5002  relieved scott walker narrowly avoids acknowle...  ...            95\n",
            "\n",
            "[1 rows x 3 columns]\n",
            "\n",
            " Original sarcastic\n",
            "\n",
            " Predicted non-sarcastic\n"
          ],
          "name": "stdout"
        }
      ]
    },
    {
      "cell_type": "code",
      "metadata": {
        "colab": {
          "base_uri": "https://localhost:8080/"
        },
        "id": "0wDZVGX6N20F",
        "outputId": "7ebf3b82-1930-4750-aac9-ea7f19912125"
      },
      "source": [
        "predictSarcasm(stachedData.iloc[2:3])"
      ],
      "execution_count": null,
      "outputs": [
        {
          "output_type": "stream",
          "text": [
            "1/1 - 0s\n",
            "                                               headline  ...  headline_len\n",
            "5003  beyond the classroom: experiencing technology ...  ...            86\n",
            "\n",
            "[1 rows x 3 columns]\n",
            "\n",
            " Original non-sarcastic\n",
            "\n",
            " Predicted non-sarcastic\n"
          ],
          "name": "stdout"
        }
      ]
    },
    {
      "cell_type": "code",
      "metadata": {
        "colab": {
          "base_uri": "https://localhost:8080/"
        },
        "id": "ekPdis2lOA-p",
        "outputId": "326ecf0c-fec1-4e3e-e235-140357e97188"
      },
      "source": [
        "predictSarcasm(stachedData.iloc[3:4])"
      ],
      "execution_count": null,
      "outputs": [
        {
          "output_type": "stream",
          "text": [
            "1/1 - 0s\n",
            "                                               headline  ...  headline_len\n",
            "5004  north carolina elects someone to run out for c...  ...            55\n",
            "\n",
            "[1 rows x 3 columns]\n",
            "\n",
            " Original sarcastic\n",
            "\n",
            " Predicted sarcastic\n"
          ],
          "name": "stdout"
        }
      ]
    },
    {
      "cell_type": "code",
      "metadata": {
        "colab": {
          "base_uri": "https://localhost:8080/"
        },
        "id": "kwjtc21lOFTX",
        "outputId": "bc04b624-0a56-40de-a355-be73efe9be58"
      },
      "source": [
        "predictSarcasm(stachedData.iloc[4:5])"
      ],
      "execution_count": null,
      "outputs": [
        {
          "output_type": "stream",
          "text": [
            "1/1 - 0s\n",
            "                                               headline  ...  headline_len\n",
            "5005  the justice department pledge to prosecute whi...  ...            95\n",
            "\n",
            "[1 rows x 3 columns]\n",
            "\n",
            " Original non-sarcastic\n",
            "\n",
            " Predicted non-sarcastic\n"
          ],
          "name": "stdout"
        }
      ]
    },
    {
      "cell_type": "code",
      "metadata": {
        "colab": {
          "base_uri": "https://localhost:8080/"
        },
        "id": "YJue_REuOH7T",
        "outputId": "cca338f3-f582-4707-cc70-d199686d6f1e"
      },
      "source": [
        "predictSarcasm(stachedData.iloc[5:6])"
      ],
      "execution_count": null,
      "outputs": [
        {
          "output_type": "stream",
          "text": [
            "1/1 - 0s\n",
            "                                               headline  ...  headline_len\n",
            "5006  death penalty and redemption: thoughts on tsar...  ...            76\n",
            "\n",
            "[1 rows x 3 columns]\n",
            "\n",
            " Original non-sarcastic\n",
            "\n",
            " Predicted non-sarcastic\n"
          ],
          "name": "stdout"
        }
      ]
    },
    {
      "cell_type": "markdown",
      "metadata": {
        "id": "Pw1GjTf2Z6JV"
      },
      "source": [
        "As we can see the model is doing pity decent while having trained with a very few records, if we trained with more data and higher epochs we could get better results."
      ]
    }
  ]
}