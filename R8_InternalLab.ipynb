{
  "nbformat": 4,
  "nbformat_minor": 0,
  "metadata": {
    "accelerator": "GPU",
    "colab": {
      "name": "Questions - Lab on Statistical NLP-1.ipynb",
      "provenance": [],
      "collapsed_sections": []
    },
    "kernelspec": {
      "display_name": "Python 3",
      "language": "python",
      "name": "python3"
    },
    "language_info": {
      "codemirror_mode": {
        "name": "ipython",
        "version": 3
      },
      "file_extension": ".py",
      "mimetype": "text/x-python",
      "name": "python",
      "nbconvert_exporter": "python",
      "pygments_lexer": "ipython3",
      "version": "3.7.1"
    }
  },
  "cells": [
    {
      "cell_type": "markdown",
      "metadata": {
        "colab_type": "text",
        "id": "FU-HwvIdH0M-"
      },
      "source": [
        "# Sentiment analysis \n",
        "\n",
        "The objective of this problem is to perform Sentiment analysis from the tweets collected from the users targeted at various mobile devices.\n",
        "Based on the tweet posted by a user (text), we will classify if the sentiment of the user targeted at a particular mobile device is positive or not."
      ]
    },
    {
      "cell_type": "markdown",
      "metadata": {
        "id": "aIWWfNks5sYa",
        "colab_type": "text"
      },
      "source": [
        "## Question 1"
      ]
    },
    {
      "cell_type": "markdown",
      "metadata": {
        "colab_type": "text",
        "id": "nAQDiZHRH0M_"
      },
      "source": [
        "### Read the data\n",
        "- read tweets.csv\n",
        "- use latin encoding if it gives encoding error while loading"
      ]
    },
    {
      "cell_type": "code",
      "metadata": {
        "id": "HobafJ1nuavu",
        "colab_type": "code",
        "colab": {
          "base_uri": "https://localhost:8080/",
          "height": 35
        },
        "outputId": "626966e8-b261-4d34-94f4-2e2585a5469e"
      },
      "source": [
        "# run this cell to to mount the google drive if you are using google colab\n",
        "from google.colab import drive\n",
        "drive.mount('/content/drive')\n",
        "project_path = '/content/drive/My Drive/assignments/'"
      ],
      "execution_count": 1,
      "outputs": [
        {
          "output_type": "stream",
          "text": [
            "Mounted at /content/drive\n"
          ],
          "name": "stdout"
        }
      ]
    },
    {
      "cell_type": "code",
      "metadata": {
        "colab_type": "code",
        "id": "3eXGIe-SH0NA",
        "colab": {}
      },
      "source": [
        "import pandas as pd\n",
        "df= pd.read_csv(project_path+'tweets.csv', encoding='ISO-8859-1')"
      ],
      "execution_count": 8,
      "outputs": []
    },
    {
      "cell_type": "code",
      "metadata": {
        "id": "g19lUtH2whIB",
        "colab_type": "code",
        "colab": {
          "base_uri": "https://localhost:8080/",
          "height": 202
        },
        "outputId": "5d63e432-e760-44ab-9436-4719685fb2da"
      },
      "source": [
        "df.head()"
      ],
      "execution_count": 10,
      "outputs": [
        {
          "output_type": "execute_result",
          "data": {
            "text/html": [
              "<div>\n",
              "<style scoped>\n",
              "    .dataframe tbody tr th:only-of-type {\n",
              "        vertical-align: middle;\n",
              "    }\n",
              "\n",
              "    .dataframe tbody tr th {\n",
              "        vertical-align: top;\n",
              "    }\n",
              "\n",
              "    .dataframe thead th {\n",
              "        text-align: right;\n",
              "    }\n",
              "</style>\n",
              "<table border=\"1\" class=\"dataframe\">\n",
              "  <thead>\n",
              "    <tr style=\"text-align: right;\">\n",
              "      <th></th>\n",
              "      <th>tweet_text</th>\n",
              "      <th>emotion_in_tweet_is_directed_at</th>\n",
              "      <th>is_there_an_emotion_directed_at_a_brand_or_product</th>\n",
              "    </tr>\n",
              "  </thead>\n",
              "  <tbody>\n",
              "    <tr>\n",
              "      <th>0</th>\n",
              "      <td>.@wesley83 I have a 3G iPhone. After 3 hrs twe...</td>\n",
              "      <td>iPhone</td>\n",
              "      <td>Negative emotion</td>\n",
              "    </tr>\n",
              "    <tr>\n",
              "      <th>1</th>\n",
              "      <td>@jessedee Know about @fludapp ? Awesome iPad/i...</td>\n",
              "      <td>iPad or iPhone App</td>\n",
              "      <td>Positive emotion</td>\n",
              "    </tr>\n",
              "    <tr>\n",
              "      <th>2</th>\n",
              "      <td>@swonderlin Can not wait for #iPad 2 also. The...</td>\n",
              "      <td>iPad</td>\n",
              "      <td>Positive emotion</td>\n",
              "    </tr>\n",
              "    <tr>\n",
              "      <th>3</th>\n",
              "      <td>@sxsw I hope this year's festival isn't as cra...</td>\n",
              "      <td>iPad or iPhone App</td>\n",
              "      <td>Negative emotion</td>\n",
              "    </tr>\n",
              "    <tr>\n",
              "      <th>4</th>\n",
              "      <td>@sxtxstate great stuff on Fri #SXSW: Marissa M...</td>\n",
              "      <td>Google</td>\n",
              "      <td>Positive emotion</td>\n",
              "    </tr>\n",
              "  </tbody>\n",
              "</table>\n",
              "</div>"
            ],
            "text/plain": [
              "                                          tweet_text  ... is_there_an_emotion_directed_at_a_brand_or_product\n",
              "0  .@wesley83 I have a 3G iPhone. After 3 hrs twe...  ...                                   Negative emotion\n",
              "1  @jessedee Know about @fludapp ? Awesome iPad/i...  ...                                   Positive emotion\n",
              "2  @swonderlin Can not wait for #iPad 2 also. The...  ...                                   Positive emotion\n",
              "3  @sxsw I hope this year's festival isn't as cra...  ...                                   Negative emotion\n",
              "4  @sxtxstate great stuff on Fri #SXSW: Marissa M...  ...                                   Positive emotion\n",
              "\n",
              "[5 rows x 3 columns]"
            ]
          },
          "metadata": {
            "tags": []
          },
          "execution_count": 10
        }
      ]
    },
    {
      "cell_type": "code",
      "metadata": {
        "id": "mU__VaoswhYS",
        "colab_type": "code",
        "colab": {
          "base_uri": "https://localhost:8080/",
          "height": 35
        },
        "outputId": "cca4e548-61b1-48a0-a4d7-587cf5704434"
      },
      "source": [
        "df.shape"
      ],
      "execution_count": 12,
      "outputs": [
        {
          "output_type": "execute_result",
          "data": {
            "text/plain": [
              "(9093, 3)"
            ]
          },
          "metadata": {
            "tags": []
          },
          "execution_count": 12
        }
      ]
    },
    {
      "cell_type": "markdown",
      "metadata": {
        "id": "39pqw0aE5sYe",
        "colab_type": "text"
      },
      "source": [
        "### Drop null values\n",
        "- drop all the rows with null values"
      ]
    },
    {
      "cell_type": "code",
      "metadata": {
        "id": "BF_69oyI5sYf",
        "colab_type": "code",
        "colab": {}
      },
      "source": [
        "df.dropna(inplace=True)"
      ],
      "execution_count": 14,
      "outputs": []
    },
    {
      "cell_type": "markdown",
      "metadata": {
        "id": "0bm4bDiy5sYg",
        "colab_type": "text"
      },
      "source": [
        "### Print the dataframe\n",
        "- print initial 5 rows of the data\n",
        "- use df.head()"
      ]
    },
    {
      "cell_type": "code",
      "metadata": {
        "scrolled": true,
        "id": "ceSlvAVa5sYh",
        "colab_type": "code",
        "colab": {
          "base_uri": "https://localhost:8080/",
          "height": 202
        },
        "outputId": "d0520541-3e4f-4f6b-a5fb-ea52e4ca27df"
      },
      "source": [
        "df.head()"
      ],
      "execution_count": 16,
      "outputs": [
        {
          "output_type": "execute_result",
          "data": {
            "text/html": [
              "<div>\n",
              "<style scoped>\n",
              "    .dataframe tbody tr th:only-of-type {\n",
              "        vertical-align: middle;\n",
              "    }\n",
              "\n",
              "    .dataframe tbody tr th {\n",
              "        vertical-align: top;\n",
              "    }\n",
              "\n",
              "    .dataframe thead th {\n",
              "        text-align: right;\n",
              "    }\n",
              "</style>\n",
              "<table border=\"1\" class=\"dataframe\">\n",
              "  <thead>\n",
              "    <tr style=\"text-align: right;\">\n",
              "      <th></th>\n",
              "      <th>tweet_text</th>\n",
              "      <th>emotion_in_tweet_is_directed_at</th>\n",
              "      <th>is_there_an_emotion_directed_at_a_brand_or_product</th>\n",
              "    </tr>\n",
              "  </thead>\n",
              "  <tbody>\n",
              "    <tr>\n",
              "      <th>0</th>\n",
              "      <td>.@wesley83 I have a 3G iPhone. After 3 hrs twe...</td>\n",
              "      <td>iPhone</td>\n",
              "      <td>Negative emotion</td>\n",
              "    </tr>\n",
              "    <tr>\n",
              "      <th>1</th>\n",
              "      <td>@jessedee Know about @fludapp ? Awesome iPad/i...</td>\n",
              "      <td>iPad or iPhone App</td>\n",
              "      <td>Positive emotion</td>\n",
              "    </tr>\n",
              "    <tr>\n",
              "      <th>2</th>\n",
              "      <td>@swonderlin Can not wait for #iPad 2 also. The...</td>\n",
              "      <td>iPad</td>\n",
              "      <td>Positive emotion</td>\n",
              "    </tr>\n",
              "    <tr>\n",
              "      <th>3</th>\n",
              "      <td>@sxsw I hope this year's festival isn't as cra...</td>\n",
              "      <td>iPad or iPhone App</td>\n",
              "      <td>Negative emotion</td>\n",
              "    </tr>\n",
              "    <tr>\n",
              "      <th>4</th>\n",
              "      <td>@sxtxstate great stuff on Fri #SXSW: Marissa M...</td>\n",
              "      <td>Google</td>\n",
              "      <td>Positive emotion</td>\n",
              "    </tr>\n",
              "  </tbody>\n",
              "</table>\n",
              "</div>"
            ],
            "text/plain": [
              "                                          tweet_text  ... is_there_an_emotion_directed_at_a_brand_or_product\n",
              "0  .@wesley83 I have a 3G iPhone. After 3 hrs twe...  ...                                   Negative emotion\n",
              "1  @jessedee Know about @fludapp ? Awesome iPad/i...  ...                                   Positive emotion\n",
              "2  @swonderlin Can not wait for #iPad 2 also. The...  ...                                   Positive emotion\n",
              "3  @sxsw I hope this year's festival isn't as cra...  ...                                   Negative emotion\n",
              "4  @sxtxstate great stuff on Fri #SXSW: Marissa M...  ...                                   Positive emotion\n",
              "\n",
              "[5 rows x 3 columns]"
            ]
          },
          "metadata": {
            "tags": []
          },
          "execution_count": 16
        }
      ]
    },
    {
      "cell_type": "code",
      "metadata": {
        "id": "9KGasqQKzrWN",
        "colab_type": "code",
        "colab": {
          "base_uri": "https://localhost:8080/",
          "height": 35
        },
        "outputId": "57691996-4541-4a54-d3c9-e28c1e0b7edc"
      },
      "source": [
        "df.shape"
      ],
      "execution_count": 17,
      "outputs": [
        {
          "output_type": "execute_result",
          "data": {
            "text/plain": [
              "(3291, 3)"
            ]
          },
          "metadata": {
            "tags": []
          },
          "execution_count": 17
        }
      ]
    },
    {
      "cell_type": "markdown",
      "metadata": {
        "id": "jcWfPVqG5sYi",
        "colab_type": "text"
      },
      "source": [
        "## Question 2"
      ]
    },
    {
      "cell_type": "markdown",
      "metadata": {
        "id": "JBbAeip_5sYj",
        "colab_type": "text"
      },
      "source": [
        "### Preprocess data\n",
        "- convert all text to lowercase - use .lower()\n",
        "- select only numbers, alphabets, and #+_ from text - use re.sub()\n",
        "- strip all the text - use .strip()\n",
        "    - this is for removing extra spaces"
      ]
    },
    {
      "cell_type": "code",
      "metadata": {
        "id": "PE4Bn_YT5sYj",
        "colab_type": "code",
        "colab": {}
      },
      "source": [
        "import re;\n",
        "df['tweet_text'] = df[['tweet_text']].applymap(lambda s: s.lower())\n",
        "df['tweet_text'] = df[['tweet_text']].applymap(lambda s: re.sub('[^0-9a-z #+_]','',s))"
      ],
      "execution_count": 26,
      "outputs": []
    },
    {
      "cell_type": "markdown",
      "metadata": {
        "id": "QlMvbtrK5sYl",
        "colab_type": "text"
      },
      "source": [
        "print dataframe"
      ]
    },
    {
      "cell_type": "code",
      "metadata": {
        "id": "afocjaUn5sYm",
        "colab_type": "code",
        "colab": {
          "base_uri": "https://localhost:8080/",
          "height": 202
        },
        "outputId": "c1f75729-352a-42b8-dc2a-0594ab87bea3"
      },
      "source": [
        "df.head()"
      ],
      "execution_count": 27,
      "outputs": [
        {
          "output_type": "execute_result",
          "data": {
            "text/html": [
              "<div>\n",
              "<style scoped>\n",
              "    .dataframe tbody tr th:only-of-type {\n",
              "        vertical-align: middle;\n",
              "    }\n",
              "\n",
              "    .dataframe tbody tr th {\n",
              "        vertical-align: top;\n",
              "    }\n",
              "\n",
              "    .dataframe thead th {\n",
              "        text-align: right;\n",
              "    }\n",
              "</style>\n",
              "<table border=\"1\" class=\"dataframe\">\n",
              "  <thead>\n",
              "    <tr style=\"text-align: right;\">\n",
              "      <th></th>\n",
              "      <th>tweet_text</th>\n",
              "      <th>emotion_in_tweet_is_directed_at</th>\n",
              "      <th>is_there_an_emotion_directed_at_a_brand_or_product</th>\n",
              "    </tr>\n",
              "  </thead>\n",
              "  <tbody>\n",
              "    <tr>\n",
              "      <th>0</th>\n",
              "      <td>wesley83 i have a 3g iphone after 3 hrs tweeti...</td>\n",
              "      <td>iPhone</td>\n",
              "      <td>Negative emotion</td>\n",
              "    </tr>\n",
              "    <tr>\n",
              "      <th>1</th>\n",
              "      <td>jessedee know about fludapp  awesome ipadiphon...</td>\n",
              "      <td>iPad or iPhone App</td>\n",
              "      <td>Positive emotion</td>\n",
              "    </tr>\n",
              "    <tr>\n",
              "      <th>2</th>\n",
              "      <td>swonderlin can not wait for #ipad 2 also they ...</td>\n",
              "      <td>iPad</td>\n",
              "      <td>Positive emotion</td>\n",
              "    </tr>\n",
              "    <tr>\n",
              "      <th>3</th>\n",
              "      <td>sxsw i hope this years festival isnt as crashy...</td>\n",
              "      <td>iPad or iPhone App</td>\n",
              "      <td>Negative emotion</td>\n",
              "    </tr>\n",
              "    <tr>\n",
              "      <th>4</th>\n",
              "      <td>sxtxstate great stuff on fri #sxsw marissa may...</td>\n",
              "      <td>Google</td>\n",
              "      <td>Positive emotion</td>\n",
              "    </tr>\n",
              "  </tbody>\n",
              "</table>\n",
              "</div>"
            ],
            "text/plain": [
              "                                          tweet_text  ... is_there_an_emotion_directed_at_a_brand_or_product\n",
              "0  wesley83 i have a 3g iphone after 3 hrs tweeti...  ...                                   Negative emotion\n",
              "1  jessedee know about fludapp  awesome ipadiphon...  ...                                   Positive emotion\n",
              "2  swonderlin can not wait for #ipad 2 also they ...  ...                                   Positive emotion\n",
              "3  sxsw i hope this years festival isnt as crashy...  ...                                   Negative emotion\n",
              "4  sxtxstate great stuff on fri #sxsw marissa may...  ...                                   Positive emotion\n",
              "\n",
              "[5 rows x 3 columns]"
            ]
          },
          "metadata": {
            "tags": []
          },
          "execution_count": 27
        }
      ]
    },
    {
      "cell_type": "markdown",
      "metadata": {
        "id": "bcTUnvtg5sYn",
        "colab_type": "text"
      },
      "source": [
        "## Question 3"
      ]
    },
    {
      "cell_type": "markdown",
      "metadata": {
        "id": "4gnaeSXZ5sYo",
        "colab_type": "text"
      },
      "source": [
        "### Preprocess data\n",
        "- in column \"is_there_an_emotion_directed_at_a_brand_or_product\"\n",
        "    - select only those rows where value equal to \"positive emotion\" or \"negative emotion\"\n",
        "- find the value counts of \"positive emotion\" and \"negative emotion\""
      ]
    },
    {
      "cell_type": "code",
      "metadata": {
        "id": "nLewJh_35sYp",
        "colab_type": "code",
        "colab": {}
      },
      "source": [
        "df = df[(df['is_there_an_emotion_directed_at_a_brand_or_product'] == 'Positive emotion')| (df['is_there_an_emotion_directed_at_a_brand_or_product'] == 'Negative emotion')]"
      ],
      "execution_count": 38,
      "outputs": []
    },
    {
      "cell_type": "code",
      "metadata": {
        "id": "3VFYB4eh5sYr",
        "colab_type": "code",
        "colab": {
          "base_uri": "https://localhost:8080/",
          "height": 35
        },
        "outputId": "e1cf3849-5764-4ad2-eb53-e0336e772cff"
      },
      "source": [
        "df.shape"
      ],
      "execution_count": 39,
      "outputs": [
        {
          "output_type": "execute_result",
          "data": {
            "text/plain": [
              "(3191, 3)"
            ]
          },
          "metadata": {
            "tags": []
          },
          "execution_count": 39
        }
      ]
    },
    {
      "cell_type": "markdown",
      "metadata": {
        "id": "6icGcVTE5sYz",
        "colab_type": "text"
      },
      "source": [
        "## Question 4"
      ]
    },
    {
      "cell_type": "markdown",
      "metadata": {
        "id": "Rg0rSepj5sYz",
        "colab_type": "text"
      },
      "source": [
        "### Encode labels\n",
        "- in column \"is_there_an_emotion_directed_at_a_brand_or_product\"\n",
        "    - change \"positive emotion\" to 1\n",
        "    - change \"negative emotion\" to 0\n",
        "- use map function to replace values"
      ]
    },
    {
      "cell_type": "code",
      "metadata": {
        "colab_type": "code",
        "id": "YftKwFv7H0N9",
        "colab": {
          "base_uri": "https://localhost:8080/",
          "height": 121
        },
        "outputId": "340dc9ef-aa70-4b5d-e1eb-1d53170b3904"
      },
      "source": [
        "df['is_there_an_emotion_directed_at_a_brand_or_product'] = df['is_there_an_emotion_directed_at_a_brand_or_product'].map(lambda emotion: 1 if (emotion == 'Positive emotion') else 0)"
      ],
      "execution_count": 47,
      "outputs": [
        {
          "output_type": "stream",
          "text": [
            "/usr/local/lib/python3.6/dist-packages/ipykernel_launcher.py:1: SettingWithCopyWarning: \n",
            "A value is trying to be set on a copy of a slice from a DataFrame.\n",
            "Try using .loc[row_indexer,col_indexer] = value instead\n",
            "\n",
            "See the caveats in the documentation: https://pandas.pydata.org/pandas-docs/stable/user_guide/indexing.html#returning-a-view-versus-a-copy\n",
            "  \"\"\"Entry point for launching an IPython kernel.\n"
          ],
          "name": "stderr"
        }
      ]
    },
    {
      "cell_type": "code",
      "metadata": {
        "id": "Ai7Qp0fb77rq",
        "colab_type": "code",
        "colab": {
          "base_uri": "https://localhost:8080/",
          "height": 202
        },
        "outputId": "a77a970a-5661-4dec-d8a1-1b295b5f3d68"
      },
      "source": [
        "df.head()"
      ],
      "execution_count": 48,
      "outputs": [
        {
          "output_type": "execute_result",
          "data": {
            "text/html": [
              "<div>\n",
              "<style scoped>\n",
              "    .dataframe tbody tr th:only-of-type {\n",
              "        vertical-align: middle;\n",
              "    }\n",
              "\n",
              "    .dataframe tbody tr th {\n",
              "        vertical-align: top;\n",
              "    }\n",
              "\n",
              "    .dataframe thead th {\n",
              "        text-align: right;\n",
              "    }\n",
              "</style>\n",
              "<table border=\"1\" class=\"dataframe\">\n",
              "  <thead>\n",
              "    <tr style=\"text-align: right;\">\n",
              "      <th></th>\n",
              "      <th>tweet_text</th>\n",
              "      <th>emotion_in_tweet_is_directed_at</th>\n",
              "      <th>is_there_an_emotion_directed_at_a_brand_or_product</th>\n",
              "    </tr>\n",
              "  </thead>\n",
              "  <tbody>\n",
              "    <tr>\n",
              "      <th>0</th>\n",
              "      <td>wesley83 i have a 3g iphone after 3 hrs tweeti...</td>\n",
              "      <td>iPhone</td>\n",
              "      <td>0</td>\n",
              "    </tr>\n",
              "    <tr>\n",
              "      <th>1</th>\n",
              "      <td>jessedee know about fludapp  awesome ipadiphon...</td>\n",
              "      <td>iPad or iPhone App</td>\n",
              "      <td>1</td>\n",
              "    </tr>\n",
              "    <tr>\n",
              "      <th>2</th>\n",
              "      <td>swonderlin can not wait for #ipad 2 also they ...</td>\n",
              "      <td>iPad</td>\n",
              "      <td>1</td>\n",
              "    </tr>\n",
              "    <tr>\n",
              "      <th>3</th>\n",
              "      <td>sxsw i hope this years festival isnt as crashy...</td>\n",
              "      <td>iPad or iPhone App</td>\n",
              "      <td>0</td>\n",
              "    </tr>\n",
              "    <tr>\n",
              "      <th>4</th>\n",
              "      <td>sxtxstate great stuff on fri #sxsw marissa may...</td>\n",
              "      <td>Google</td>\n",
              "      <td>1</td>\n",
              "    </tr>\n",
              "  </tbody>\n",
              "</table>\n",
              "</div>"
            ],
            "text/plain": [
              "                                          tweet_text  ... is_there_an_emotion_directed_at_a_brand_or_product\n",
              "0  wesley83 i have a 3g iphone after 3 hrs tweeti...  ...                                                  0\n",
              "1  jessedee know about fludapp  awesome ipadiphon...  ...                                                  1\n",
              "2  swonderlin can not wait for #ipad 2 also they ...  ...                                                  1\n",
              "3  sxsw i hope this years festival isnt as crashy...  ...                                                  0\n",
              "4  sxtxstate great stuff on fri #sxsw marissa may...  ...                                                  1\n",
              "\n",
              "[5 rows x 3 columns]"
            ]
          },
          "metadata": {
            "tags": []
          },
          "execution_count": 48
        }
      ]
    },
    {
      "cell_type": "markdown",
      "metadata": {
        "id": "sC1qSe3h5sY2",
        "colab_type": "text"
      },
      "source": [
        "## Question 5"
      ]
    },
    {
      "cell_type": "markdown",
      "metadata": {
        "id": "aWlAN_Ts5sY2",
        "colab_type": "text"
      },
      "source": [
        "### Get feature and label\n",
        "- get column \"tweet_text\" as feature\n",
        "- get column \"is_there_an_emotion_directed_at_a_brand_or_product\" as label"
      ]
    },
    {
      "cell_type": "code",
      "metadata": {
        "id": "9A3sOZzR5sY4",
        "colab_type": "code",
        "colab": {}
      },
      "source": [
        "features = df['tweet_text']\n",
        "labels = df['is_there_an_emotion_directed_at_a_brand_or_product']"
      ],
      "execution_count": 49,
      "outputs": []
    },
    {
      "cell_type": "markdown",
      "metadata": {
        "colab_type": "text",
        "id": "3YErwYLCH0N_"
      },
      "source": [
        "### Create train and test data\n",
        "- use train_test_split to get train and test set\n",
        "- set a random_state\n",
        "- test_size: 0.25"
      ]
    },
    {
      "cell_type": "code",
      "metadata": {
        "colab_type": "code",
        "id": "lNkwrGgEH0OA",
        "colab": {}
      },
      "source": [
        "from sklearn.model_selection import train_test_split"
      ],
      "execution_count": 50,
      "outputs": []
    },
    {
      "cell_type": "code",
      "metadata": {
        "id": "yw4S9Vom9PHm",
        "colab_type": "code",
        "colab": {}
      },
      "source": [
        "X_train, X_test, y_train, y_test = train_test_split(\n",
        "    features,\n",
        "    labels,\n",
        "    test_size=0.25, \n",
        "    random_state=42\n",
        ")"
      ],
      "execution_count": 52,
      "outputs": []
    },
    {
      "cell_type": "markdown",
      "metadata": {
        "id": "gMok2IX35sY8",
        "colab_type": "text"
      },
      "source": [
        "## Question 6"
      ]
    },
    {
      "cell_type": "markdown",
      "metadata": {
        "id": "dSqYjPuT5sY8",
        "colab_type": "text"
      },
      "source": [
        "### Vectorize data\n",
        "- create document-term matrix\n",
        "- use CountVectorizer()\n",
        "    - ngram_range: (1, 2)\n",
        "    - stop_words: 'english'\n",
        "    - min_df: 2   \n",
        "- do fit_transform on X_train\n",
        "- do transform on X_test"
      ]
    },
    {
      "cell_type": "code",
      "metadata": {
        "id": "bb9PnnqT5sY8",
        "colab_type": "code",
        "colab": {}
      },
      "source": [
        "from sklearn.feature_extraction.text import CountVectorizer"
      ],
      "execution_count": 54,
      "outputs": []
    },
    {
      "cell_type": "code",
      "metadata": {
        "id": "L7u3wch7B4wE",
        "colab_type": "code",
        "colab": {}
      },
      "source": [
        "cv = CountVectorizer(ngram_range=(1,2), stop_words='english', min_df=2)"
      ],
      "execution_count": 56,
      "outputs": []
    },
    {
      "cell_type": "code",
      "metadata": {
        "id": "FOm75SHzCd4m",
        "colab_type": "code",
        "colab": {}
      },
      "source": [
        "X_train = cv.fit_transform(X_train)\n",
        "X_test = cv.transform(X_test)"
      ],
      "execution_count": 57,
      "outputs": []
    },
    {
      "cell_type": "code",
      "metadata": {
        "id": "SNIKC5z9DEop",
        "colab_type": "code",
        "colab": {
          "base_uri": "https://localhost:8080/",
          "height": 1000
        },
        "outputId": "fe90f4e2-80b3-45d2-825f-4b156db4366c"
      },
      "source": [
        "cv.vocabulary_"
      ],
      "execution_count": 58,
      "outputs": [
        {
          "output_type": "execute_result",
          "data": {
            "text/plain": [
              "{'idea': 2055,\n",
              " 'google': 1689,\n",
              " 'analytics': 206,\n",
              " 'tools': 4868,\n",
              " 'know': 2499,\n",
              " 'website': 5160,\n",
              " 'doing': 1216,\n",
              " 'sxsw': 4420,\n",
              " 'bavcid': 547,\n",
              " 'google analytics': 1692,\n",
              " 'doing sxsw': 1217,\n",
              " 'hey': 1964,\n",
              " 'capture': 764,\n",
              " 'booth': 645,\n",
              " 'experience': 1382,\n",
              " 'retrollect': 3856,\n",
              " 'popular': 3585,\n",
              " 'wins': 5229,\n",
              " 'ipad': 2177,\n",
              " 'link': 2649,\n",
              " 'hey sxsw': 1969,\n",
              " 'wins ipad': 5231,\n",
              " 'ipad link': 2230,\n",
              " 'great': 1805,\n",
              " 'app': 246,\n",
              " 'madebymany': 2809,\n",
              " 'great sxsw': 1817,\n",
              " 'sxsw ipad': 4504,\n",
              " 'ipad app': 2184,\n",
              " 'app madebymany': 270,\n",
              " 'got': 1780,\n",
              " 'foodspotting': 1523,\n",
              " 'iphone': 2308,\n",
              " 'apps': 373,\n",
              " 'link iphone': 2667,\n",
              " 'iphone apps': 2316,\n",
              " 'theyd': 4764,\n",
              " 'stupid': 4366,\n",
              " 'apple': 298,\n",
              " 'opening': 3356,\n",
              " 'temporary': 4724,\n",
              " 'store': 4299,\n",
              " 'austin': 430,\n",
              " 'amp': 179,\n",
              " 'launch': 2534,\n",
              " 'mention': 2916,\n",
              " 'apple opening': 329,\n",
              " 'opening temporary': 3363,\n",
              " 'temporary store': 4726,\n",
              " 'store austin': 4305,\n",
              " 'austin sxsw': 452,\n",
              " 'sxsw amp': 4426,\n",
              " 'amp ipad': 190,\n",
              " 'ipad launch': 2228,\n",
              " 'launch link': 2540,\n",
              " 'link mention': 2676,\n",
              " 'rt': 3912,\n",
              " 'check': 822,\n",
              " 'dokobots': 1219,\n",
              " 'game': 1602,\n",
              " 'android': 210,\n",
              " 'pretty': 3630,\n",
              " 'cool': 990,\n",
              " 'geogames': 1626,\n",
              " 'tmsxsw': 4837,\n",
              " 'rt mention': 3914,\n",
              " 'mention check': 2943,\n",
              " 'check dokobots': 824,\n",
              " 'dokobots game': 1220,\n",
              " 'game mention': 1605,\n",
              " 'mention iphone': 3001,\n",
              " 'iphone android': 2314,\n",
              " 'android pretty': 229,\n",
              " 'pretty cool': 3632,\n",
              " 'cool geogames': 995,\n",
              " 'geogames sxsw': 1627,\n",
              " 'sxsw tmsxsw': 4588,\n",
              " 'presentation': 3618,\n",
              " 'googles': 1769,\n",
              " 'marissa': 2856,\n",
              " 'mayer': 2887,\n",
              " 'convention': 986,\n",
              " 'center': 797,\n",
              " 'googles marissa': 1772,\n",
              " 'marissa mayer': 2857,\n",
              " 'sxsw mention': 4522,\n",
              " 'mention austin': 2929,\n",
              " 'austin convention': 434,\n",
              " 'convention center': 987,\n",
              " 'center mention': 798,\n",
              " 'mention link': 3011,\n",
              " 'whoa': 5193,\n",
              " 'hang': 1886,\n",
              " 'just': 2433,\n",
              " 'saw': 3965,\n",
              " 'just saw': 2456,\n",
              " 'iphone sxsw': 2349,\n",
              " 'hands': 1880,\n",
              " 'charging': 817,\n",
              " 'zero': 5365,\n",
              " 'juice': 2427,\n",
              " 'left': 2578,\n",
              " 'iphone charging': 2327,\n",
              " 'want': 5121,\n",
              " 'lisa': 2694,\n",
              " 'want ipad': 5124,\n",
              " 'tweeps': 4940,\n",
              " 'web': 5151,\n",
              " 'industry': 2111,\n",
              " 'party': 3427,\n",
              " 'calendar': 743,\n",
              " 'ur': 4994,\n",
              " 'ical': 2049,\n",
              " 'track': 4882,\n",
              " 'whats': 5186,\n",
              " 'goin': 1667,\n",
              " 'hey tweeps': 1970,\n",
              " 'web industry': 5154,\n",
              " 'industry party': 2112,\n",
              " 'party calendar': 3430,\n",
              " 'calendar ur': 745,\n",
              " 'ur iphone': 4995,\n",
              " 'iphone ical': 2338,\n",
              " 'ical amp': 2050,\n",
              " 'amp track': 203,\n",
              " 'track whats': 4883,\n",
              " 'whats goin': 5187,\n",
              " 'goin sxsw': 1668,\n",
              " 'sxsw link': 4512,\n",
              " 'nyt': 3306,\n",
              " 'quotheres': 3732,\n",
              " 'amazing': 162,\n",
              " 'way': 5143,\n",
              " 'serve': 4049,\n",
              " 'readershipquot': 3790,\n",
              " 'market': 2863,\n",
              " 'opportunity': 3368,\n",
              " 'ignorequot': 2061,\n",
              " 'newsapps': 3273,\n",
              " 'nyt app': 3307,\n",
              " 'app ipad': 262,\n",
              " 'ipad quotheres': 2246,\n",
              " 'quotheres amazing': 3733,\n",
              " 'amazing way': 167,\n",
              " 'way serve': 5148,\n",
              " 'serve readershipquot': 4050,\n",
              " 'readershipquot quotheres': 3791,\n",
              " 'quotheres market': 3734,\n",
              " 'market opportunity': 2865,\n",
              " 'opportunity ignorequot': 3369,\n",
              " 'ignorequot sxsw': 2062,\n",
              " 'sxsw newsapps': 4527,\n",
              " 'eat': 1293,\n",
              " 'hilton': 1980,\n",
              " 'google eat': 1708,\n",
              " 'yay': 5319,\n",
              " 'new': 3235,\n",
              " 'blog': 626,\n",
              " 'post': 3604,\n",
              " 'hootsuite': 2013,\n",
              " 'mobile': 3137,\n",
              " 'updates': 4988,\n",
              " 'blackberry': 617,\n",
              " 'yay rt': 5321,\n",
              " 'blog post': 627,\n",
              " 'mobile sxsw': 3149,\n",
              " 'sxsw updates': 4598,\n",
              " 'updates iphone': 4989,\n",
              " 'iphone blackberry': 2321,\n",
              " 'amp android': 180,\n",
              " 'android link': 223,\n",
              " 'heading': 1923,\n",
              " 'guide': 1846,\n",
              " 'free': 1541,\n",
              " 'limited': 2630,\n",
              " 'time': 4810,\n",
              " 'lp': 2782,\n",
              " 'travel': 4902,\n",
              " 'heading austin': 1925,\n",
              " 'austin guide': 437,\n",
              " 'guide iphone': 1848,\n",
              " 'iphone free': 2333,\n",
              " 'free limited': 1550,\n",
              " 'limited time': 2631,\n",
              " 'time link': 4816,\n",
              " 'gt': 1835,\n",
              " 'people': 3466,\n",
              " 'work': 5268,\n",
              " 'agileagency': 140,\n",
              " 'gt rt': 1837,\n",
              " 'mention google': 2977,\n",
              " 'google people': 1730,\n",
              " 'people work': 3478,\n",
              " 'work people': 5274,\n",
              " 'people people': 3473,\n",
              " 'people doing': 3468,\n",
              " 'doing work': 1218,\n",
              " 'work agileagency': 5269,\n",
              " 'agileagency sxsw': 141,\n",
              " 'takes': 4657,\n",
              " 'video': 5063,\n",
              " 'biggest': 602,\n",
              " 'events': 1348,\n",
              " 'day': 1077,\n",
              " '2011_': 31,\n",
              " 'ipad takes': 2262,\n",
              " 'takes sxsw': 4658,\n",
              " 'sxsw video': 4602,\n",
              " 'video biggest': 5064,\n",
              " 'biggest events': 603,\n",
              " 'events day': 1349,\n",
              " 'day sxsw': 1087,\n",
              " 'sxsw 2011_': 4423,\n",
              " '2011_ link': 32,\n",
              " 'discovr': 1189,\n",
              " 'available': 464,\n",
              " 'killing': 2490,\n",
              " 'discovr available': 1190,\n",
              " 'available iphone': 466,\n",
              " 'killing sxsw': 2492,\n",
              " 'hours': 2034,\n",
              " 'announce': 235,\n",
              " 'details': 1150,\n",
              " 'giveaway': 1644,\n",
              " 'sxswi': 4625,\n",
              " 'mention hours': 2992,\n",
              " 'hours announce': 2035,\n",
              " 'announce details': 236,\n",
              " 'details ipad': 1151,\n",
              " 'ipad giveaway': 2211,\n",
              " 'giveaway sxsw': 1646,\n",
              " 'sxsw sxswi': 4581,\n",
              " 'navigating': 3209,\n",
              " 'crowded': 1043,\n",
              " 'sucks': 4377,\n",
              " 'face': 1408,\n",
              " 'quotgoogle': 3727,\n",
              " 'maps': 2843,\n",
              " 'route': 3906,\n",
              " 'traffic': 4894,\n",
              " 'saving': 3961,\n",
              " 'user': 5012,\n",
              " 'years': 5328,\n",
              " 'dayquot': 1089,\n",
              " 'mention quotgoogle': 3039,\n",
              " 'quotgoogle maps': 3730,\n",
              " 'maps route': 2848,\n",
              " 'route traffic': 3908,\n",
              " 'traffic saving': 4896,\n",
              " 'saving user': 3963,\n",
              " 'user years': 5014,\n",
              " 'years dayquot': 5330,\n",
              " 'dayquot marissa': 1090,\n",
              " 'mayer sxsw': 2892,\n",
              " 'congratulations': 954,\n",
              " 'winning': 5222,\n",
              " 'mention congratulations': 2947,\n",
              " 'dude': 1279,\n",
              " 'taking': 4659,\n",
              " 'pictures': 3527,\n",
              " 'gonna': 1673,\n",
              " 'lie': 2594,\n",
              " 'screen': 4001,\n",
              " 'size': 4140,\n",
              " 'mention saw': 3052,\n",
              " 'taking pictures': 4664,\n",
              " 'pictures ipad': 3528,\n",
              " 'screen size': 4002,\n",
              " 'good': 1675,\n",
              " 'latest': 2530,\n",
              " 'stream': 4341,\n",
              " 'apples': 358,\n",
              " 'ipad2': 2274,\n",
              " 'come': 904,\n",
              " 'playsxsw': 3560,\n",
              " 'good work': 1687,\n",
              " 'mention mention': 3023,\n",
              " 'check latest': 828,\n",
              " 'latest stream': 2531,\n",
              " 'stream apples': 4342,\n",
              " 'apples store': 362,\n",
              " 'store sxsw': 4331,\n",
              " 'link ipad2': 2666,\n",
              " 'ipad2 come': 2277,\n",
              " 'come playsxsw': 908,\n",
              " 'tip': 4831,\n",
              " 'buttons': 718,\n",
              " 'hack': 1863,\n",
              " 'tapworthy': 4676,\n",
              " 'buttons hack': 719,\n",
              " 'tapworthy sxsw': 4679,\n",
              " 'beta': 585,\n",
              " 'testing': 4732,\n",
              " 'interactive': 2150,\n",
              " 'book': 639,\n",
              " 'moonbot': 3169,\n",
              " 'studios': 4360,\n",
              " 'louisiana': 2764,\n",
              " 'mention sxsw': 3065,\n",
              " 'sxsw beta': 4440,\n",
              " 'beta testing': 586,\n",
              " 'testing interactive': 4733,\n",
              " 'interactive book': 2151,\n",
              " 'book ipad': 641,\n",
              " 'app moonbot': 272,\n",
              " 'moonbot studios': 3170,\n",
              " 'studios louisiana': 4361,\n",
              " 'louisiana cool': 2765,\n",
              " 'cool app': 991,\n",
              " 'lots': 2762,\n",
              " '2s': 44,\n",
              " 'bigger': 599,\n",
              " 'thought': 4788,\n",
              " 'lots ipad': 2763,\n",
              " 'ipad 2s': 2181,\n",
              " '2s austin': 45,\n",
              " 'thought sxsw': 4789,\n",
              " 'crowd': 1039,\n",
              " 'swarms': 4409,\n",
              " 'sxsw crowd': 4459,\n",
              " 'crowd swarms': 1041,\n",
              " 'swarms ipad': 4410,\n",
              " 'life': 2595,\n",
              " 'im': 2071,\n",
              " 'coming': 913,\n",
              " 'women': 5247,\n",
              " 'thing': 4770,\n",
              " 'life im': 2597,\n",
              " 'im coming': 2072,\n",
              " 'coming ipad': 914,\n",
              " 'ipad women': 2273,\n",
              " 'women hands': 5248,\n",
              " 'hands thing': 1883,\n",
              " 'thing sxsw': 4774,\n",
              " 'downloaded': 1247,\n",
              " 'preparation': 3616,\n",
              " 'need': 3217,\n",
              " 'networking': 3232,\n",
              " 'just downloaded': 2441,\n",
              " 'check link': 829,\n",
              " 'link app': 2653,\n",
              " 'drivers': 1267,\n",
              " 'finding': 1489,\n",
              " 'best': 571,\n",
              " 'google route': 1739,\n",
              " 'saving drivers': 3962,\n",
              " 'drivers years': 1268,\n",
              " 'years time': 5331,\n",
              " 'time day': 4813,\n",
              " 'day finding': 1081,\n",
              " 'finding best': 1490,\n",
              " 'best route': 578,\n",
              " 'route sxsw': 3907,\n",
              " 'festival': 1470,\n",
              " 'explorer': 1397,\n",
              " 'bands': 516,\n",
              " 'music': 3192,\n",
              " 'check rt': 833,\n",
              " 'sxsw free': 4485,\n",
              " 'festival explorer': 1471,\n",
              " 'ipads': 2300,\n",
              " 'place': 3534,\n",
              " 'world': 5282,\n",
              " 'right': 3872,\n",
              " 'queue': 3705,\n",
              " 'opens': 3364,\n",
              " 'apple just': 321,\n",
              " 'store link': 4320,\n",
              " 'link sxsw': 2681,\n",
              " 'yup': 5355,\n",
              " 'envy': 1337,\n",
              " 'roof': 3900,\n",
              " 'thanks': 4743,\n",
              " 'person': 3484,\n",
              " 'mention ipad': 2999,\n",
              " 'ipad envy': 2207,\n",
              " 'envy roof': 1338,\n",
              " 'roof thanks': 3901,\n",
              " 'thanks person': 4747,\n",
              " 'person sxsw': 3487,\n",
              " 'downtown': 1250,\n",
              " 'oh': 3330,\n",
              " 'mention apple': 2926,\n",
              " 'store downtown': 4309,\n",
              " 'downtown austin': 1252,\n",
              " 'overflow': 3391,\n",
              " 'line': 2632,\n",
              " 'session': 4055,\n",
              " 'interesting': 2155,\n",
              " 'talk': 4666,\n",
              " 'like': 2604,\n",
              " 'said': 3938,\n",
              " 'dont': 1223,\n",
              " 'miss': 3126,\n",
              " 'line ipad': 2638,\n",
              " 'ipad session': 2254,\n",
              " 'dont miss': 1229,\n",
              " 'woohoo': 5259,\n",
              " 'hollergram': 2002,\n",
              " 'woohoo rt': 5260,\n",
              " 'mention hollergram': 2990,\n",
              " 'folks': 1515,\n",
              " 'circles': 855,\n",
              " 'hope': 2016,\n",
              " 'youre': 5345,\n",
              " 'having': 1908,\n",
              " 'sxsw folks': 4484,\n",
              " 'google circles': 1699,\n",
              " 'youre having': 5347,\n",
              " 'piece': 3529,\n",
              " 'awesomeness': 494,\n",
              " 'worth': 5294,\n",
              " 'watch': 5137,\n",
              " 'phones': 3497,\n",
              " 'view': 5075,\n",
              " 'link android': 2652,\n",
              " 'android phones': 228,\n",
              " 'fear': 1454,\n",
              " 'extended': 1399,\n",
              " 'wed': 5164,\n",
              " 'popup': 3586,\n",
              " 'sunday': 4381,\n",
              " '313': 48,\n",
              " 'appleatxdt': 355,\n",
              " 'mention rt': 3049,\n",
              " 'mention day': 2949,\n",
              " 'day apple': 1078,\n",
              " 'apple popup': 334,\n",
              " 'upgrade': 4990,\n",
              " 'newest': 3265,\n",
              " 'ios': 2173,\n",
              " 'tweetdeck': 4942,\n",
              " 'jealous': 2402,\n",
              " 'met': 3098,\n",
              " 'team': 4690,\n",
              " 'set': 4061,\n",
              " 'days': 1091,\n",
              " 'mention met': 3024,\n",
              " 'met team': 3099,\n",
              " 'team set': 4692,\n",
              " 'set sxsw': 4067,\n",
              " 'sxsw apple': 4430,\n",
              " 'apple store': 345,\n",
              " 'store set': 4329,\n",
              " 'set place': 4065,\n",
              " 'place days': 3535,\n",
              " 'days great': 1092,\n",
              " 'great work': 1820,\n",
              " 'schools': 3995,\n",
              " 'marketing': 2867,\n",
              " 'experts': 1386,\n",
              " 'apple schools': 339,\n",
              " 'schools marketing': 3996,\n",
              " 'marketing experts': 2868,\n",
              " 'experts link': 1388,\n",
              " 'apple marketing': 325,\n",
              " 'mashable': 2873,\n",
              " 'video link': 5068,\n",
              " 'link mashable': 2674,\n",
              " 'mashable apple': 2874,\n",
              " 'quotmention': 3742,\n",
              " 'looks': 2745,\n",
              " 'technical': 4706,\n",
              " 'solutions': 4203,\n",
              " 'theyre': 4766,\n",
              " 'community': 924,\n",
              " 'human': 2046,\n",
              " 'solution': 4200,\n",
              " 'quotgoogle looks': 3729,\n",
              " 'looks technical': 2750,\n",
              " 'technical solutions': 4707,\n",
              " 'solutions theyre': 4204,\n",
              " 'theyre great': 4768,\n",
              " 'community human': 925,\n",
              " 'knew': 2497,\n",
              " 'beer': 562,\n",
              " 'night': 3293,\n",
              " 'id': 2053,\n",
              " 'tonight': 4857,\n",
              " 'success': 4372,\n",
              " 'team android': 4691,\n",
              " 'android party': 226,\n",
              " 'party tonight': 3441,\n",
              " 'success sxsw': 4374,\n",
              " 'yes': 5334,\n",
              " 'updated': 4986,\n",
              " 'song': 4206,\n",
              " 'info': 2116,\n",
              " '247': 35,\n",
              " 'live': 2704,\n",
              " 'streaming': 4345,\n",
              " 'yes updated': 5338,\n",
              " 'updated iphone': 4987,\n",
              " 'iphone app': 2315,\n",
              " 'app song': 278,\n",
              " 'song info': 4207,\n",
              " 'info mention': 2118,\n",
              " 'mention 247': 2919,\n",
              " '247 stream': 37,\n",
              " 'stream live': 4344,\n",
              " 'live video': 2709,\n",
              " 'video streaming': 5071,\n",
              " 'streaming sxsw': 4346,\n",
              " 'lustre': 2798,\n",
              " 'pearl': 3459,\n",
              " 'teamandroidsxsw': 4694,\n",
              " 'cause': 787,\n",
              " 'love': 2768,\n",
              " 'geeks': 1621,\n",
              " 'mention lustre': 3020,\n",
              " 'lustre pearl': 2799,\n",
              " 'pearl teamandroidsxsw': 3460,\n",
              " 'teamandroidsxsw cause': 4695,\n",
              " 'cause love': 788,\n",
              " 'love android': 2769,\n",
              " 'android geeks': 219,\n",
              " 'geeks sxsw': 1622,\n",
              " 'release': 3820,\n",
              " 'genius': 1623,\n",
              " 'history': 1983,\n",
              " 'apples popup': 361,\n",
              " 'popup store': 3592,\n",
              " 'sxsw day': 4461,\n",
              " 'day ipad2': 1083,\n",
              " 'ipad2 release': 2287,\n",
              " 'release genius': 3822,\n",
              " 'tells': 4720,\n",
              " 'making': 2832,\n",
              " 'accessible': 109,\n",
              " 'site': 4135,\n",
              " 'ready': 3792,\n",
              " 'poursite': 3607,\n",
              " 'ready poursite': 3793,\n",
              " 'poursite sxsw': 3608,\n",
              " 'josh': 2419,\n",
              " 'clark': 866,\n",
              " 'hate': 1904,\n",
              " 'button': 715,\n",
              " 'heat': 1940,\n",
              " 'million': 3113,\n",
              " 'suns': 4383,\n",
              " 'josh clark': 2420,\n",
              " 'clark hate': 867,\n",
              " 'hate ipads': 1905,\n",
              " 'ipads button': 2302,\n",
              " 'button heat': 716,\n",
              " 'heat million': 1941,\n",
              " 'million suns': 3116,\n",
              " 'suns tapworthy': 4384,\n",
              " 'feature': 1455,\n",
              " 'saves': 3957,\n",
              " 'wasted': 5135,\n",
              " 'google maps': 1724,\n",
              " 'years day': 5329,\n",
              " 'wasted time': 5136,\n",
              " 'traffic sxsw': 4897,\n",
              " 'decision': 1108,\n",
              " 'lug': 2793,\n",
              " 'laptop': 2521,\n",
              " 'feel': 1465,\n",
              " 'missing': 3129,\n",
              " 'arm': 390,\n",
              " 'ipad rt': 2251,\n",
              " 'laptop sxsw': 2523,\n",
              " 'feel like': 1466,\n",
              " 'im missing': 2080,\n",
              " 'wow': 5297,\n",
              " 'demand': 1123,\n",
              " 'sold': 4193,\n",
              " 'texas': 4734,\n",
              " 'town': 4879,\n",
              " 'isnt': 2376,\n",
              " 'helping': 1957,\n",
              " 'austin texas': 454,\n",
              " 'excited': 1364,\n",
              " 'lucky': 2788,\n",
              " 'possible': 3599,\n",
              " 'today': 4838,\n",
              " 'excited know': 1365,\n",
              " 'know google': 2501,\n",
              " 'circles lucky': 857,\n",
              " 'lucky folks': 2790,\n",
              " 'folks sxsw': 1516,\n",
              " 'sxsw possible': 4544,\n",
              " 'possible launch': 3600,\n",
              " 'launch today': 2547,\n",
              " 'today link': 4839,\n",
              " 'arrived': 393,\n",
              " 'awesome': 479,\n",
              " 'sxsw party': 4532,\n",
              " 'mention yes': 3093,\n",
              " 'thousands': 4792,\n",
              " 'seen': 4026,\n",
              " 'single': 4133,\n",
              " 'tablet': 4647,\n",
              " 'sxsw seen': 4562,\n",
              " 'android tablet': 232,\n",
              " 'listening': 2700,\n",
              " 'discuss': 1193,\n",
              " 'products': 3655,\n",
              " 'including': 2109,\n",
              " 'hotpot': 2029,\n",
              " 'yelp': 5332,\n",
              " 'listening googles': 2701,\n",
              " 'new products': 3253,\n",
              " 'google hotpot': 1711,\n",
              " 'smart': 4155,\n",
              " 'company': 926,\n",
              " 'rumor': 3921,\n",
              " 'ampipad': 204,\n",
              " 'bitlyg03mzb': 613,\n",
              " 'mention smart': 3057,\n",
              " 'smart company': 4157,\n",
              " 'company rt': 929,\n",
              " 'mention rumor': 3050,\n",
              " 'rumor apple': 3922,\n",
              " 'sxsw ampipad': 4427,\n",
              " 'ampipad launch': 205,\n",
              " 'launch bitlyg03mzb': 2535,\n",
              " 'showing': 4114,\n",
              " 'news': 3266,\n",
              " 'major': 2818,\n",
              " 'social': 4178,\n",
              " 'network': 3228,\n",
              " 'called': 747,\n",
              " 'possibly': 3602,\n",
              " 'google launch': 1717,\n",
              " 'launch major': 2542,\n",
              " 'major new': 2820,\n",
              " 'new social': 3256,\n",
              " 'social network': 4181,\n",
              " 'network called': 3229,\n",
              " 'called circles': 748,\n",
              " 'circles possibly': 858,\n",
              " 'possibly today': 3603,\n",
              " 'peter': 3492,\n",
              " 'cashmore': 783,\n",
              " 'minor': 3122,\n",
              " 'improvement': 2102,\n",
              " 'unless': 4971,\n",
              " 'money': 3162,\n",
              " 'burn': 704,\n",
              " 'mention peter': 3032,\n",
              " 'peter cashmore': 3493,\n",
              " 'cashmore ipad': 784,\n",
              " 'ipad minor': 2236,\n",
              " 'minor improvement': 3123,\n",
              " 'improvement worth': 2103,\n",
              " 'worth unless': 5295,\n",
              " 'unless money': 4972,\n",
              " 'money burn': 3163,\n",
              " 'burn sxsw': 705,\n",
              " 'planning': 3545,\n",
              " 'previews': 3638,\n",
              " 'far': 1433,\n",
              " 'super': 4385,\n",
              " 'positive': 3597,\n",
              " 'phone': 3494,\n",
              " 'battery': 540,\n",
              " 'wise': 5237,\n",
              " 'believe': 565,\n",
              " 'week': 5167,\n",
              " 'typing': 4957,\n",
              " 'sixth': 4139,\n",
              " 'st': 4261,\n",
              " 'convinced': 988,\n",
              " 'held': 1950,\n",
              " 'trade': 4888,\n",
              " 'failed': 1419,\n",
              " 'willpower': 5209,\n",
              " 'convinced upgrade': 989,\n",
              " 'upgrade ipad': 4991,\n",
              " 'ipad just': 2224,\n",
              " 'just held': 2445,\n",
              " 'held sxsw': 1951,\n",
              " 'sxsw trade': 4592,\n",
              " 'trade failed': 4889,\n",
              " 'failed willpower': 1420,\n",
              " 'willpower check': 5210,\n",
              " 'wont': 5258,\n",
              " 'getting': 1635,\n",
              " 'line apple': 2634,\n",
              " 'getting ipad2': 1637,\n",
              " 'ipad2 today': 2290,\n",
              " 'blogger': 629,\n",
              " 'interface': 2158,\n",
              " 'using': 5030,\n",
              " 'semantic': 4041,\n",
              " 'tech': 4696,\n",
              " 'make': 2821,\n",
              " 'searching': 4013,\n",
              " 'better': 587,\n",
              " 'better sxsw': 591,\n",
              " 'expect': 1377,\n",
              " 'buzz': 736,\n",
              " 'comes': 911,\n",
              " 'tomorrow': 4851,\n",
              " 'support': 4388,\n",
              " 'flash': 1501,\n",
              " 'maybe': 2885,\n",
              " 'ipad sxsw': 2260,\n",
              " 'sweet': 4413,\n",
              " 'ready sxsw': 3795,\n",
              " 'def': 1109,\n",
              " 'gym': 1858,\n",
              " 'temporary apple': 4725,\n",
              " 'dropped': 1275,\n",
              " 'real': 3796,\n",
              " 'search': 4006,\n",
              " 'bc': 552,\n",
              " 'willing': 5208,\n",
              " 'moment': 3160,\n",
              " 'moment sxsw': 3161,\n",
              " 'ill': 2064,\n",
              " 'guess': 1843,\n",
              " 'rightbrain': 3876,\n",
              " 'mwrc11': 3201,\n",
              " 'leftbrain': 2581,\n",
              " '10': 0,\n",
              " 'attendees': 415,\n",
              " 'mac': 2801,\n",
              " 'sxsw rightbrain': 4556,\n",
              " 'rightbrain mwrc11': 3877,\n",
              " 'mwrc11 leftbrain': 3202,\n",
              " 'leftbrain rt': 2582,\n",
              " 'sxsw 10': 4421,\n",
              " '10 attendees': 1,\n",
              " 'attendees mac': 418,\n",
              " 'mac ipad': 2802,\n",
              " 'ive': 2386,\n",
              " 'used': 5007,\n",
              " 'camera': 754,\n",
              " 'image': 2088,\n",
              " 'mode': 3155,\n",
              " 'suggestions': 4380,\n",
              " 'cam': 751,\n",
              " 'feature sxsw': 1457,\n",
              " 'open': 3348,\n",
              " 'shop': 4095,\n",
              " 'conference': 945,\n",
              " 'apple set': 340,\n",
              " 'set open': 4063,\n",
              " 'open popup': 3350,\n",
              " 'popup shop': 3590,\n",
              " 'shop sxsw': 4098,\n",
              " 'sxsw interactive': 4503,\n",
              " 'conference link': 946,\n",
              " 'link apple': 2654,\n",
              " 'apple ipad2': 319,\n",
              " 'stop': 4293,\n",
              " 'store just': 4314,\n",
              " 'just sxsw': 2459,\n",
              " 'sxsw conference': 4455,\n",
              " 'launched': 2548,\n",
              " 'mention just': 3005,\n",
              " 'just launched': 2448,\n",
              " 'app sxsw': 280,\n",
              " 'sxsw details': 4465,\n",
              " 'free link': 1551,\n",
              " 'door': 1235,\n",
              " 'invite': 2171,\n",
              " 'ass': 408,\n",
              " 'just got': 2444,\n",
              " 'google party': 1729,\n",
              " 'netflix': 3226,\n",
              " 'built': 702,\n",
              " 'big': 594,\n",
              " 'agree': 143,\n",
              " 'netflix iphone': 3227,\n",
              " 'app built': 252,\n",
              " 'agree sxsw': 145,\n",
              " 'quotapple': 3713,\n",
              " 'elegant': 1302,\n",
              " 'fascist': 1438,\n",
              " 'americaquot': 173,\n",
              " 'flipboard': 1508,\n",
              " 'mention quotapple': 3037,\n",
              " 'quotapple elegant': 3715,\n",
              " 'elegant fascist': 1304,\n",
              " 'fascist company': 1439,\n",
              " 'company americaquot': 928,\n",
              " 'americaquot flipboard': 174,\n",
              " 'flipboard sxsw': 1509,\n",
              " 'really': 3800,\n",
              " 'trying': 4919,\n",
              " 'pick': 3516,\n",
              " 'pick ipad': 3517,\n",
              " 'ipad tomorrow': 2265,\n",
              " 'tomorrow link': 4853,\n",
              " 'apple sxsw': 349,\n",
              " 'turn': 4929,\n",
              " 'art': 394,\n",
              " 'case': 774,\n",
              " 'let': 2586,\n",
              " 'zazzlesxsw': 5361,\n",
              " 'hey mention': 1968,\n",
              " 'wed love': 5166,\n",
              " 'iphone case': 2324,\n",
              " 'let know': 2587,\n",
              " 'zazzlesxsw sxsw': 5362,\n",
              " 'wasnt': 5134,\n",
              " 'badge': 504,\n",
              " 'food': 1519,\n",
              " 'drink': 1258,\n",
              " 'figure': 1479,\n",
              " 'roaming': 3886,\n",
              " 'unpack': 4975,\n",
              " 'priorities': 3642,\n",
              " 'pop': 3579,\n",
              " 'bars': 533,\n",
              " 'apple pop': 333,\n",
              " 'pop store': 3583,\n",
              " 'sxsw pop': 4540,\n",
              " 'prefer': 3615,\n",
              " 'droid': 1273,\n",
              " 'news iphone': 3270,\n",
              " 'iphone ipad': 2339,\n",
              " 'mention apps': 2928,\n",
              " 'apps mention': 381,\n",
              " 'mention amp': 2922,\n",
              " 'amp mention': 196,\n",
              " 'mobile apps': 3140,\n",
              " 'apps sxsw': 385,\n",
              " 'core': 1012,\n",
              " 'shop core': 4096,\n",
              " 'core sxsw': 1013,\n",
              " 'atampt': 409,\n",
              " 'friends': 1570,\n",
              " 'verizon': 5054,\n",
              " 'networks': 3233,\n",
              " 'ridiculously': 3870,\n",
              " 'slow': 4151,\n",
              " 'atampt iphone': 410,\n",
              " 'verizon iphone': 5055,\n",
              " 'dan': 1067,\n",
              " 'announced': 237,\n",
              " 'broadfeed': 687,\n",
              " 'just announced': 2435,\n",
              " 'sxsw check': 4446,\n",
              " 'security': 4020,\n",
              " 'guard': 1839,\n",
              " 'security guard': 4021,\n",
              " 'popup apple': 3587,\n",
              " 'new ipad': 3243,\n",
              " 'design': 1139,\n",
              " 'panel': 3410,\n",
              " 'ipad design': 2201,\n",
              " 'panel good': 3413,\n",
              " 'good sxsw': 1683,\n",
              " 'havent': 1906,\n",
              " 'download': 1242,\n",
              " 'sampler': 3944,\n",
              " 'itunes': 2382,\n",
              " 'free sxsw': 1557,\n",
              " 'sxsw music': 4525,\n",
              " 'music sampler': 3196,\n",
              " 'sampler itunes': 3945,\n",
              " 'itunes link': 2385,\n",
              " 'link itunes': 2669,\n",
              " 'youve': 5350,\n",
              " 'getting ipad': 1636,\n",
              " 'lax': 2557,\n",
              " 'wife': 5200,\n",
              " 'freespeech': 1561,\n",
              " 'saw lax': 3966,\n",
              " 'lax im': 2558,\n",
              " 'im heading': 2075,\n",
              " 'heading sxsw': 1927,\n",
              " 'sxsw wife': 4607,\n",
              " 'wife iphone': 5201,\n",
              " 'ipad download': 2205,\n",
              " 'download app': 1243,\n",
              " 'app freespeech': 259,\n",
              " 'freespeech mention': 1562,\n",
              " 'setting': 4071,\n",
              " 'service': 4051,\n",
              " 'morning': 3173,\n",
              " 'morning sxsw': 3174,\n",
              " 'congrats': 950,\n",
              " 'featured': 1458,\n",
              " 'mention congrats': 2946,\n",
              " 'congrats iphone': 951,\n",
              " 'app featured': 257,\n",
              " 'featured sxsw': 1459,\n",
              " 'exclusive': 1369,\n",
              " 'review': 3863,\n",
              " 'rest': 3846,\n",
              " 'biz': 614,\n",
              " 'apple ipad': 318,\n",
              " 'ipad2 apple': 2275,\n",
              " 'quoti': 3735,\n",
              " 'god': 1657,\n",
              " 'explanation': 1392,\n",
              " 'continued': 977,\n",
              " 'guy': 1851,\n",
              " 'kawasaki': 2470,\n",
              " 'enchantment': 1311,\n",
              " 'quoti believe': 3736,\n",
              " 'believe god': 566,\n",
              " 'god explanation': 1658,\n",
              " 'explanation apples': 1393,\n",
              " 'apples continued': 359,\n",
              " 'guy kawasaki': 1852,\n",
              " 'enchantment sxsw': 1313,\n",
              " 'purchased': 3679,\n",
              " 'wait': 5101,\n",
              " 'afternoon': 137,\n",
              " 'ipad mention': 2235,\n",
              " 'likes': 2627,\n",
              " 'app android': 248,\n",
              " 'android sxsw': 231,\n",
              " 'installing': 2137,\n",
              " 'woot': 5262,\n",
              " 'getting ready': 1639,\n",
              " 'sxsw installing': 4502,\n",
              " 'installing mention': 2138,\n",
              " 'iphone woot': 2361,\n",
              " 'woot link': 5264,\n",
              " 'facebook': 1409,\n",
              " 'developed': 1156,\n",
              " '15k': 19,\n",
              " 'app just': 264,\n",
              " 'newsapps sxsw': 3274,\n",
              " 'start': 4271,\n",
              " 'data': 1073,\n",
              " 'brilliant': 676,\n",
              " 'presentation mention': 3622,\n",
              " 'google sxsw': 1747,\n",
              " 'finally': 1485,\n",
              " 'threw': 4793,\n",
              " 'kid': 2481,\n",
              " 'mention finally': 2964,\n",
              " 'threw ipad': 4794,\n",
              " 'asked': 406,\n",
              " 'year': 5323,\n",
              " 'routes': 3909,\n",
              " 'valley': 5046,\n",
              " 'just asked': 2437,\n",
              " 'lonely': 2723,\n",
              " 'job': 2406,\n",
              " 'protecting': 3667,\n",
              " 'someones': 4205,\n",
              " 'gotta': 1785,\n",
              " 'mention lonely': 3014,\n",
              " 'protecting ipad': 3668,\n",
              " 'control': 982,\n",
              " 'action': 117,\n",
              " 'cc': 790,\n",
              " 'sxsw action': 4425,\n",
              " 'action link': 118,\n",
              " 'mention cc': 2941,\n",
              " 'cc mention': 791,\n",
              " 'developer': 1157,\n",
              " 'meet': 2906,\n",
              " 'sxswlink': 4629,\n",
              " 'iphone developer': 2329,\n",
              " 'sxswlink sxsw': 4630,\n",
              " 'did': 1167,\n",
              " 'hear': 1930,\n",
              " 'link did': 2661,\n",
              " 'did hear': 1168,\n",
              " 'hear apples': 1931,\n",
              " 'apples opening': 360,\n",
              " 'bout': 658,\n",
              " 'spending': 4244,\n",
              " 'japan': 2394,\n",
              " 'really need': 3804,\n",
              " '40': 64,\n",
              " 'users': 5015,\n",
              " '150': 15,\n",
              " 'mention interesting': 2997,\n",
              " 'google mobile': 1725,\n",
              " '40 google': 65,\n",
              " 'maps users': 2852,\n",
              " '150 million': 16,\n",
              " 'mobile link': 3144,\n",
              " '6th': 86,\n",
              " 'congress': 955,\n",
              " '6th congress': 88,\n",
              " 'agreed': 146,\n",
              " 'novelty': 3303,\n",
              " 'fades': 1414,\n",
              " 'fast': 1442,\n",
              " 'digital': 1175,\n",
              " 'delegates': 1114,\n",
              " 'media': 2903,\n",
              " 'novelty ipad': 3304,\n",
              " 'ipad news': 2238,\n",
              " 'news apps': 3267,\n",
              " 'apps fades': 376,\n",
              " 'fades fast': 1415,\n",
              " 'fast digital': 1443,\n",
              " 'digital delegates': 1177,\n",
              " 'delegates link': 1115,\n",
              " 'link media': 2675,\n",
              " 'media sxsw': 2905,\n",
              " 'twitter': 4951,\n",
              " 'does': 1206,\n",
              " 'results': 3851,\n",
              " 'search sxsw': 4010,\n",
              " ...}"
            ]
          },
          "metadata": {
            "tags": []
          },
          "execution_count": 58
        }
      ]
    },
    {
      "cell_type": "code",
      "metadata": {
        "id": "tb5LvlocDgHx",
        "colab_type": "code",
        "colab": {
          "base_uri": "https://localhost:8080/",
          "height": 35
        },
        "outputId": "1f887e60-cb70-49a1-8655-5e80c5b639ce"
      },
      "source": [
        "X_train.shape"
      ],
      "execution_count": 60,
      "outputs": [
        {
          "output_type": "execute_result",
          "data": {
            "text/plain": [
              "(2393, 5372)"
            ]
          },
          "metadata": {
            "tags": []
          },
          "execution_count": 60
        }
      ]
    },
    {
      "cell_type": "code",
      "metadata": {
        "id": "kvDCduKkEtCu",
        "colab_type": "code",
        "colab": {
          "base_uri": "https://localhost:8080/",
          "height": 35
        },
        "outputId": "67a9c1f4-68b1-4638-9e08-15a1e9b5c534"
      },
      "source": [
        "X_test.shape"
      ],
      "execution_count": 61,
      "outputs": [
        {
          "output_type": "execute_result",
          "data": {
            "text/plain": [
              "(798, 5372)"
            ]
          },
          "metadata": {
            "tags": []
          },
          "execution_count": 61
        }
      ]
    },
    {
      "cell_type": "markdown",
      "metadata": {
        "id": "qanDXve15sY_",
        "colab_type": "text"
      },
      "source": [
        "## Question 7"
      ]
    },
    {
      "cell_type": "markdown",
      "metadata": {
        "id": "uMaRNFkV5sY_",
        "colab_type": "text"
      },
      "source": [
        "### Select classifier logistic regression\n",
        "- use logistic regression for predicting sentiment of the given tweet\n",
        "- initialize classifier"
      ]
    },
    {
      "cell_type": "code",
      "metadata": {
        "id": "GT3dNgB55sZA",
        "colab_type": "code",
        "colab": {}
      },
      "source": [
        "from sklearn.linear_model import LogisticRegression\n",
        "lr = LogisticRegression()"
      ],
      "execution_count": 62,
      "outputs": []
    },
    {
      "cell_type": "markdown",
      "metadata": {
        "id": "pqQ6_HX35sZD",
        "colab_type": "text"
      },
      "source": [
        "### Fit the classifer\n",
        "- fit logistic regression classifier"
      ]
    },
    {
      "cell_type": "code",
      "metadata": {
        "id": "EIzvnNkq5sZD",
        "colab_type": "code",
        "colab": {
          "base_uri": "https://localhost:8080/",
          "height": 104
        },
        "outputId": "21f95de1-0f46-458a-9dc1-bb8d9ed52973"
      },
      "source": [
        "lr.fit(X_train, y_train)"
      ],
      "execution_count": 63,
      "outputs": [
        {
          "output_type": "execute_result",
          "data": {
            "text/plain": [
              "LogisticRegression(C=1.0, class_weight=None, dual=False, fit_intercept=True,\n",
              "                   intercept_scaling=1, l1_ratio=None, max_iter=100,\n",
              "                   multi_class='auto', n_jobs=None, penalty='l2',\n",
              "                   random_state=None, solver='lbfgs', tol=0.0001, verbose=0,\n",
              "                   warm_start=False)"
            ]
          },
          "metadata": {
            "tags": []
          },
          "execution_count": 63
        }
      ]
    },
    {
      "cell_type": "markdown",
      "metadata": {
        "id": "SZpMsYQF5sZF",
        "colab_type": "text"
      },
      "source": [
        "## Question 8"
      ]
    },
    {
      "cell_type": "markdown",
      "metadata": {
        "id": "KGnQnUww5sZF",
        "colab_type": "text"
      },
      "source": [
        "### Select classifier naive bayes\n",
        "- use naive bayes for predicting sentiment of the given tweet\n",
        "- initialize classifier\n",
        "- use MultinomialNB"
      ]
    },
    {
      "cell_type": "code",
      "metadata": {
        "colab_type": "code",
        "id": "2AbVYssaH0OE",
        "colab": {}
      },
      "source": [
        "from sklearn.naive_bayes import MultinomialNB\n",
        "mnb = MultinomialNB()"
      ],
      "execution_count": 64,
      "outputs": []
    },
    {
      "cell_type": "markdown",
      "metadata": {
        "id": "QEaG942m5sZI",
        "colab_type": "text"
      },
      "source": [
        "### Fit the classifer\n",
        "- fit naive bayes classifier"
      ]
    },
    {
      "cell_type": "code",
      "metadata": {
        "id": "rLwRBj1R5sZI",
        "colab_type": "code",
        "colab": {
          "base_uri": "https://localhost:8080/",
          "height": 35
        },
        "outputId": "cdc16c6c-68d1-4b8a-96d9-7d6aab274132"
      },
      "source": [
        "mnb.fit(X_train, y_train)"
      ],
      "execution_count": 65,
      "outputs": [
        {
          "output_type": "execute_result",
          "data": {
            "text/plain": [
              "MultinomialNB(alpha=1.0, class_prior=None, fit_prior=True)"
            ]
          },
          "metadata": {
            "tags": []
          },
          "execution_count": 65
        }
      ]
    },
    {
      "cell_type": "markdown",
      "metadata": {
        "id": "A7mgwYDJ5sZM",
        "colab_type": "text"
      },
      "source": [
        "## Question 9"
      ]
    },
    {
      "cell_type": "markdown",
      "metadata": {
        "id": "sZkA3tce5sZN",
        "colab_type": "text"
      },
      "source": [
        "### Make predictions on logistic regression\n",
        "- use your trained logistic regression model to make predictions on X_test"
      ]
    },
    {
      "cell_type": "code",
      "metadata": {
        "id": "l3f0M1ch5sZO",
        "colab_type": "code",
        "colab": {}
      },
      "source": [
        "y_pred_lr = lr.predict(X_test)"
      ],
      "execution_count": 66,
      "outputs": []
    },
    {
      "cell_type": "markdown",
      "metadata": {
        "id": "lrIxjMUB5sZQ",
        "colab_type": "text"
      },
      "source": [
        "### Make predictions on naive bayes\n",
        "- use your trained naive bayes model to make predictions on X_test\n",
        "- use a different variable name to store predictions so that they are kept separately"
      ]
    },
    {
      "cell_type": "code",
      "metadata": {
        "id": "ZSQnwyLU5sZQ",
        "colab_type": "code",
        "colab": {}
      },
      "source": [
        "y_pred_mnb = mnb.predict(X_test)"
      ],
      "execution_count": 67,
      "outputs": []
    },
    {
      "cell_type": "markdown",
      "metadata": {
        "id": "rwXQUE7b5sZS",
        "colab_type": "text"
      },
      "source": [
        "## Question 10"
      ]
    },
    {
      "cell_type": "markdown",
      "metadata": {
        "id": "E6SITIE75sZT",
        "colab_type": "text"
      },
      "source": [
        "### Calculate accuracy of logistic regression\n",
        "- check accuracy of logistic regression classifer\n",
        "- use sklearn.metrics.accuracy_score"
      ]
    },
    {
      "cell_type": "code",
      "metadata": {
        "colab_type": "code",
        "id": "clv2X0kKH0Ok",
        "colab": {
          "base_uri": "https://localhost:8080/",
          "height": 35
        },
        "outputId": "acd9e124-0233-4bda-8b73-2d525abbfef1"
      },
      "source": [
        "from sklearn.metrics import accuracy_score\n",
        "accuracy_score(y_test, y_pred_lr)"
      ],
      "execution_count": 68,
      "outputs": [
        {
          "output_type": "execute_result",
          "data": {
            "text/plain": [
              "0.8709273182957393"
            ]
          },
          "metadata": {
            "tags": []
          },
          "execution_count": 68
        }
      ]
    },
    {
      "cell_type": "markdown",
      "metadata": {
        "id": "1Fd_Gnd05sZV",
        "colab_type": "text"
      },
      "source": [
        "### Calculate accuracy of naive bayes\n",
        "- check accuracy of naive bayes classifer\n",
        "- use sklearn.metrics.accuracy_score"
      ]
    },
    {
      "cell_type": "code",
      "metadata": {
        "colab_type": "code",
        "id": "d32uBpHi5sZW",
        "colab": {
          "base_uri": "https://localhost:8080/",
          "height": 35
        },
        "outputId": "fa68ab3b-3f9d-499d-9520-35063986c786"
      },
      "source": [
        "from sklearn.metrics import accuracy_score\n",
        "accuracy_score(y_test, y_pred_mnb)"
      ],
      "execution_count": 69,
      "outputs": [
        {
          "output_type": "execute_result",
          "data": {
            "text/plain": [
              "0.8558897243107769"
            ]
          },
          "metadata": {
            "tags": []
          },
          "execution_count": 69
        }
      ]
    }
  ]
}