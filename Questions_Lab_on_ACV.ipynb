{
  "nbformat": 4,
  "nbformat_minor": 0,
  "metadata": {
    "colab": {
      "name": "Questions - Lab on ACV.ipynb",
      "provenance": [],
      "collapsed_sections": []
    },
    "kernelspec": {
      "name": "python3",
      "display_name": "Python 3"
    },
    "accelerator": "GPU"
  },
  "cells": [
    {
      "cell_type": "markdown",
      "metadata": {
        "id": "I-P5m4iA_xe7"
      },
      "source": [
        "# Bounding box detection - Racoon data\n",
        "\n",
        "\n",
        "## Data files\n",
        "- images_racoon.rar: contain images of racoons\n",
        "- train_labels.cv: contains coordinates for bounding box for every image"
      ]
    },
    {
      "cell_type": "markdown",
      "metadata": {
        "id": "d8M5gzwKWGiU"
      },
      "source": [
        "### Import the necessary libraries"
      ]
    },
    {
      "cell_type": "code",
      "metadata": {
        "id": "VOMKpZJcWGiV",
        "colab": {
          "base_uri": "https://localhost:8080/"
        },
        "outputId": "480098d6-e35c-4c27-c86c-e9b57632e630"
      },
      "source": [
        "from google.colab import drive\r\n",
        "drive.mount('/content/drive')\r\n",
        "project_path = '/content/drive/My Drive/assignments/'"
      ],
      "execution_count": 1,
      "outputs": [
        {
          "output_type": "stream",
          "text": [
            "Mounted at /content/drive\n"
          ],
          "name": "stdout"
        }
      ]
    },
    {
      "cell_type": "code",
      "metadata": {
        "id": "MFkdUtladBJW"
      },
      "source": [
        "import numpy as np\r\n",
        "import pandas as pd\r\n",
        "from scipy import stats\r\n",
        "from sklearn import metrics\r\n",
        "from sklearn import preprocessing\r\n",
        "from matplotlib import pyplot as plt\r\n",
        "import seaborn as sns\r\n",
        "import os\r\n",
        "import requests\r\n",
        "from os import walk\r\n",
        "from PIL import Image\r\n",
        "import tensorflow as tf\r\n",
        "from tensorflow.keras import Model\r\n",
        "from tensorflow.keras.applications.mobilenet import MobileNet, preprocess_input\r\n",
        "from tensorflow.keras.layers import Conv2D, Reshape\r\n",
        "from tensorflow.keras.backend import epsilon"
      ],
      "execution_count": 206,
      "outputs": []
    },
    {
      "cell_type": "markdown",
      "metadata": {
        "id": "Z_INIZOi_tUW"
      },
      "source": [
        "### Change directory"
      ]
    },
    {
      "cell_type": "code",
      "metadata": {
        "colab": {
          "base_uri": "https://localhost:8080/",
          "height": 35
        },
        "id": "bjJswr0yfTEJ",
        "outputId": "7cc9e4db-42e5-4d98-8105-1f6c9b7186bf"
      },
      "source": [
        "os.getcwd()"
      ],
      "execution_count": 12,
      "outputs": [
        {
          "output_type": "execute_result",
          "data": {
            "application/vnd.google.colaboratory.intrinsic+json": {
              "type": "string"
            },
            "text/plain": [
              "'/content'"
            ]
          },
          "metadata": {
            "tags": []
          },
          "execution_count": 12
        }
      ]
    },
    {
      "cell_type": "code",
      "metadata": {
        "id": "Sxgw3GT1AR9Y"
      },
      "source": [
        "os.chdir('/content/drive/MyDrive/assignments')"
      ],
      "execution_count": 13,
      "outputs": []
    },
    {
      "cell_type": "code",
      "metadata": {
        "colab": {
          "base_uri": "https://localhost:8080/"
        },
        "id": "mSW7Zzp0f2Vx",
        "outputId": "4c0ffdb0-1adc-4183-b0e3-5f8e9a9472f8"
      },
      "source": [
        "!unzip images.zip"
      ],
      "execution_count": 14,
      "outputs": [
        {
          "output_type": "stream",
          "text": [
            "Archive:  images.zip\n",
            "   creating: images/\n",
            "  inflating: images/raccoon-166.jpg  \n",
            "  inflating: images/raccoon-153.jpg  \n",
            "  inflating: images/raccoon-141.jpg  \n",
            "  inflating: images/raccoon-17.jpg   \n",
            "  inflating: images/raccoon-79.jpg   \n",
            "  inflating: images/raccoon-78.jpg   \n",
            "  inflating: images/raccoon-84.jpg   \n",
            "  inflating: images/raccoon-54.jpg   \n",
            "  inflating: images/raccoon-154.jpg  \n",
            "  inflating: images/raccoon-187.jpg  \n",
            "  inflating: images/raccoon-176.jpg  \n",
            "  inflating: images/raccoon-57.jpg   \n",
            "  inflating: images/raccoon-137.jpg  \n",
            "  inflating: images/raccoon-124.jpg  \n",
            "  inflating: images/raccoon-167.jpg  \n",
            "  inflating: images/raccoon-151.jpg  \n",
            "  inflating: images/raccoon-91.jpg   \n",
            "  inflating: images/raccoon-111.jpg  \n",
            "  inflating: images/raccoon-199.jpg  \n",
            "  inflating: images/raccoon-186.jpg  \n",
            "  inflating: images/raccoon-53.jpg   \n",
            "  inflating: images/raccoon-114.jpg  \n",
            "  inflating: images/raccoon-75.jpg   \n",
            "  inflating: images/raccoon-104.jpg  \n",
            "  inflating: images/raccoon-64.jpg   \n",
            "  inflating: images/raccoon-172.jpg  \n",
            "  inflating: images/raccoon-145.jpg  \n",
            "  inflating: images/raccoon-44.jpg   \n",
            "  inflating: images/raccoon-4.jpg    \n",
            "  inflating: images/raccoon-148.jpg  \n",
            "  inflating: images/raccoon-109.jpg  \n",
            "  inflating: images/raccoon-49.jpg   \n",
            "  inflating: images/raccoon-47.jpg   \n",
            "  inflating: images/raccoon-16.jpg   \n",
            "  inflating: images/raccoon-116.jpg  \n",
            "  inflating: images/raccoon-191.jpg  \n",
            "  inflating: images/raccoon-63.jpg   \n",
            "  inflating: images/raccoon-107.jpg  \n",
            "  inflating: images/raccoon-155.jpg  \n",
            "  inflating: images/raccoon-12.jpg   \n",
            "  inflating: images/raccoon-99.jpg   \n",
            "  inflating: images/raccoon-168.jpg  \n",
            "  inflating: images/raccoon-133.jpg  \n",
            "  inflating: images/raccoon-178.jpg  \n",
            "  inflating: images/raccoon-160.jpg  \n",
            "  inflating: images/raccoon-177.jpg  \n",
            "  inflating: images/raccoon-96.jpg   \n",
            "  inflating: images/raccoon-183.jpg  \n",
            "  inflating: images/raccoon-179.jpg  \n",
            "  inflating: images/raccoon-81.jpg   \n",
            "  inflating: images/raccoon-142.jpg  \n",
            "  inflating: images/raccoon-139.jpg  \n",
            "  inflating: images/raccoon-52.jpg   \n",
            "  inflating: images/raccoon-103.jpg  \n",
            "  inflating: images/raccoon-82.jpg   \n",
            "  inflating: images/raccoon-150.jpg  \n",
            "  inflating: images/raccoon-13.jpg   \n",
            "  inflating: images/raccoon-136.jpg  \n",
            "  inflating: images/raccoon-37.jpg   \n",
            "  inflating: images/raccoon-128.jpg  \n",
            "  inflating: images/raccoon-180.jpg  \n",
            "  inflating: images/raccoon-56.jpg   \n",
            "  inflating: images/raccoon-7.jpg    \n",
            "  inflating: images/raccoon-20.jpg   \n",
            "  inflating: images/raccoon-77.jpg   \n",
            "  inflating: images/raccoon-181.jpg  \n",
            "  inflating: images/raccoon-140.jpg  \n",
            "  inflating: images/raccoon-143.jpg  \n",
            "  inflating: images/raccoon-119.jpg  \n",
            "  inflating: images/raccoon-25.jpg   \n",
            "  inflating: images/raccoon-146.jpg  \n",
            "  inflating: images/raccoon-161.jpg  \n",
            "  inflating: images/raccoon-102.jpg  \n",
            "  inflating: images/raccoon-39.jpg   \n",
            "  inflating: images/raccoon-158.jpg  \n",
            "  inflating: images/raccoon-101.jpg  \n",
            "  inflating: images/raccoon-163.jpg  \n",
            "  inflating: images/raccoon-9.jpg    \n",
            "  inflating: images/raccoon-189.jpg  \n",
            "  inflating: images/raccoon-121.jpg  \n",
            "  inflating: images/raccoon-170.jpg  \n",
            "  inflating: images/raccoon-123.jpg  \n",
            "  inflating: images/raccoon-24.jpg   \n",
            "  inflating: images/raccoon-132.jpg  \n",
            "  inflating: images/raccoon-41.jpg   \n",
            "  inflating: images/raccoon-118.jpg  \n",
            "  inflating: images/raccoon-108.jpg  \n",
            "  inflating: images/raccoon-48.jpg   \n",
            "  inflating: images/raccoon-34.jpg   \n",
            "  inflating: images/raccoon-30.jpg   \n",
            "  inflating: images/raccoon-5.jpg    \n",
            "  inflating: images/raccoon-67.jpg   \n",
            "  inflating: images/raccoon-169.jpg  \n",
            "  inflating: images/raccoon-156.jpg  \n",
            "  inflating: images/raccoon-195.jpg  \n",
            "  inflating: images/raccoon-72.jpg   \n",
            "  inflating: images/raccoon-164.jpg  \n",
            "  inflating: images/raccoon-175.jpg  \n",
            "  inflating: images/raccoon-174.jpg  \n",
            "  inflating: images/raccoon-129.jpg  \n",
            "  inflating: images/raccoon-1.jpg    \n",
            "  inflating: images/raccoon-182.jpg  \n",
            "  inflating: images/raccoon-61.jpg   \n",
            "  inflating: images/raccoon-35.jpg   \n",
            "  inflating: images/raccoon-65.jpg   \n",
            "  inflating: images/raccoon-31.jpg   \n",
            "  inflating: images/raccoon-28.jpg   \n",
            "  inflating: images/raccoon-87.jpg   \n",
            "  inflating: images/raccoon-40.jpg   \n",
            "  inflating: images/raccoon-173.jpg  \n",
            "  inflating: images/raccoon-14.jpg   \n",
            "  inflating: images/raccoon-127.jpg  \n",
            "  inflating: images/raccoon-98.jpg   \n",
            "  inflating: images/raccoon-106.jpg  \n",
            "  inflating: images/raccoon-69.jpg   \n",
            "  inflating: images/raccoon-196.jpg  \n",
            "  inflating: images/raccoon-74.jpg   \n",
            "  inflating: images/raccoon-83.jpg   \n",
            "  inflating: images/raccoon-131.jpg  \n",
            "  inflating: images/raccoon-71.jpg   \n",
            "  inflating: images/raccoon-165.jpg  \n",
            "  inflating: images/raccoon-100.jpg  \n",
            "  inflating: images/raccoon-89.jpg   \n",
            "  inflating: images/raccoon-3.jpg    \n",
            "  inflating: images/raccoon-95.jpg   \n",
            "  inflating: images/raccoon-197.jpg  \n",
            "  inflating: images/raccoon-10.jpg   \n",
            "  inflating: images/raccoon-68.jpg   \n",
            "  inflating: images/raccoon-32.jpg   \n",
            "  inflating: images/raccoon-22.jpg   \n",
            "  inflating: images/raccoon-60.jpg   \n",
            "  inflating: images/raccoon-76.jpg   \n",
            "  inflating: images/raccoon-73.jpg   \n",
            "  inflating: images/raccoon-144.jpg  \n",
            "  inflating: images/raccoon-45.jpg   \n",
            "  inflating: images/raccoon-135.jpg  \n",
            "  inflating: images/raccoon-115.jpg  \n",
            "  inflating: images/raccoon-200.jpg  \n",
            "  inflating: images/raccoon-18.jpg   \n",
            "  inflating: images/raccoon-188.jpg  \n",
            "  inflating: images/raccoon-159.jpg  \n",
            "  inflating: images/raccoon-8.jpg    \n",
            "  inflating: images/raccoon-19.jpg   \n",
            "  inflating: images/raccoon-112.jpg  \n",
            "  inflating: images/raccoon-59.jpg   \n",
            "  inflating: images/raccoon-38.jpg   \n",
            "  inflating: images/raccoon-62.jpg   \n",
            "  inflating: images/raccoon-110.jpg  \n",
            "  inflating: images/raccoon-15.jpg   \n",
            "  inflating: images/raccoon-130.jpg  \n",
            "  inflating: images/raccoon-105.jpg  \n",
            "  inflating: images/raccoon-23.jpg   \n",
            "  inflating: images/raccoon-55.jpg   \n",
            "  inflating: images/raccoon-192.jpg  \n",
            "  inflating: images/raccoon-80.jpg   \n",
            "  inflating: images/raccoon-29.jpg   \n",
            "  inflating: images/raccoon-88.jpg   \n",
            "  inflating: images/raccoon-190.jpg  \n",
            "  inflating: images/raccoon-171.jpg  \n",
            "  inflating: images/raccoon-157.jpg  \n",
            "  inflating: images/raccoon-113.jpg  \n",
            "  inflating: images/raccoon-27.jpg   \n",
            "  inflating: images/raccoon-26.jpg   \n",
            "  inflating: images/raccoon-33.jpg   \n",
            "  inflating: images/raccoon-193.jpg  \n",
            "  inflating: images/raccoon-21.jpg   \n",
            "  inflating: images/raccoon-134.jpg  \n",
            "  inflating: images/raccoon-58.jpg   \n",
            "  inflating: images/raccoon-42.jpg   \n",
            "  inflating: images/raccoon-2.jpg    \n",
            "  inflating: images/raccoon-149.jpg  \n",
            "  inflating: images/raccoon-94.jpg   \n",
            "  inflating: images/raccoon-36.jpg   \n",
            "  inflating: images/raccoon-46.jpg   \n",
            "  inflating: images/raccoon-198.jpg  \n",
            "  inflating: images/raccoon-70.jpg   \n",
            "  inflating: images/raccoon-126.jpg  \n",
            "  inflating: images/raccoon-162.jpg  \n",
            "  inflating: images/raccoon-90.jpg   \n",
            "  inflating: images/raccoon-120.jpg  \n",
            "  inflating: images/raccoon-11.jpg   \n",
            "  inflating: images/raccoon-147.jpg  \n",
            "  inflating: images/raccoon-43.jpg   \n",
            "  inflating: images/raccoon-138.jpg  \n",
            "  inflating: images/raccoon-185.jpg  \n",
            "  inflating: images/raccoon-194.jpg  \n",
            "  inflating: images/raccoon-86.jpg   \n",
            "  inflating: images/raccoon-6.jpg    \n",
            "  inflating: images/raccoon-93.jpg   \n",
            "  inflating: images/raccoon-50.jpg   \n",
            "  inflating: images/raccoon-51.jpg   \n",
            "  inflating: images/raccoon-184.jpg  \n",
            "  inflating: images/raccoon-125.jpg  \n",
            "  inflating: images/raccoon-122.jpg  \n",
            "  inflating: images/raccoon-66.jpg   \n",
            "  inflating: images/raccoon-152.jpg  \n",
            "  inflating: images/raccoon-97.jpg   \n",
            "  inflating: images/raccoon-85.jpg   \n",
            "  inflating: images/raccoon-117.jpg  \n",
            "  inflating: images/raccoon-92.jpg   \n"
          ],
          "name": "stdout"
        }
      ]
    },
    {
      "cell_type": "markdown",
      "metadata": {
        "id": "lwxBtvYRWGii"
      },
      "source": [
        "### Load the training data from train.csv file"
      ]
    },
    {
      "cell_type": "code",
      "metadata": {
        "id": "wiTjjKtpWGij"
      },
      "source": [
        " train = pd.read_csv(project_path + 'train_labels.csv')"
      ],
      "execution_count": 92,
      "outputs": []
    },
    {
      "cell_type": "code",
      "metadata": {
        "colab": {
          "base_uri": "https://localhost:8080/",
          "height": 202
        },
        "id": "kBAfcN6wdYOz",
        "outputId": "2a73aa82-9837-417e-e6d9-f7099a455ce5"
      },
      "source": [
        "train.head()"
      ],
      "execution_count": 93,
      "outputs": [
        {
          "output_type": "execute_result",
          "data": {
            "text/html": [
              "<div>\n",
              "<style scoped>\n",
              "    .dataframe tbody tr th:only-of-type {\n",
              "        vertical-align: middle;\n",
              "    }\n",
              "\n",
              "    .dataframe tbody tr th {\n",
              "        vertical-align: top;\n",
              "    }\n",
              "\n",
              "    .dataframe thead th {\n",
              "        text-align: right;\n",
              "    }\n",
              "</style>\n",
              "<table border=\"1\" class=\"dataframe\">\n",
              "  <thead>\n",
              "    <tr style=\"text-align: right;\">\n",
              "      <th></th>\n",
              "      <th>filename</th>\n",
              "      <th>width</th>\n",
              "      <th>height</th>\n",
              "      <th>class</th>\n",
              "      <th>xmin</th>\n",
              "      <th>ymin</th>\n",
              "      <th>xmax</th>\n",
              "      <th>ymax</th>\n",
              "    </tr>\n",
              "  </thead>\n",
              "  <tbody>\n",
              "    <tr>\n",
              "      <th>0</th>\n",
              "      <td>raccoon-17.jpg</td>\n",
              "      <td>259</td>\n",
              "      <td>194</td>\n",
              "      <td>raccoon</td>\n",
              "      <td>95</td>\n",
              "      <td>60</td>\n",
              "      <td>167</td>\n",
              "      <td>118</td>\n",
              "    </tr>\n",
              "    <tr>\n",
              "      <th>1</th>\n",
              "      <td>raccoon-11.jpg</td>\n",
              "      <td>660</td>\n",
              "      <td>432</td>\n",
              "      <td>raccoon</td>\n",
              "      <td>3</td>\n",
              "      <td>1</td>\n",
              "      <td>461</td>\n",
              "      <td>431</td>\n",
              "    </tr>\n",
              "    <tr>\n",
              "      <th>2</th>\n",
              "      <td>raccoon-63.jpg</td>\n",
              "      <td>600</td>\n",
              "      <td>400</td>\n",
              "      <td>raccoon</td>\n",
              "      <td>74</td>\n",
              "      <td>107</td>\n",
              "      <td>280</td>\n",
              "      <td>290</td>\n",
              "    </tr>\n",
              "    <tr>\n",
              "      <th>3</th>\n",
              "      <td>raccoon-63.jpg</td>\n",
              "      <td>600</td>\n",
              "      <td>400</td>\n",
              "      <td>raccoon</td>\n",
              "      <td>227</td>\n",
              "      <td>93</td>\n",
              "      <td>403</td>\n",
              "      <td>298</td>\n",
              "    </tr>\n",
              "    <tr>\n",
              "      <th>4</th>\n",
              "      <td>raccoon-60.jpg</td>\n",
              "      <td>273</td>\n",
              "      <td>185</td>\n",
              "      <td>raccoon</td>\n",
              "      <td>58</td>\n",
              "      <td>33</td>\n",
              "      <td>197</td>\n",
              "      <td>127</td>\n",
              "    </tr>\n",
              "  </tbody>\n",
              "</table>\n",
              "</div>"
            ],
            "text/plain": [
              "         filename  width  height    class  xmin  ymin  xmax  ymax\n",
              "0  raccoon-17.jpg    259     194  raccoon    95    60   167   118\n",
              "1  raccoon-11.jpg    660     432  raccoon     3     1   461   431\n",
              "2  raccoon-63.jpg    600     400  raccoon    74   107   280   290\n",
              "3  raccoon-63.jpg    600     400  raccoon   227    93   403   298\n",
              "4  raccoon-60.jpg    273     185  raccoon    58    33   197   127"
            ]
          },
          "metadata": {
            "tags": []
          },
          "execution_count": 93
        }
      ]
    },
    {
      "cell_type": "markdown",
      "metadata": {
        "id": "-F3CkYxUWGin"
      },
      "source": [
        "### Print the shape of the train dataset"
      ]
    },
    {
      "cell_type": "code",
      "metadata": {
        "id": "uRz_MtnvWGip",
        "colab": {
          "base_uri": "https://localhost:8080/"
        },
        "outputId": "8cfa8507-b8e1-4edb-9f0b-0b873bb49c32"
      },
      "source": [
        "train.shape"
      ],
      "execution_count": 94,
      "outputs": [
        {
          "output_type": "execute_result",
          "data": {
            "text/plain": [
              "(173, 8)"
            ]
          },
          "metadata": {
            "tags": []
          },
          "execution_count": 94
        }
      ]
    },
    {
      "cell_type": "markdown",
      "metadata": {
        "id": "axf5m10eWGis"
      },
      "source": [
        "### Declare a variable IMAGE_SIZE = 128 as we will be using MobileNet which will be taking Input shape as 128 * 128 "
      ]
    },
    {
      "cell_type": "code",
      "metadata": {
        "id": "7ayEk2c9WGit"
      },
      "source": [
        "IMAGE_SIZE = 128"
      ],
      "execution_count": 95,
      "outputs": []
    },
    {
      "cell_type": "markdown",
      "metadata": {
        "id": "wbrrYb5IWGix"
      },
      "source": [
        "### With the help of csv.reader write a for loop which can load the train.csv file and store the path, width, height, x0,y0,x1,y1 in induvidual variables. <br>\n",
        "1. Create a list variable known as 'path' which has all the path for all the training images\n",
        "2. Create an array 'coords' which has the resized coordinates of the bounding box for the training images\n",
        "\n",
        "<u>Note:</u> All the training images should be downsampled to 128 * 128 as it is the input shape of MobileNet (which we will be using for Object detection). Hence the corresponding coordinates of the bounding boxes should be changed to match the image dimension of 128 * 128 "
      ]
    },
    {
      "cell_type": "code",
      "metadata": {
        "colab": {
          "base_uri": "https://localhost:8080/"
        },
        "id": "qVKnynAbiP0i",
        "outputId": "681358e8-077e-4162-f3ad-1e78621e8ba6"
      },
      "source": [
        "train['xmin'][0]"
      ],
      "execution_count": 96,
      "outputs": [
        {
          "output_type": "execute_result",
          "data": {
            "text/plain": [
              "95"
            ]
          },
          "metadata": {
            "tags": []
          },
          "execution_count": 96
        }
      ]
    },
    {
      "cell_type": "code",
      "metadata": {
        "id": "twSTiPpRWGiy"
      },
      "source": [
        "# path = []\r\n",
        "# coords = []\r\n",
        "# for index, row in train.index:\r\n",
        "#   path.append(train['filename'][index])\r\n",
        "#   coords.append([train['xmin'][index]*IMAGE_SIZE/train['width'][index],\r\n",
        "#                 train['ymin'][index]*IMAGE_SIZE/train['height'][index],\r\n",
        "#                 train['xmax'][index]*IMAGE_SIZE/train['width'][index],\r\n",
        "#                 train['ymax'][index]*IMAGE_SIZE/train['height'][index]])"
      ],
      "execution_count": 97,
      "outputs": []
    },
    {
      "cell_type": "code",
      "metadata": {
        "id": "bfA5ljZqK2bH"
      },
      "source": [
        "path = []\r\n",
        "coords = []\r\n",
        "for i, row in train.iterrows():\r\n",
        "  filename,\twidth,\theight,\tclass_,\txmin,\tymin,\txmax,\tymax = row\r\n",
        "  xmin = xmin*IMAGE_SIZE/width\r\n",
        "  ymin = ymin*IMAGE_SIZE/height\r\n",
        "  xmax = xmax*IMAGE_SIZE/width\r\n",
        "  ymax = ymax*IMAGE_SIZE/height\r\n",
        "  path.append(filename)\r\n",
        "  coords.append([xmin, ymin, xmax, ymax])"
      ],
      "execution_count": 231,
      "outputs": []
    },
    {
      "cell_type": "code",
      "metadata": {
        "id": "muDzHnKDh_Ut"
      },
      "source": [
        "coords = np.array(coords)"
      ],
      "execution_count": 232,
      "outputs": []
    },
    {
      "cell_type": "code",
      "metadata": {
        "colab": {
          "base_uri": "https://localhost:8080/"
        },
        "id": "0OD1wGeDmy-3",
        "outputId": "8190b4d1-9adc-4e73-f59a-56af266bce41"
      },
      "source": [
        "coords.shape"
      ],
      "execution_count": 233,
      "outputs": [
        {
          "output_type": "execute_result",
          "data": {
            "text/plain": [
              "(173, 4)"
            ]
          },
          "metadata": {
            "tags": []
          },
          "execution_count": 233
        }
      ]
    },
    {
      "cell_type": "markdown",
      "metadata": {
        "id": "kbiCTLKcJQhc"
      },
      "source": [
        "Alternate way to read the csv"
      ]
    },
    {
      "cell_type": "code",
      "metadata": {
        "id": "O00Skd-aFEQV"
      },
      "source": [
        "# import csv"
      ],
      "execution_count": 207,
      "outputs": []
    },
    {
      "cell_type": "code",
      "metadata": {
        "id": "GxAprAivFHKD"
      },
      "source": [
        "# coords_1 = []\r\n",
        "# paths_1 = []\r\n",
        "# with open('train_labels.csv', 'r') as csvfile:\r\n",
        "#   read_l = csv.reader(csvfile, delimiter=',')\r\n",
        "#   next(read_l)\r\n",
        "\r\n",
        "#   for i, row in enumerate(read_l):\r\n",
        "#     xmin = int(row[4])*IMAGE_SIZE/int(row[1])\r\n",
        "#     xmax = int(row[-2])*IMAGE_SIZE/int(row[1])\r\n",
        "#     ymin = int(row[5])*IMAGE_SIZE/int(row[2])\r\n",
        "#     ymax = int(row[-1])*IMAGE_SIZE/int(row[2])\r\n",
        "#     coord=[xmin, ymin, xmax, ymax]\r\n",
        "#     coords_1.append(coord)\r\n",
        "#     paths_1.append(row[0])"
      ],
      "execution_count": 217,
      "outputs": []
    },
    {
      "cell_type": "code",
      "metadata": {
        "colab": {
          "base_uri": "https://localhost:8080/"
        },
        "id": "fqYwvfm7IY5a",
        "outputId": "9c81ea64-78f4-4996-8f08-7ee374322a99"
      },
      "source": [
        "# coords_1 = np.array(coords_1)\r\n",
        "# coords_1.shape"
      ],
      "execution_count": 221,
      "outputs": [
        {
          "output_type": "execute_result",
          "data": {
            "text/plain": [
              "(173, 4)"
            ]
          },
          "metadata": {
            "tags": []
          },
          "execution_count": 221
        }
      ]
    },
    {
      "cell_type": "markdown",
      "metadata": {
        "id": "Z9iZWEpKWGi2"
      },
      "source": [
        "### Write a for loop which can load all the training images into a variable 'batch_images' using the paths from the 'paths' variable\n",
        "<u>Note:</u> Convert the image to RGB scale as the MobileNet accepts 3 channels as inputs   "
      ]
    },
    {
      "cell_type": "code",
      "metadata": {
        "id": "7jpShlHwsLab"
      },
      "source": [
        " batch_images = np.zeros((len(path), IMAGE_SIZE, IMAGE_SIZE, 3), dtype=np.float32)"
      ],
      "execution_count": 111,
      "outputs": []
    },
    {
      "cell_type": "code",
      "metadata": {
        "id": "h6e99qquWGi3"
      },
      "source": [
        " for i, f in enumerate(path):\r\n",
        "      img = Image.open('images/' + f) # Read image\r\n",
        "      img = img.resize((IMAGE_SIZE, IMAGE_SIZE)) # Resize image\r\n",
        "      img = img.convert('RGB')\r\n",
        "      batch_images[i] = preprocess_input(np.array(img, dtype=np.float32))\r\n",
        "      # batch_images[i] = preprocess_input(np.array(img, dtype=np.float32)) # Convert to float32 array\r\n",
        "      img.close()"
      ],
      "execution_count": 112,
      "outputs": []
    },
    {
      "cell_type": "code",
      "metadata": {
        "colab": {
          "base_uri": "https://localhost:8080/"
        },
        "id": "uHd59IhCymLY",
        "outputId": "b15d9493-7d3a-4444-8f27-310c8d67751f"
      },
      "source": [
        "batch_images.shape"
      ],
      "execution_count": 113,
      "outputs": [
        {
          "output_type": "execute_result",
          "data": {
            "text/plain": [
              "(173, 128, 128, 3)"
            ]
          },
          "metadata": {
            "tags": []
          },
          "execution_count": 113
        }
      ]
    },
    {
      "cell_type": "markdown",
      "metadata": {
        "id": "C9KU6pUTWGi9"
      },
      "source": [
        "### Import MobileNet and load MobileNet into a variable named 'model' which takes input shape of 128 * 128 * 3. Freeze all the layers. Add convolution and reshape layers at the end to ensure the output is 4 coordinates"
      ]
    },
    {
      "cell_type": "code",
      "metadata": {
        "id": "nosEtf1lWGi-"
      },
      "source": [
        "model = MobileNet(input_shape=(IMAGE_SIZE, IMAGE_SIZE, 3), include_top=False, alpha=1.0)\r\n",
        "\r\n",
        "for layer in model.layers:\r\n",
        "    layer.trainable = False\r\n",
        "\r\n",
        "x = model.layers[-1].output # Add output to the last layer\r\n",
        "x = Conv2D(4, kernel_size=4)(x)\r\n",
        "x = Reshape((4,))(x)\r\n",
        "\r\n",
        "model= Model(inputs = model.input, outputs=x)"
      ],
      "execution_count": 123,
      "outputs": []
    },
    {
      "cell_type": "code",
      "metadata": {
        "colab": {
          "base_uri": "https://localhost:8080/"
        },
        "id": "7YE-WYbS0OtW",
        "outputId": "4e5c598f-e2d8-4ff5-89d2-153e83a19009"
      },
      "source": [
        "model.summary()"
      ],
      "execution_count": 124,
      "outputs": [
        {
          "output_type": "stream",
          "text": [
            "Model: \"model_2\"\n",
            "_________________________________________________________________\n",
            "Layer (type)                 Output Shape              Param #   \n",
            "=================================================================\n",
            "input_3 (InputLayer)         [(None, 128, 128, 3)]     0         \n",
            "_________________________________________________________________\n",
            "conv1 (Conv2D)               (None, 64, 64, 32)        864       \n",
            "_________________________________________________________________\n",
            "conv1_bn (BatchNormalization (None, 64, 64, 32)        128       \n",
            "_________________________________________________________________\n",
            "conv1_relu (ReLU)            (None, 64, 64, 32)        0         \n",
            "_________________________________________________________________\n",
            "conv_dw_1 (DepthwiseConv2D)  (None, 64, 64, 32)        288       \n",
            "_________________________________________________________________\n",
            "conv_dw_1_bn (BatchNormaliza (None, 64, 64, 32)        128       \n",
            "_________________________________________________________________\n",
            "conv_dw_1_relu (ReLU)        (None, 64, 64, 32)        0         \n",
            "_________________________________________________________________\n",
            "conv_pw_1 (Conv2D)           (None, 64, 64, 64)        2048      \n",
            "_________________________________________________________________\n",
            "conv_pw_1_bn (BatchNormaliza (None, 64, 64, 64)        256       \n",
            "_________________________________________________________________\n",
            "conv_pw_1_relu (ReLU)        (None, 64, 64, 64)        0         \n",
            "_________________________________________________________________\n",
            "conv_pad_2 (ZeroPadding2D)   (None, 65, 65, 64)        0         \n",
            "_________________________________________________________________\n",
            "conv_dw_2 (DepthwiseConv2D)  (None, 32, 32, 64)        576       \n",
            "_________________________________________________________________\n",
            "conv_dw_2_bn (BatchNormaliza (None, 32, 32, 64)        256       \n",
            "_________________________________________________________________\n",
            "conv_dw_2_relu (ReLU)        (None, 32, 32, 64)        0         \n",
            "_________________________________________________________________\n",
            "conv_pw_2 (Conv2D)           (None, 32, 32, 128)       8192      \n",
            "_________________________________________________________________\n",
            "conv_pw_2_bn (BatchNormaliza (None, 32, 32, 128)       512       \n",
            "_________________________________________________________________\n",
            "conv_pw_2_relu (ReLU)        (None, 32, 32, 128)       0         \n",
            "_________________________________________________________________\n",
            "conv_dw_3 (DepthwiseConv2D)  (None, 32, 32, 128)       1152      \n",
            "_________________________________________________________________\n",
            "conv_dw_3_bn (BatchNormaliza (None, 32, 32, 128)       512       \n",
            "_________________________________________________________________\n",
            "conv_dw_3_relu (ReLU)        (None, 32, 32, 128)       0         \n",
            "_________________________________________________________________\n",
            "conv_pw_3 (Conv2D)           (None, 32, 32, 128)       16384     \n",
            "_________________________________________________________________\n",
            "conv_pw_3_bn (BatchNormaliza (None, 32, 32, 128)       512       \n",
            "_________________________________________________________________\n",
            "conv_pw_3_relu (ReLU)        (None, 32, 32, 128)       0         \n",
            "_________________________________________________________________\n",
            "conv_pad_4 (ZeroPadding2D)   (None, 33, 33, 128)       0         \n",
            "_________________________________________________________________\n",
            "conv_dw_4 (DepthwiseConv2D)  (None, 16, 16, 128)       1152      \n",
            "_________________________________________________________________\n",
            "conv_dw_4_bn (BatchNormaliza (None, 16, 16, 128)       512       \n",
            "_________________________________________________________________\n",
            "conv_dw_4_relu (ReLU)        (None, 16, 16, 128)       0         \n",
            "_________________________________________________________________\n",
            "conv_pw_4 (Conv2D)           (None, 16, 16, 256)       32768     \n",
            "_________________________________________________________________\n",
            "conv_pw_4_bn (BatchNormaliza (None, 16, 16, 256)       1024      \n",
            "_________________________________________________________________\n",
            "conv_pw_4_relu (ReLU)        (None, 16, 16, 256)       0         \n",
            "_________________________________________________________________\n",
            "conv_dw_5 (DepthwiseConv2D)  (None, 16, 16, 256)       2304      \n",
            "_________________________________________________________________\n",
            "conv_dw_5_bn (BatchNormaliza (None, 16, 16, 256)       1024      \n",
            "_________________________________________________________________\n",
            "conv_dw_5_relu (ReLU)        (None, 16, 16, 256)       0         \n",
            "_________________________________________________________________\n",
            "conv_pw_5 (Conv2D)           (None, 16, 16, 256)       65536     \n",
            "_________________________________________________________________\n",
            "conv_pw_5_bn (BatchNormaliza (None, 16, 16, 256)       1024      \n",
            "_________________________________________________________________\n",
            "conv_pw_5_relu (ReLU)        (None, 16, 16, 256)       0         \n",
            "_________________________________________________________________\n",
            "conv_pad_6 (ZeroPadding2D)   (None, 17, 17, 256)       0         \n",
            "_________________________________________________________________\n",
            "conv_dw_6 (DepthwiseConv2D)  (None, 8, 8, 256)         2304      \n",
            "_________________________________________________________________\n",
            "conv_dw_6_bn (BatchNormaliza (None, 8, 8, 256)         1024      \n",
            "_________________________________________________________________\n",
            "conv_dw_6_relu (ReLU)        (None, 8, 8, 256)         0         \n",
            "_________________________________________________________________\n",
            "conv_pw_6 (Conv2D)           (None, 8, 8, 512)         131072    \n",
            "_________________________________________________________________\n",
            "conv_pw_6_bn (BatchNormaliza (None, 8, 8, 512)         2048      \n",
            "_________________________________________________________________\n",
            "conv_pw_6_relu (ReLU)        (None, 8, 8, 512)         0         \n",
            "_________________________________________________________________\n",
            "conv_dw_7 (DepthwiseConv2D)  (None, 8, 8, 512)         4608      \n",
            "_________________________________________________________________\n",
            "conv_dw_7_bn (BatchNormaliza (None, 8, 8, 512)         2048      \n",
            "_________________________________________________________________\n",
            "conv_dw_7_relu (ReLU)        (None, 8, 8, 512)         0         \n",
            "_________________________________________________________________\n",
            "conv_pw_7 (Conv2D)           (None, 8, 8, 512)         262144    \n",
            "_________________________________________________________________\n",
            "conv_pw_7_bn (BatchNormaliza (None, 8, 8, 512)         2048      \n",
            "_________________________________________________________________\n",
            "conv_pw_7_relu (ReLU)        (None, 8, 8, 512)         0         \n",
            "_________________________________________________________________\n",
            "conv_dw_8 (DepthwiseConv2D)  (None, 8, 8, 512)         4608      \n",
            "_________________________________________________________________\n",
            "conv_dw_8_bn (BatchNormaliza (None, 8, 8, 512)         2048      \n",
            "_________________________________________________________________\n",
            "conv_dw_8_relu (ReLU)        (None, 8, 8, 512)         0         \n",
            "_________________________________________________________________\n",
            "conv_pw_8 (Conv2D)           (None, 8, 8, 512)         262144    \n",
            "_________________________________________________________________\n",
            "conv_pw_8_bn (BatchNormaliza (None, 8, 8, 512)         2048      \n",
            "_________________________________________________________________\n",
            "conv_pw_8_relu (ReLU)        (None, 8, 8, 512)         0         \n",
            "_________________________________________________________________\n",
            "conv_dw_9 (DepthwiseConv2D)  (None, 8, 8, 512)         4608      \n",
            "_________________________________________________________________\n",
            "conv_dw_9_bn (BatchNormaliza (None, 8, 8, 512)         2048      \n",
            "_________________________________________________________________\n",
            "conv_dw_9_relu (ReLU)        (None, 8, 8, 512)         0         \n",
            "_________________________________________________________________\n",
            "conv_pw_9 (Conv2D)           (None, 8, 8, 512)         262144    \n",
            "_________________________________________________________________\n",
            "conv_pw_9_bn (BatchNormaliza (None, 8, 8, 512)         2048      \n",
            "_________________________________________________________________\n",
            "conv_pw_9_relu (ReLU)        (None, 8, 8, 512)         0         \n",
            "_________________________________________________________________\n",
            "conv_dw_10 (DepthwiseConv2D) (None, 8, 8, 512)         4608      \n",
            "_________________________________________________________________\n",
            "conv_dw_10_bn (BatchNormaliz (None, 8, 8, 512)         2048      \n",
            "_________________________________________________________________\n",
            "conv_dw_10_relu (ReLU)       (None, 8, 8, 512)         0         \n",
            "_________________________________________________________________\n",
            "conv_pw_10 (Conv2D)          (None, 8, 8, 512)         262144    \n",
            "_________________________________________________________________\n",
            "conv_pw_10_bn (BatchNormaliz (None, 8, 8, 512)         2048      \n",
            "_________________________________________________________________\n",
            "conv_pw_10_relu (ReLU)       (None, 8, 8, 512)         0         \n",
            "_________________________________________________________________\n",
            "conv_dw_11 (DepthwiseConv2D) (None, 8, 8, 512)         4608      \n",
            "_________________________________________________________________\n",
            "conv_dw_11_bn (BatchNormaliz (None, 8, 8, 512)         2048      \n",
            "_________________________________________________________________\n",
            "conv_dw_11_relu (ReLU)       (None, 8, 8, 512)         0         \n",
            "_________________________________________________________________\n",
            "conv_pw_11 (Conv2D)          (None, 8, 8, 512)         262144    \n",
            "_________________________________________________________________\n",
            "conv_pw_11_bn (BatchNormaliz (None, 8, 8, 512)         2048      \n",
            "_________________________________________________________________\n",
            "conv_pw_11_relu (ReLU)       (None, 8, 8, 512)         0         \n",
            "_________________________________________________________________\n",
            "conv_pad_12 (ZeroPadding2D)  (None, 9, 9, 512)         0         \n",
            "_________________________________________________________________\n",
            "conv_dw_12 (DepthwiseConv2D) (None, 4, 4, 512)         4608      \n",
            "_________________________________________________________________\n",
            "conv_dw_12_bn (BatchNormaliz (None, 4, 4, 512)         2048      \n",
            "_________________________________________________________________\n",
            "conv_dw_12_relu (ReLU)       (None, 4, 4, 512)         0         \n",
            "_________________________________________________________________\n",
            "conv_pw_12 (Conv2D)          (None, 4, 4, 1024)        524288    \n",
            "_________________________________________________________________\n",
            "conv_pw_12_bn (BatchNormaliz (None, 4, 4, 1024)        4096      \n",
            "_________________________________________________________________\n",
            "conv_pw_12_relu (ReLU)       (None, 4, 4, 1024)        0         \n",
            "_________________________________________________________________\n",
            "conv_dw_13 (DepthwiseConv2D) (None, 4, 4, 1024)        9216      \n",
            "_________________________________________________________________\n",
            "conv_dw_13_bn (BatchNormaliz (None, 4, 4, 1024)        4096      \n",
            "_________________________________________________________________\n",
            "conv_dw_13_relu (ReLU)       (None, 4, 4, 1024)        0         \n",
            "_________________________________________________________________\n",
            "conv_pw_13 (Conv2D)          (None, 4, 4, 1024)        1048576   \n",
            "_________________________________________________________________\n",
            "conv_pw_13_bn (BatchNormaliz (None, 4, 4, 1024)        4096      \n",
            "_________________________________________________________________\n",
            "conv_pw_13_relu (ReLU)       (None, 4, 4, 1024)        0         \n",
            "_________________________________________________________________\n",
            "conv2d_2 (Conv2D)            (None, 1, 1, 4)           65540     \n",
            "_________________________________________________________________\n",
            "reshape_2 (Reshape)          (None, 4)                 0         \n",
            "=================================================================\n",
            "Total params: 3,294,404\n",
            "Trainable params: 65,540\n",
            "Non-trainable params: 3,228,864\n",
            "_________________________________________________________________\n"
          ],
          "name": "stdout"
        }
      ]
    },
    {
      "cell_type": "markdown",
      "metadata": {
        "id": "nsQSHWgpWGjC"
      },
      "source": [
        "### Define a custom loss function IoU which calculates Intersection Over Union"
      ]
    },
    {
      "cell_type": "code",
      "metadata": {
        "id": "7Ig_Gsn-WGjD"
      },
      "source": [
        "def loss(gt,pred):\n",
        "    intersections = 0\n",
        "    unions = 0\n",
        "    diff_width = np.minimum(gt[:,0] + gt[:,2], pred[:,0] + pred[:,2]) - np.maximum(gt[:,0], pred[:,0])\n",
        "    diff_height = np.minimum(gt[:,1] + gt[:,3], pred[:,1] + pred[:,3]) - np.maximum(gt[:,1], pred[:,1])\n",
        "    intersection = diff_width * diff_height\n",
        "    \n",
        "    # Compute union\n",
        "    area_gt = gt[:,2] * gt[:,3]\n",
        "    area_pred = pred[:,2] * pred[:,3]\n",
        "    union = area_gt + area_pred - intersection\n",
        "\n",
        "#     Compute intersection and union over multiple boxes\n",
        "    for j, _ in enumerate(union):\n",
        "        if union[j] > 0 and intersection[j] > 0 and union[j] >= intersection[j]:\n",
        "            intersections += intersection[j]\n",
        "            unions += union[j]\n",
        "\n",
        "    # Compute IOU. Use epsilon to prevent division by zero\n",
        "    iou = np.round(intersections / (unions + epsilon()), 4)\n",
        "    iou = iou.astype(np.float32)\n",
        "    return iou\n",
        "\n",
        "def IoU(y_true, y_pred):\n",
        "    iou = tf.compat.v1.py_func(loss, [y_true, y_pred], tf.float32)\n",
        "    return iou"
      ],
      "execution_count": 142,
      "outputs": []
    },
    {
      "cell_type": "markdown",
      "metadata": {
        "id": "2Zs7VcSVWGjF"
      },
      "source": [
        "### Write model.compile function & model.fit function with: <br>\n",
        "1. Optimizer = Adam, Loss = 'mse' and metrics = IoU\n",
        "2. Epochs = 30, batch_size = 32, verbose = 1"
      ]
    },
    {
      "cell_type": "code",
      "metadata": {
        "id": "f35dLEJlWGjG"
      },
      "source": [
        "model.compile(loss=\"mse\", optimizer=\"Adam\", metrics=[IoU]) # Regression loss is MSE"
      ],
      "execution_count": 143,
      "outputs": []
    },
    {
      "cell_type": "code",
      "metadata": {
        "colab": {
          "base_uri": "https://localhost:8080/"
        },
        "id": "gUDKHgz-2LcU",
        "outputId": "30a83fc0-d7a1-48d9-d21b-982915c5b894"
      },
      "source": [
        "model.fit(x=batch_images, y=coords, epochs=30, batch_size=32, verbose=1)"
      ],
      "execution_count": 146,
      "outputs": [
        {
          "output_type": "stream",
          "text": [
            "Epoch 1/30\n",
            "6/6 [==============================] - 0s 51ms/step - loss: 2428.4890 - IoU: 0.1636\n",
            "Epoch 2/30\n",
            "6/6 [==============================] - 0s 15ms/step - loss: 434.1303 - IoU: 0.5267\n",
            "Epoch 3/30\n",
            "6/6 [==============================] - 0s 13ms/step - loss: 541.6721 - IoU: 0.5680\n",
            "Epoch 4/30\n",
            "6/6 [==============================] - 0s 14ms/step - loss: 447.5225 - IoU: 0.6097\n",
            "Epoch 5/30\n",
            "6/6 [==============================] - 0s 13ms/step - loss: 217.2583 - IoU: 0.6687\n",
            "Epoch 6/30\n",
            "6/6 [==============================] - 0s 14ms/step - loss: 190.5129 - IoU: 0.6541\n",
            "Epoch 7/30\n",
            "6/6 [==============================] - 0s 14ms/step - loss: 167.7480 - IoU: 0.6913\n",
            "Epoch 8/30\n",
            "6/6 [==============================] - 0s 13ms/step - loss: 122.3338 - IoU: 0.7355\n",
            "Epoch 9/30\n",
            "6/6 [==============================] - 0s 14ms/step - loss: 108.1069 - IoU: 0.7704\n",
            "Epoch 10/30\n",
            "6/6 [==============================] - 0s 13ms/step - loss: 101.3645 - IoU: 0.7786\n",
            "Epoch 11/30\n",
            "6/6 [==============================] - 0s 14ms/step - loss: 91.1261 - IoU: 0.7906\n",
            "Epoch 12/30\n",
            "6/6 [==============================] - 0s 13ms/step - loss: 82.6603 - IoU: 0.8051\n",
            "Epoch 13/30\n",
            "6/6 [==============================] - 0s 13ms/step - loss: 77.4490 - IoU: 0.8107\n",
            "Epoch 14/30\n",
            "6/6 [==============================] - 0s 13ms/step - loss: 72.2428 - IoU: 0.8195\n",
            "Epoch 15/30\n",
            "6/6 [==============================] - 0s 13ms/step - loss: 67.7933 - IoU: 0.8275\n",
            "Epoch 16/30\n",
            "6/6 [==============================] - 0s 13ms/step - loss: 65.8094 - IoU: 0.8277\n",
            "Epoch 17/30\n",
            "6/6 [==============================] - 0s 14ms/step - loss: 64.0709 - IoU: 0.8211\n",
            "Epoch 18/30\n",
            "6/6 [==============================] - 0s 13ms/step - loss: 62.5371 - IoU: 0.8338\n",
            "Epoch 19/30\n",
            "6/6 [==============================] - 0s 13ms/step - loss: 59.8280 - IoU: 0.8549\n",
            "Epoch 20/30\n",
            "6/6 [==============================] - 0s 13ms/step - loss: 58.0252 - IoU: 0.8425\n",
            "Epoch 21/30\n",
            "6/6 [==============================] - 0s 14ms/step - loss: 56.3482 - IoU: 0.8520\n",
            "Epoch 22/30\n",
            "6/6 [==============================] - 0s 14ms/step - loss: 58.0337 - IoU: 0.8432\n",
            "Epoch 23/30\n",
            "6/6 [==============================] - 0s 13ms/step - loss: 54.7432 - IoU: 0.8555\n",
            "Epoch 24/30\n",
            "6/6 [==============================] - 0s 13ms/step - loss: 54.3210 - IoU: 0.8473\n",
            "Epoch 25/30\n",
            "6/6 [==============================] - 0s 13ms/step - loss: 53.6041 - IoU: 0.8507\n",
            "Epoch 26/30\n",
            "6/6 [==============================] - 0s 14ms/step - loss: 53.9233 - IoU: 0.8564\n",
            "Epoch 27/30\n",
            "6/6 [==============================] - 0s 13ms/step - loss: 53.5939 - IoU: 0.8554\n",
            "Epoch 28/30\n",
            "6/6 [==============================] - 0s 13ms/step - loss: 53.7004 - IoU: 0.8649\n",
            "Epoch 29/30\n",
            "6/6 [==============================] - 0s 13ms/step - loss: 52.6655 - IoU: 0.8516\n",
            "Epoch 30/30\n",
            "6/6 [==============================] - 0s 13ms/step - loss: 52.7197 - IoU: 0.8525\n"
          ],
          "name": "stdout"
        },
        {
          "output_type": "execute_result",
          "data": {
            "text/plain": [
              "<tensorflow.python.keras.callbacks.History at 0x7f9a1fd6dc18>"
            ]
          },
          "metadata": {
            "tags": []
          },
          "execution_count": 146
        }
      ]
    },
    {
      "cell_type": "markdown",
      "metadata": {
        "id": "II1itmqiWGjK"
      },
      "source": [
        "### Pick a test image from the given data"
      ]
    },
    {
      "cell_type": "code",
      "metadata": {
        "id": "0ULErYeSWGjK"
      },
      "source": [
        "# im = Image.open(requests.get('https://static3.bigstockphoto.com/5/4/2/large2/2450455.jpg', stream=True).raw)\r\n",
        "im = Image.open(requests.get('https://static1.bigstockphoto.com/1/9/8/large2/89151176.jpg', stream=True).raw)"
      ],
      "execution_count": 198,
      "outputs": []
    },
    {
      "cell_type": "code",
      "metadata": {
        "id": "o_xyYA-PAZPv"
      },
      "source": [
        "image_height = im.height\r\n",
        "image_width = im.width"
      ],
      "execution_count": 199,
      "outputs": []
    },
    {
      "cell_type": "code",
      "metadata": {
        "colab": {
          "base_uri": "https://localhost:8080/"
        },
        "id": "MV2iNcPiAef-",
        "outputId": "3a354d71-4eaf-43b6-90c5-f219ff829fcc"
      },
      "source": [
        "image_height"
      ],
      "execution_count": 200,
      "outputs": [
        {
          "output_type": "execute_result",
          "data": {
            "text/plain": [
              "470"
            ]
          },
          "metadata": {
            "tags": []
          },
          "execution_count": 200
        }
      ]
    },
    {
      "cell_type": "code",
      "metadata": {
        "colab": {
          "base_uri": "https://localhost:8080/"
        },
        "id": "L11gtsezA6rZ",
        "outputId": "53e188d6-1ca1-4bbf-b46f-5a1902a0465f"
      },
      "source": [
        "image_width"
      ],
      "execution_count": 201,
      "outputs": [
        {
          "output_type": "execute_result",
          "data": {
            "text/plain": [
              "299"
            ]
          },
          "metadata": {
            "tags": []
          },
          "execution_count": 201
        }
      ]
    },
    {
      "cell_type": "markdown",
      "metadata": {
        "id": "h99SC9MjWGjO"
      },
      "source": [
        "### Resize the image to 128 * 128 and preprocess the image for the MobileNet model"
      ]
    },
    {
      "cell_type": "code",
      "metadata": {
        "id": "i9wJXE3E9rOJ"
      },
      "source": [
        "imResized = im.resize((IMAGE_SIZE, IMAGE_SIZE)) # Resize image\r\n",
        "imResized = imResized.convert('RGB')\r\n",
        "im_val = preprocess_input(np.array(imResized, dtype=np.float32))"
      ],
      "execution_count": 202,
      "outputs": []
    },
    {
      "cell_type": "code",
      "metadata": {
        "colab": {
          "base_uri": "https://localhost:8080/"
        },
        "id": "XljVGe8o-u0x",
        "outputId": "4b94e621-30c5-4aeb-e669-cc7ac50ace83"
      },
      "source": [
        "im_val.shape"
      ],
      "execution_count": 203,
      "outputs": [
        {
          "output_type": "execute_result",
          "data": {
            "text/plain": [
              "(128, 128, 3)"
            ]
          },
          "metadata": {
            "tags": []
          },
          "execution_count": 203
        }
      ]
    },
    {
      "cell_type": "markdown",
      "metadata": {
        "id": "aGK4IjdaWGjR"
      },
      "source": [
        "### Predict the coordinates of the bounding box for the given test image"
      ]
    },
    {
      "cell_type": "code",
      "metadata": {
        "id": "abnXH5F7WGjS"
      },
      "source": [
        "region = model.predict(np.array([im_val]))[0]"
      ],
      "execution_count": 204,
      "outputs": []
    },
    {
      "cell_type": "markdown",
      "metadata": {
        "id": "CXbjVdLWWGjW"
      },
      "source": [
        "### Plot the test image using .imshow and draw a boundary box around the image with the coordinates obtained from the model"
      ]
    },
    {
      "cell_type": "code",
      "metadata": {
        "id": "t4Ah05MlWGjY",
        "colab": {
          "base_uri": "https://localhost:8080/",
          "height": 269
        },
        "outputId": "26fa8a7e-21b2-4884-b24a-31c9fe21d6f7"
      },
      "source": [
        "x0 = int(region[0] * image_width / IMAGE_SIZE) # Scale the BBox\n",
        "y0 = int(region[1] * image_height / IMAGE_SIZE)\n",
        "\n",
        "x1 = int((region[2]) * image_width / IMAGE_SIZE)\n",
        "y1 = int((region[3]) * image_height / IMAGE_SIZE)\n",
        "\n",
        "\n",
        "import matplotlib.pyplot as plt\n",
        "import matplotlib.patches as patches\n",
        "from PIL import Image\n",
        "import numpy as np\n",
        "\n",
        "\n",
        "# Create figure and axes\n",
        "fig,ax = plt.subplots(1)\n",
        "\n",
        "# Display the image\n",
        "ax.imshow(im)\n",
        "\n",
        "# Create a Rectangle patch\n",
        "rect = patches.Rectangle((x0, y0), (x1 - x0) , (y1 - y0) , linewidth=2, edgecolor='r', facecolor='none')\n",
        "\n",
        "# Add the patch to the Axes\n",
        "ax.add_patch(rect)\n",
        "\n",
        "plt.show()"
      ],
      "execution_count": 205,
      "outputs": [
        {
          "output_type": "display_data",
          "data": {
            "image/png": "[encoded data removed]",
            "text/plain": [
              "<Figure size 432x288 with 1 Axes>"
            ]
          },
          "metadata": {
            "tags": [],
            "needs_background": "light"
          }
        }
      ]
    }
  ]
}